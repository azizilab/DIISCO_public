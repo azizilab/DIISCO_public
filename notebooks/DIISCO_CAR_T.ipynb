{
 "cells": [
  {
   "cell_type": "markdown",
   "id": "b199b76b",
   "metadata": {},
   "source": [
    "# CAR T Interaction Modeling with DIISCO"
   ]
  },
  {
   "cell_type": "code",
   "execution_count": 6,
   "id": "c182b18b",
   "metadata": {
    "ExecuteTime": {
     "end_time": "2022-11-17T14:11:36.749620Z",
     "start_time": "2022-11-17T14:11:24.046004Z"
    }
   },
   "outputs": [],
   "source": [
    "import pickle\n",
    "import numpy as np\n",
    "import pandas as pd\n",
    "import matplotlib.pyplot as plt\n",
    "import torch\n",
    "%matplotlib inline\n",
    "import seaborn as sns\n",
    "#import tensorflow as tf\n",
    "#from Scalable_GPRN.model.SGPRN import SGPRN\n",
    "from sklearn.gaussian_process import GaussianProcessRegressor\n",
    "from sklearn.gaussian_process.kernels import RBF\n",
    "import ipywidgets as widgets\n",
    "from ipywidgets import interact\n",
    "import matplotlib.pyplot as plt\n",
    "# reload edited modules always\n",
    "%load_ext autoreload\n",
    "%autoreload 2\n",
    "from diisco import DIISCO\n",
    "import diisco.names as names\n"
   ]
  },
  {
   "cell_type": "code",
   "execution_count": 7,
   "id": "b6f4cb4b",
   "metadata": {},
   "outputs": [],
   "source": [
    "torch.set_default_dtype(torch.float64)"
   ]
  },
  {
   "cell_type": "code",
   "execution_count": 8,
   "id": "c1c15f25",
   "metadata": {
    "ExecuteTime": {
     "end_time": "2022-05-26T17:47:20.023056Z",
     "start_time": "2022-05-26T17:47:20.021380Z"
    }
   },
   "outputs": [],
   "source": [
    "# df = pickle.load(open('data/CAR-T ratios and umap/CARD_ratios.pkl', \"rb\"))\n",
    "# cell_types = ['CLL', 'CD8+ T cells', 'Activated T cells', 'Exhausted T cells']\n",
    "# df.columns = cell_types + ['total_cells_per_sample']\n",
    "# # CARA expriment timestamps (hours post co-culture)\n",
    "# df.index = [0, 5/60, 15/60, 30/60, 1, 2, 4, 8.5, 12.5, 20.5]\n",
    "# df.index.name = 'Hours post co-culture'\n",
    "# df.to_csv('data/CAR-T ratios and umap/CARD_ratios_processed.pkl')"
   ]
  },
  {
   "cell_type": "markdown",
   "id": "f11f123d",
   "metadata": {
    "heading_collapsed": true
   },
   "source": [
    "## Experiment A"
   ]
  },
  {
   "cell_type": "code",
   "execution_count": 9,
   "id": "212a7052",
   "metadata": {
    "ExecuteTime": {
     "end_time": "2022-05-26T17:47:37.601852Z",
     "start_time": "2022-05-26T17:47:37.568194Z"
    },
    "hidden": true
   },
   "outputs": [
    {
     "data": {
      "text/html": [
       "<div>\n",
       "<style scoped>\n",
       "    .dataframe tbody tr th:only-of-type {\n",
       "        vertical-align: middle;\n",
       "    }\n",
       "\n",
       "    .dataframe tbody tr th {\n",
       "        vertical-align: top;\n",
       "    }\n",
       "\n",
       "    .dataframe thead th {\n",
       "        text-align: right;\n",
       "    }\n",
       "</style>\n",
       "<table border=\"1\" class=\"dataframe\">\n",
       "  <thead>\n",
       "    <tr style=\"text-align: right;\">\n",
       "      <th></th>\n",
       "      <th>CLL</th>\n",
       "      <th>Other CD8+ T cells</th>\n",
       "      <th>Activated T cells</th>\n",
       "      <th>Exhausted T cells</th>\n",
       "      <th>total_cells_per_sample</th>\n",
       "    </tr>\n",
       "    <tr>\n",
       "      <th>Hours post co-culture</th>\n",
       "      <th></th>\n",
       "      <th></th>\n",
       "      <th></th>\n",
       "      <th></th>\n",
       "      <th></th>\n",
       "    </tr>\n",
       "  </thead>\n",
       "  <tbody>\n",
       "    <tr>\n",
       "      <th>0.000000</th>\n",
       "      <td>0.752294</td>\n",
       "      <td>0.192661</td>\n",
       "      <td>0.045872</td>\n",
       "      <td>0.009174</td>\n",
       "      <td>109.0</td>\n",
       "    </tr>\n",
       "    <tr>\n",
       "      <th>0.083333</th>\n",
       "      <td>0.841463</td>\n",
       "      <td>0.121951</td>\n",
       "      <td>0.000000</td>\n",
       "      <td>0.036585</td>\n",
       "      <td>82.0</td>\n",
       "    </tr>\n",
       "    <tr>\n",
       "      <th>0.250000</th>\n",
       "      <td>0.785311</td>\n",
       "      <td>0.169492</td>\n",
       "      <td>0.028249</td>\n",
       "      <td>0.016949</td>\n",
       "      <td>177.0</td>\n",
       "    </tr>\n",
       "    <tr>\n",
       "      <th>0.500000</th>\n",
       "      <td>0.728745</td>\n",
       "      <td>0.222672</td>\n",
       "      <td>0.044534</td>\n",
       "      <td>0.004049</td>\n",
       "      <td>247.0</td>\n",
       "    </tr>\n",
       "    <tr>\n",
       "      <th>0.750000</th>\n",
       "      <td>0.837553</td>\n",
       "      <td>0.111814</td>\n",
       "      <td>0.042194</td>\n",
       "      <td>0.008439</td>\n",
       "      <td>474.0</td>\n",
       "    </tr>\n",
       "    <tr>\n",
       "      <th>1.000000</th>\n",
       "      <td>0.844660</td>\n",
       "      <td>0.101942</td>\n",
       "      <td>0.043689</td>\n",
       "      <td>0.009709</td>\n",
       "      <td>206.0</td>\n",
       "    </tr>\n",
       "    <tr>\n",
       "      <th>2.000000</th>\n",
       "      <td>0.752941</td>\n",
       "      <td>0.088235</td>\n",
       "      <td>0.132353</td>\n",
       "      <td>0.026471</td>\n",
       "      <td>340.0</td>\n",
       "    </tr>\n",
       "    <tr>\n",
       "      <th>4.000000</th>\n",
       "      <td>0.588486</td>\n",
       "      <td>0.063966</td>\n",
       "      <td>0.251599</td>\n",
       "      <td>0.095949</td>\n",
       "      <td>469.0</td>\n",
       "    </tr>\n",
       "    <tr>\n",
       "      <th>12.000000</th>\n",
       "      <td>0.473214</td>\n",
       "      <td>0.017857</td>\n",
       "      <td>0.028274</td>\n",
       "      <td>0.480655</td>\n",
       "      <td>672.0</td>\n",
       "    </tr>\n",
       "    <tr>\n",
       "      <th>24.000000</th>\n",
       "      <td>0.434909</td>\n",
       "      <td>0.087186</td>\n",
       "      <td>0.066200</td>\n",
       "      <td>0.411704</td>\n",
       "      <td>5861.0</td>\n",
       "    </tr>\n",
       "  </tbody>\n",
       "</table>\n",
       "</div>"
      ],
      "text/plain": [
       "                            CLL  Other CD8+ T cells  Activated T cells  \\\n",
       "Hours post co-culture                                                    \n",
       "0.000000               0.752294            0.192661           0.045872   \n",
       "0.083333               0.841463            0.121951           0.000000   \n",
       "0.250000               0.785311            0.169492           0.028249   \n",
       "0.500000               0.728745            0.222672           0.044534   \n",
       "0.750000               0.837553            0.111814           0.042194   \n",
       "1.000000               0.844660            0.101942           0.043689   \n",
       "2.000000               0.752941            0.088235           0.132353   \n",
       "4.000000               0.588486            0.063966           0.251599   \n",
       "12.000000              0.473214            0.017857           0.028274   \n",
       "24.000000              0.434909            0.087186           0.066200   \n",
       "\n",
       "                       Exhausted T cells  total_cells_per_sample  \n",
       "Hours post co-culture                                             \n",
       "0.000000                        0.009174                   109.0  \n",
       "0.083333                        0.036585                    82.0  \n",
       "0.250000                        0.016949                   177.0  \n",
       "0.500000                        0.004049                   247.0  \n",
       "0.750000                        0.008439                   474.0  \n",
       "1.000000                        0.009709                   206.0  \n",
       "2.000000                        0.026471                   340.0  \n",
       "4.000000                        0.095949                   469.0  \n",
       "12.000000                       0.480655                   672.0  \n",
       "24.000000                       0.411704                  5861.0  "
      ]
     },
     "execution_count": 9,
     "metadata": {},
     "output_type": "execute_result"
    }
   ],
   "source": [
    "df = pd.read_csv('../../data/CAR-T ratios and umap/CARA_ratios_processed.pkl', index_col='Hours post co-culture')\n",
    "df.columns = ['CLL', 'Other CD8+ T cells', 'Activated T cells', 'Exhausted T cells',\n",
    "              'total_cells_per_sample']\n",
    "df"
   ]
  },
  {
   "cell_type": "code",
   "execution_count": 10,
   "id": "c992861b",
   "metadata": {
    "ExecuteTime": {
     "end_time": "2022-05-26T17:47:42.519024Z",
     "start_time": "2022-05-26T17:47:42.372969Z"
    },
    "hidden": true
   },
   "outputs": [
    {
     "data": {
      "text/plain": [
       "Text(0.5, 1.0, 'Number of cells over time by cell type \\n (cell type proportion * total_cells_per_sample)')"
      ]
     },
     "execution_count": 10,
     "metadata": {},
     "output_type": "execute_result"
    },
    {
     "data": {
      "image/png": "[encoded data removed]",
      "text/plain": [
       "<Figure size 800x500 with 1 Axes>"
      ]
     },
     "metadata": {},
     "output_type": "display_data"
    }
   ],
   "source": [
    "plt.figure(figsize=(8, 5))\n",
    "cell_types = ['CLL', 'Other CD8+ T cells', 'Activated T cells', 'Exhausted T cells']\n",
    "for cell_type in cell_types:\n",
    "    plt.plot(df[cell_type] * df['total_cells_per_sample'], label=cell_type)\n",
    "plt.legend(loc='upper left', fontsize=12)\n",
    "plt.title('Number of cells over time by cell type \\n (cell type proportion * total_cells_per_sample)', \n",
    "          fontsize=12)"
   ]
  },
  {
   "cell_type": "code",
   "execution_count": 11,
   "id": "c4c05d82",
   "metadata": {
    "ExecuteTime": {
     "end_time": "2022-05-26T17:47:43.997632Z",
     "start_time": "2022-05-26T17:47:43.874485Z"
    },
    "hidden": true,
    "scrolled": false
   },
   "outputs": [
    {
     "data": {
      "text/plain": [
       "Text(0.5, 1.0, 'Proportion of cells over time by cell type')"
      ]
     },
     "execution_count": 11,
     "metadata": {},
     "output_type": "execute_result"
    },
    {
     "data": {
      "image/png": "[encoded data removed]",
      "text/plain": [
       "<Figure size 800x500 with 1 Axes>"
      ]
     },
     "metadata": {},
     "output_type": "display_data"
    }
   ],
   "source": [
    "plt.figure(figsize=(8, 5))\n",
    "for cell_type in cell_types:\n",
    "    plt.plot(df[cell_type], marker='o', label=cell_type)\n",
    "plt.legend(loc='upper right', fontsize=12)\n",
    "# plt.ylim([-0.5, 0.5])\n",
    "plt.title('Proportion of cells over time by cell type', fontsize=14)"
   ]
  },
  {
   "cell_type": "markdown",
   "id": "db6f72e4",
   "metadata": {
    "hidden": true
   },
   "source": [
    "Center cell type proportions"
   ]
  },
  {
   "cell_type": "code",
   "execution_count": 12,
   "id": "e1fa56ac",
   "metadata": {
    "ExecuteTime": {
     "end_time": "2022-05-26T17:47:51.699555Z",
     "start_time": "2022-05-26T17:47:51.677595Z"
    },
    "hidden": true
   },
   "outputs": [],
   "source": [
    "#cell_type_means = df[cell_types].mean()\n",
    "#df[cell_types] -= cell_type_means\n",
    "#df"
   ]
  },
  {
   "cell_type": "code",
   "execution_count": 13,
   "id": "35beb0f0",
   "metadata": {
    "ExecuteTime": {
     "end_time": "2022-05-26T17:47:52.158152Z",
     "start_time": "2022-05-26T17:47:52.027397Z"
    },
    "hidden": true,
    "scrolled": false
   },
   "outputs": [
    {
     "data": {
      "text/plain": [
       "Text(0.5, 1.0, 'Proportion (zero-centered) of cells over time by cell type')"
      ]
     },
     "execution_count": 13,
     "metadata": {},
     "output_type": "execute_result"
    },
    {
     "data": {
      "image/png": "[encoded data removed]",
      "text/plain": [
       "<Figure size 800x500 with 1 Axes>"
      ]
     },
     "metadata": {},
     "output_type": "display_data"
    }
   ],
   "source": [
    "plt.figure(figsize=(8, 5))\n",
    "for cell_type in cell_types:\n",
    "    plt.plot(df[cell_type], marker='o', label=cell_type)\n",
    "plt.legend(loc='upper left', fontsize=12)\n",
    "plt.title('Proportion (zero-centered) of cells over time by cell type', fontsize=14)"
   ]
  },
  {
   "cell_type": "code",
   "execution_count": 14,
   "id": "75db9c64",
   "metadata": {
    "ExecuteTime": {
     "end_time": "2022-05-26T17:47:54.780383Z",
     "start_time": "2022-05-26T17:47:54.765838Z"
    },
    "hidden": true
   },
   "outputs": [
    {
     "data": {
      "text/plain": [
       "array([[0.        ],\n",
       "       [0.08333333],\n",
       "       [0.25      ]])"
      ]
     },
     "execution_count": 14,
     "metadata": {},
     "output_type": "execute_result"
    }
   ],
   "source": [
    "# X = np.linspace(0, df.shape[0]-1, df.shape[0]).reshape(-1, 1)\n",
    "X = df.index.values.reshape(-1, 1)\n",
    "X[:3]"
   ]
  },
  {
   "cell_type": "code",
   "execution_count": 15,
   "id": "97795c16",
   "metadata": {
    "ExecuteTime": {
     "end_time": "2022-05-26T17:47:54.993238Z",
     "start_time": "2022-05-26T17:47:54.980811Z"
    },
    "hidden": true
   },
   "outputs": [
    {
     "data": {
      "text/plain": [
       "array([[0.75229358, 0.19266055, 0.04587156, 0.00917431],\n",
       "       [0.84146341, 0.12195122, 0.        , 0.03658537],\n",
       "       [0.78531073, 0.16949153, 0.02824859, 0.01694915],\n",
       "       [0.72874494, 0.22267206, 0.04453441, 0.00404858],\n",
       "       [0.83755274, 0.11181435, 0.04219409, 0.00843882],\n",
       "       [0.84466019, 0.10194175, 0.04368932, 0.00970874],\n",
       "       [0.75294118, 0.08823529, 0.13235294, 0.02647059],\n",
       "       [0.58848614, 0.06396588, 0.25159915, 0.09594883],\n",
       "       [0.47321429, 0.01785714, 0.02827381, 0.48065476],\n",
       "       [0.43490872, 0.08718649, 0.06620031, 0.41170449]])"
      ]
     },
     "execution_count": 15,
     "metadata": {},
     "output_type": "execute_result"
    }
   ],
   "source": [
    "Y = df[cell_types].values\n",
    "Y"
   ]
  },
  {
   "cell_type": "code",
   "execution_count": 16,
   "id": "5be86dff",
   "metadata": {
    "ExecuteTime": {
     "end_time": "2022-05-26T17:47:55.167829Z",
     "start_time": "2022-05-26T17:47:55.156653Z"
    },
    "hidden": true
   },
   "outputs": [],
   "source": [
    "# Sweep out timepoints between 0 and 24 to predict on\n",
    "X_test = np.linspace(start=0, stop=df.index[-1], num=100).reshape(-1, 1)\n",
    "\n",
    "# Placeholder Y_test just for the SGPRN API\n",
    "Y_test = np.zeros((X_test.shape[0], Y.shape[1]))\n",
    "\n",
    "# For plotting uncentered points\n",
    "Y_uncentered = Y #+ cell_type_means.values"
   ]
  },
  {
   "cell_type": "markdown",
   "id": "d6fa1e2b",
   "metadata": {
    "hidden": true
   },
   "source": [
    "Add priors for $f_i$'s based on mean of independent GP fits"
   ]
  },
  {
   "cell_type": "code",
   "execution_count": 17,
   "id": "a0ce94a8",
   "metadata": {
    "ExecuteTime": {
     "end_time": "2022-05-26T17:48:00.699863Z",
     "start_time": "2022-05-26T17:48:00.233898Z"
    },
    "hidden": true
   },
   "outputs": [
    {
     "data": {
      "image/png": "[encoded data removed]",
      "text/plain": [
       "<Figure size 1800x400 with 4 Axes>"
      ]
     },
     "metadata": {},
     "output_type": "display_data"
    }
   ],
   "source": [
    "f_priors = []\n",
    "cell_type_color = [('CLL', 'tab:blue'), \n",
    "                   ('Other CD8+ T cells', 'tab:orange'), \n",
    "                   ('Activated T cells', 'tab:green'),\n",
    "                   ('Exhausted T cells', 'tab:red')]\n",
    "plt.figure(figsize=(18, 4))\n",
    "for i, y_i in enumerate(Y.T):\n",
    "    rbf = RBF(length_scale=10, length_scale_bounds=(10, 10))\n",
    "    gpr = GaussianProcessRegressor(kernel=rbf, alpha=0.1, random_state=0, optimizer=None)\n",
    "    gpr.fit(X, y_i.reshape(-1, 1))\n",
    "    y_pred = gpr.predict(X_test)\n",
    "    f_priors.append(gpr.predict(X))\n",
    "    plt.subplot(1, 4, i+1)\n",
    "    plt.plot(X_test, y_pred , c=cell_type_color[i][1])\n",
    "    plt.scatter(X, Y_uncentered.T[i], c=cell_type_color[i][1])\n",
    "    plt.title('$f_%s$ prior (%s)' % (i+1, cell_type_color[i][0]), fontsize=14)\n",
    "    if i==0: plt.ylabel('Proportion', fontsize=12)\n",
    "plt.suptitle('Independent GP fits to set $f_i$ priors', fontsize=15, y=1.05)\n",
    "f_priors = np.array(f_priors)"
   ]
  },
  {
   "cell_type": "code",
   "execution_count": null,
   "id": "55576c9f",
   "metadata": {},
   "outputs": [],
   "source": []
  },
  {
   "cell_type": "markdown",
   "id": "37d66d7a",
   "metadata": {
    "hidden": true
   },
   "source": [
    "Add regularization for $W$"
   ]
  },
  {
   "cell_type": "code",
   "execution_count": 18,
   "id": "126bf3a2",
   "metadata": {
    "ExecuteTime": {
     "end_time": "2022-05-26T17:48:02.556596Z",
     "start_time": "2022-05-26T17:48:02.387459Z"
    },
    "hidden": true
   },
   "outputs": [
    {
     "data": {
      "text/plain": [
       "Text(0.5, 1.0, '$W$ regularization penalty')"
      ]
     },
     "execution_count": 18,
     "metadata": {},
     "output_type": "execute_result"
    },
    {
     "data": {
      "image/png": "[encoded data removed]",
      "text/plain": [
       "<Figure size 500x400 with 2 Axes>"
      ]
     },
     "metadata": {},
     "output_type": "display_data"
    }
   ],
   "source": [
    "W_reg_lambdas = np.array([[ 10, 0.1, 0.1, 0.1], \n",
    "                          [0.1,  10, 0.1, 0.1], \n",
    "                          [0.1, 0.1,  10, 0.1], \n",
    "                          [0.1, 0.1, 0.1, 10]])\n",
    "\n",
    "plt.figure(figsize=(5, 4))\n",
    "ax = sns.heatmap(W_reg_lambdas, cmap=\"Reds\", annot=True)\n",
    "ax.set_yticklabels(cell_types, fontsize=12)\n",
    "ax.set_xticklabels(cell_types, fontsize=12)\n",
    "plt.yticks(rotation=0)\n",
    "plt.xticks(rotation=45)\n",
    "plt.title('$W$ regularization penalty', fontsize=14)"
   ]
  },
  {
   "cell_type": "code",
   "execution_count": 19,
   "id": "c9245003",
   "metadata": {
    "ExecuteTime": {
     "end_time": "2022-05-26T17:48:04.184236Z",
     "start_time": "2022-05-26T17:48:04.157996Z"
    },
    "hidden": true
   },
   "outputs": [
    {
     "ename": "NameError",
     "evalue": "name 'tf' is not defined",
     "output_type": "error",
     "traceback": [
      "\u001b[0;31m---------------------------------------------------------------------------\u001b[0m",
      "\u001b[0;31mNameError\u001b[0m                                 Traceback (most recent call last)",
      "Cell \u001b[0;32mIn[19], line 8\u001b[0m\n\u001b[1;32m      1\u001b[0m priors \u001b[39m=\u001b[39m {\n\u001b[1;32m      2\u001b[0m     \u001b[39m# f priors based on independent GP fits\u001b[39;00m\n\u001b[1;32m      3\u001b[0m     \u001b[39m'\u001b[39m\u001b[39mF\u001b[39m\u001b[39m'\u001b[39m: f_priors\u001b[39m.\u001b[39mT\u001b[39m.\u001b[39mreshape(\u001b[39m10\u001b[39m, \u001b[39m4\u001b[39m, \u001b[39m1\u001b[39m),\n\u001b[1;32m      4\u001b[0m \u001b[39m#     'W': W_prior_mean,\u001b[39;00m\n\u001b[1;32m      5\u001b[0m \u001b[39m#     'W_prior_min': W_prior_min,\u001b[39;00m\n\u001b[1;32m      6\u001b[0m \u001b[39m#     'W_prior_max': W_prior_max,\u001b[39;00m\n\u001b[1;32m      7\u001b[0m     \u001b[39m# default GPRN W prior\u001b[39;00m\n\u001b[0;32m----> 8\u001b[0m     \u001b[39m'\u001b[39m\u001b[39mW\u001b[39m\u001b[39m'\u001b[39m: tf\u001b[39m.\u001b[39mVariable(\u001b[39m0.001\u001b[39m\u001b[39m*\u001b[39mtf\u001b[39m.\u001b[39mrandom\u001b[39m.\u001b[39mtruncated_normal([\u001b[39m10\u001b[39m, \u001b[39m4\u001b[39m, \u001b[39m4\u001b[39m], mean\u001b[39m=\u001b[39m\u001b[39m0\u001b[39m, stddev\u001b[39m=\u001b[39m\u001b[39m1.0\u001b[39m), \n\u001b[1;32m      9\u001b[0m                      dtype\u001b[39m=\u001b[39mtf\u001b[39m.\u001b[39mfloat32),\n\u001b[1;32m     10\u001b[0m     \u001b[39m'\u001b[39m\u001b[39mW_reg_lambdas\u001b[39m\u001b[39m'\u001b[39m: W_reg_lambdas\n\u001b[1;32m     11\u001b[0m }\n",
      "\u001b[0;31mNameError\u001b[0m: name 'tf' is not defined"
     ]
    }
   ],
   "source": [
    "priors = {\n",
    "    # f priors based on independent GP fits\n",
    "    'F': f_priors.T.reshape(10, 4, 1),\n",
    "#     'W': W_prior_mean,\n",
    "#     'W_prior_min': W_prior_min,\n",
    "#     'W_prior_max': W_prior_max,\n",
    "    # default GPRN W prior\n",
    "    'W': tf.Variable(0.001*tf.random.truncated_normal([10, 4, 4], mean=0, stddev=1.0), \n",
    "                     dtype=tf.float32),\n",
    "    'W_reg_lambdas': W_reg_lambdas\n",
    "}"
   ]
  },
  {
   "cell_type": "code",
   "execution_count": 20,
   "id": "8ac0982d",
   "metadata": {
    "ExecuteTime": {
     "end_time": "2022-05-26T17:48:04.750187Z",
     "start_time": "2022-05-26T17:48:04.733009Z"
    },
    "hidden": true
   },
   "outputs": [],
   "source": [
    "data = {\n",
    "    'N_all': X.shape[0],\n",
    "    'N_train': X.shape[0],\n",
    "    'N_test': X.shape[0],\n",
    "    'X_all': X,\n",
    "    'Y_all': Y,\n",
    "    'X_train': X,\n",
    "    'X_test': X_test,\n",
    "    'Y_train': Y,\n",
    "    'Y_test': Y_test,\n",
    "    'Y_mean': 0,\n",
    "    'Y_std': 1,\n",
    "    'Y_test_ground': Y,\n",
    "    'DList': [4, 1, 1],\n",
    "    'dname': 'None'\n",
    "}\n",
    "\n",
    "kernel = 'rbf'\n",
    "f_kernel_bandwidth = 100\n",
    "f_sigma = 0\n",
    "W_kernel_bandwidth = 100\n",
    "rank = 4\n",
    "maxIter = 500\n",
    "interval = 100\n",
    "\n",
    "cfg = {\n",
    "    'data': data,\n",
    "    'jitter': 1e-3,\n",
    "    'init_std': 1e-3,\n",
    "    'epochs': maxIter,\n",
    "    'interval':interval,\n",
    "    'alpha':1e-2,\n",
    "    'ns': 100,\n",
    "    'Q': rank,\n",
    "    'kernel': kernel,\n",
    "    'f_kernel_bandwidth': f_kernel_bandwidth,\n",
    "    'f_sigma': f_sigma,\n",
    "    'W_kernel_bandwidth': W_kernel_bandwidth\n",
    "}"
   ]
  },
  {
   "cell_type": "markdown",
   "id": "c311994f",
   "metadata": {},
   "source": [
    "# New Model"
   ]
  },
  {
   "cell_type": "code",
   "execution_count": 42,
   "id": "a74203a3",
   "metadata": {},
   "outputs": [
    {
     "name": "stdout",
     "output_type": "stream",
     "text": [
      "timepoints.shape: torch.Size([10, 1])\n",
      "cell_types.shape: torch.Size([10, 4])\n"
     ]
    }
   ],
   "source": [
    "t_subset_num = 12\n",
    "timepoints = torch.tensor(X)[:t_subset_num]\n",
    "proportions = torch.tensor(Y)[:t_subset_num]\n",
    "lambda_matrix = torch.tensor(W_reg_lambdas)\n",
    "n_timepoints, n_cell_types = proportions.shape\n",
    "\n",
    "# z score the proportions\n",
    "proportions_mean = proportions.mean(dim=0)\n",
    "proportions_std = proportions.std(dim=0)\n",
    "proportions = (proportions - proportions_mean)/ (proportions_std)\n",
    "#proportions = proportions / proportions_std\n",
    "\n",
    "\n",
    "print('timepoints.shape:', timepoints.shape)\n",
    "print('cell_types.shape:', proportions.shape)"
   ]
  },
  {
   "cell_type": "code",
   "execution_count": 43,
   "id": "d7cd730e",
   "metadata": {},
   "outputs": [
    {
     "name": "stdout",
     "output_type": "stream",
     "text": [
      "{'lengthscale_f': 10.0, 'lengthscale_w': 80.0, 'sigma_f': 0.3, 'sigma_w': 0.01, 'sigma_y': 0.5, 'variance_w': 1, 'variance_f': 1}\n"
     ]
    }
   ],
   "source": [
    "hyper_init_vals = {\n",
    "    names.LENGTHSCALE_F: 10.0,\n",
    "    names.LENGTHSCALE_W: 80.0,\n",
    "    names.SIGMA_F: 0.3,\n",
    "    names.SIGMA_W: 0.01,\n",
    "    names.SIGMA_Y: 0.5,\n",
    "    names.VARIANCE_W: 1,\n",
    "    names.VARIANCE_F: 1,\n",
    "}\n",
    "print(hyper_init_vals)"
   ]
  },
  {
   "cell_type": "code",
   "execution_count": 44,
   "id": "ef38116a",
   "metadata": {},
   "outputs": [],
   "source": [
    "model = DIISCO(lambda_matrix=lambda_matrix, hypers_init_vals=hyper_init_vals, verbose=True, verbose_freq=100)"
   ]
  },
  {
   "cell_type": "code",
   "execution_count": 45,
   "id": "98746556",
   "metadata": {},
   "outputs": [],
   "source": [
    "model.fit_and_set_f_prior_params(timepoints=timepoints, proportions=proportions, hypers=model.hypers_init_vals)"
   ]
  },
  {
   "cell_type": "code",
   "execution_count": 46,
   "id": "77e13d84",
   "metadata": {},
   "outputs": [
    {
     "data": {
      "image/png": "[encoded data removed]",
      "text/plain": [
       "<Figure size 1800x400 with 4 Axes>"
      ]
     },
     "metadata": {},
     "output_type": "display_data"
    }
   ],
   "source": [
    "model.fit_and_set_f_prior_params(timepoints=timepoints, proportions=proportions, hypers=model.hypers_init_vals)\n",
    "eval_timepoints = torch.linspace(0, 30, 100).view(-1, 1)\n",
    "fig, ax = plt.subplots(1, n_cell_types, figsize=(18, 4))\n",
    "\n",
    "n_samples = 1000\n",
    "n_eval_timepoints = eval_timepoints.shape[0]\n",
    "f_prior_np = model.sample_f_prior(eval_timepoints, n_samples=n_samples)\n",
    "for cell_type_idx in range(n_cell_types):\n",
    "    eval_timepoints_np = eval_timepoints.detach().numpy()\n",
    "    f_prior_cell_type_np = f_prior_np[:, cell_type_idx, :].detach().numpy()\n",
    "    assert f_prior_cell_type_np.shape == (n_samples, n_eval_timepoints)\n",
    "\n",
    "    mean = f_prior_cell_type_np.mean(axis=0)\n",
    "    upper = np.percentile(f_prior_cell_type_np, 97.5, axis=0)\n",
    "    lower = np.percentile(f_prior_cell_type_np, 2.5, axis=0)\n",
    "    ax[cell_type_idx].scatter(timepoints, proportions[:, cell_type_idx].flatten().detach().numpy(), label=f'f_{cell_type_idx}')\n",
    "    ax[cell_type_idx].plot(eval_timepoints_np, mean, label=f'f_{cell_type_idx}')\n",
    "    ax[cell_type_idx].fill_between(eval_timepoints_np.flatten(), lower, upper, alpha=0.2)\n",
    "\n",
    "    ax[cell_type_idx].set_title(f'f_{cell_type_idx}')\n"
   ]
  },
  {
   "cell_type": "code",
   "execution_count": 49,
   "id": "ed5d7f57",
   "metadata": {},
   "outputs": [
    {
     "name": "stdout",
     "output_type": "stream",
     "text": [
      "[iteration 0001] loss: 2351.0696\n",
      "[iteration 0101] loss: 1342.0853\n",
      "[iteration 0201] loss: 1201.0631\n",
      "[iteration 0301] loss: 1157.0172\n",
      "[iteration 0401] loss: 1065.8634\n",
      "[iteration 0501] loss: 1044.6394\n",
      "[iteration 0601] loss: 1013.6732\n",
      "[iteration 0701] loss: 960.3783\n",
      "[iteration 0801] loss: 961.6272\n",
      "[iteration 0901] loss: 921.2675\n",
      "[iteration 1001] loss: 921.7848\n",
      "[iteration 1101] loss: 911.0865\n",
      "[iteration 1201] loss: 895.2100\n",
      "[iteration 1301] loss: 865.2622\n",
      "[iteration 1401] loss: 843.7811\n",
      "[iteration 1501] loss: 862.4770\n",
      "[iteration 1601] loss: 856.7093\n",
      "[iteration 1701] loss: 823.2979\n",
      "[iteration 1801] loss: 809.3489\n",
      "[iteration 1901] loss: 806.5142\n",
      "[iteration 2001] loss: 790.5128\n",
      "[iteration 2101] loss: 801.7797\n",
      "[iteration 2201] loss: 785.5703\n",
      "[iteration 2301] loss: 796.2842\n",
      "[iteration 2401] loss: 779.5585\n",
      "[iteration 2501] loss: 761.8988\n",
      "[iteration 2601] loss: 760.1691\n",
      "[iteration 2701] loss: 770.7158\n",
      "[iteration 2801] loss: 768.8812\n",
      "[iteration 2901] loss: 763.4038\n",
      "[iteration 3001] loss: 751.3748\n",
      "[iteration 3101] loss: 728.7829\n",
      "[iteration 3201] loss: 767.1061\n",
      "[iteration 3301] loss: 741.8474\n",
      "[iteration 3401] loss: 739.5024\n",
      "[iteration 3501] loss: 720.0825\n",
      "[iteration 3601] loss: 693.6668\n",
      "[iteration 3701] loss: 712.8695\n",
      "[iteration 3801] loss: 713.5232\n",
      "[iteration 3901] loss: 694.9681\n",
      "[iteration 4001] loss: 728.6443\n",
      "[iteration 4101] loss: 701.9673\n",
      "[iteration 4201] loss: 695.9452\n",
      "[iteration 4301] loss: 701.7554\n",
      "[iteration 4401] loss: 716.1602\n",
      "[iteration 4501] loss: 667.3541\n",
      "[iteration 4601] loss: 686.5329\n",
      "[iteration 4701] loss: 689.6300\n",
      "[iteration 4801] loss: 686.4025\n",
      "[iteration 4901] loss: 701.1184\n",
      "[iteration 5001] loss: 701.9659\n",
      "[iteration 5101] loss: 675.9555\n",
      "[iteration 5201] loss: 681.3790\n",
      "[iteration 5301] loss: 701.8273\n",
      "[iteration 5401] loss: 655.9119\n",
      "[iteration 5501] loss: 659.8491\n",
      "[iteration 5601] loss: 677.6567\n",
      "[iteration 5701] loss: 674.8775\n",
      "[iteration 5801] loss: 672.8682\n",
      "[iteration 5901] loss: 671.0424\n",
      "[iteration 6001] loss: 662.4803\n",
      "[iteration 6101] loss: 670.5196\n",
      "[iteration 6201] loss: 666.4272\n",
      "[iteration 6301] loss: 670.6695\n",
      "[iteration 6401] loss: 678.5063\n",
      "[iteration 6501] loss: 660.2764\n",
      "[iteration 6601] loss: 660.4243\n",
      "[iteration 6701] loss: 652.5538\n",
      "[iteration 6801] loss: 658.4978\n",
      "[iteration 6901] loss: 619.3615\n",
      "[iteration 7001] loss: 662.4644\n",
      "[iteration 7101] loss: 647.5718\n",
      "[iteration 7201] loss: 661.8065\n",
      "[iteration 7301] loss: 654.7170\n",
      "[iteration 7401] loss: 647.2988\n",
      "[iteration 7501] loss: 647.2858\n",
      "[iteration 7601] loss: 642.3988\n",
      "[iteration 7701] loss: 661.0421\n",
      "[iteration 7801] loss: 634.5127\n",
      "[iteration 7901] loss: 635.0779\n",
      "[iteration 8001] loss: 628.1391\n",
      "[iteration 8101] loss: 624.0671\n",
      "[iteration 8201] loss: 638.7055\n",
      "[iteration 8301] loss: 638.8960\n",
      "[iteration 8401] loss: 649.0756\n",
      "[iteration 8501] loss: 634.9450\n",
      "[iteration 8601] loss: 631.5138\n",
      "[iteration 8701] loss: 635.6189\n",
      "[iteration 8801] loss: 608.3054\n",
      "[iteration 8901] loss: 619.8359\n",
      "[iteration 9001] loss: 616.1202\n",
      "[iteration 9101] loss: 605.5171\n",
      "[iteration 9201] loss: 621.2315\n",
      "[iteration 9301] loss: 612.1322\n",
      "[iteration 9401] loss: 621.7579\n",
      "[iteration 9501] loss: 631.0965\n",
      "[iteration 9601] loss: 605.4037\n",
      "[iteration 9701] loss: 602.6030\n",
      "[iteration 9801] loss: 607.0896\n",
      "[iteration 9901] loss: 589.1542\n",
      "[iteration 10001] loss: 607.3527\n",
      "[iteration 10101] loss: 603.3747\n",
      "[iteration 10201] loss: 601.6670\n",
      "[iteration 10301] loss: 587.6196\n",
      "[iteration 10401] loss: 596.3888\n",
      "[iteration 10501] loss: 587.1099\n",
      "[iteration 10601] loss: 578.8972\n",
      "[iteration 10701] loss: 594.8708\n",
      "[iteration 10801] loss: 576.7126\n",
      "[iteration 10901] loss: 587.0261\n",
      "[iteration 11001] loss: 587.3419\n",
      "[iteration 11101] loss: 580.6612\n",
      "[iteration 11201] loss: 577.1906\n",
      "[iteration 11301] loss: 590.1691\n",
      "[iteration 11401] loss: 563.3292\n",
      "[iteration 11501] loss: 581.1059\n",
      "[iteration 11601] loss: 570.3974\n",
      "[iteration 11701] loss: 588.9776\n",
      "[iteration 11801] loss: 562.7962\n",
      "[iteration 11901] loss: 587.8495\n",
      "[iteration 12001] loss: 574.2865\n",
      "[iteration 12101] loss: 575.1362\n",
      "[iteration 12201] loss: 563.9278\n",
      "[iteration 12301] loss: 579.6575\n",
      "[iteration 12401] loss: 569.0700\n",
      "[iteration 12501] loss: 570.8395\n",
      "[iteration 12601] loss: 554.4085\n",
      "[iteration 12701] loss: 564.8576\n",
      "[iteration 12801] loss: 568.2574\n",
      "[iteration 12901] loss: 562.9413\n",
      "[iteration 13001] loss: 567.2125\n",
      "[iteration 13101] loss: 577.7697\n",
      "[iteration 13201] loss: 555.6111\n",
      "[iteration 13301] loss: 562.4079\n",
      "[iteration 13401] loss: 546.6241\n",
      "[iteration 13501] loss: 562.4059\n",
      "[iteration 13601] loss: 556.6443\n",
      "[iteration 13701] loss: 559.1234\n",
      "[iteration 13801] loss: 560.7667\n",
      "[iteration 13901] loss: 559.2233\n",
      "[iteration 14001] loss: 587.4491\n",
      "[iteration 14101] loss: 554.6227\n",
      "[iteration 14201] loss: 563.1949\n",
      "[iteration 14301] loss: 570.5272\n",
      "[iteration 14401] loss: 570.8641\n",
      "[iteration 14501] loss: 566.3914\n",
      "[iteration 14601] loss: 552.9511\n",
      "[iteration 14701] loss: 557.6178\n",
      "[iteration 14801] loss: 551.7505\n",
      "[iteration 14901] loss: 573.7850\n",
      "[iteration 15001] loss: 573.4236\n",
      "[iteration 15101] loss: 538.7552\n",
      "[iteration 15201] loss: 546.5127\n",
      "[iteration 15301] loss: 567.4925\n",
      "[iteration 15401] loss: 545.4286\n",
      "[iteration 15501] loss: 528.5972\n",
      "[iteration 15601] loss: 533.5566\n",
      "[iteration 15701] loss: 568.0087\n",
      "[iteration 15801] loss: 525.0695\n",
      "[iteration 15901] loss: 525.1799\n",
      "[iteration 16001] loss: 546.8864\n",
      "[iteration 16101] loss: 518.1167\n",
      "[iteration 16201] loss: 545.2271\n",
      "[iteration 16301] loss: 541.4988\n",
      "[iteration 16401] loss: 534.3435\n",
      "[iteration 16501] loss: 536.5362\n",
      "[iteration 16601] loss: 534.0059\n",
      "[iteration 16701] loss: 518.9890\n",
      "[iteration 16801] loss: 518.4276\n",
      "[iteration 16901] loss: 510.5994\n",
      "[iteration 17001] loss: 510.0042\n",
      "[iteration 17101] loss: 517.0394\n",
      "[iteration 17201] loss: 512.1382\n",
      "[iteration 17301] loss: 519.9392\n",
      "[iteration 17401] loss: 558.2614\n",
      "[iteration 17501] loss: 516.1565\n",
      "[iteration 17601] loss: 517.6459\n",
      "[iteration 17701] loss: 519.7321\n",
      "[iteration 17801] loss: 514.5655\n",
      "[iteration 17901] loss: 500.6382\n",
      "[iteration 18001] loss: 521.1988\n",
      "[iteration 18101] loss: 503.9842\n",
      "[iteration 18201] loss: 524.4702\n",
      "[iteration 18301] loss: 513.6784\n",
      "[iteration 18401] loss: 505.3911\n",
      "[iteration 18501] loss: 496.7399\n",
      "[iteration 18601] loss: 511.3779\n",
      "[iteration 18701] loss: 512.8390\n",
      "[iteration 18801] loss: 494.0483\n",
      "[iteration 18901] loss: 492.7846\n",
      "[iteration 19001] loss: 491.6148\n",
      "[iteration 19101] loss: 497.6176\n",
      "[iteration 19201] loss: 492.6753\n",
      "[iteration 19301] loss: 505.0415\n",
      "[iteration 19401] loss: 489.9080\n",
      "[iteration 19501] loss: 487.0255\n",
      "[iteration 19601] loss: 489.4104\n",
      "[iteration 19701] loss: 484.3617\n",
      "[iteration 19801] loss: 473.2125\n",
      "[iteration 19901] loss: 492.0385\n",
      "[iteration 20001] loss: 490.3321\n",
      "[iteration 20101] loss: 488.7609\n",
      "[iteration 20201] loss: 477.2329\n",
      "[iteration 20301] loss: 505.4918\n",
      "[iteration 20401] loss: 473.3424\n",
      "[iteration 20501] loss: 478.2324\n",
      "[iteration 20601] loss: 477.6302\n",
      "[iteration 20701] loss: 467.4709\n",
      "[iteration 20801] loss: 464.2012\n",
      "[iteration 20901] loss: 484.1929\n",
      "[iteration 21001] loss: 497.9773\n",
      "[iteration 21101] loss: 478.8724\n",
      "[iteration 21201] loss: 464.9613\n",
      "[iteration 21301] loss: 470.8932\n",
      "[iteration 21401] loss: 481.5590\n",
      "[iteration 21501] loss: 459.8126\n",
      "[iteration 21601] loss: 481.6842\n",
      "[iteration 21701] loss: 487.2749\n",
      "[iteration 21801] loss: 467.4014\n",
      "[iteration 21901] loss: 469.3958\n",
      "[iteration 22001] loss: 478.2292\n",
      "[iteration 22101] loss: 487.3645\n",
      "[iteration 22201] loss: 470.7573\n",
      "[iteration 22301] loss: 461.2871\n",
      "[iteration 22401] loss: 469.0477\n",
      "[iteration 22501] loss: 496.9273\n",
      "[iteration 22601] loss: 476.0690\n",
      "[iteration 22701] loss: 478.6280\n",
      "[iteration 22801] loss: 471.3970\n",
      "[iteration 22901] loss: 470.1162\n",
      "[iteration 23001] loss: 481.7142\n",
      "[iteration 23101] loss: 456.1776\n",
      "[iteration 23201] loss: 459.0372\n",
      "[iteration 23301] loss: 468.4314\n",
      "[iteration 23401] loss: 467.1029\n",
      "[iteration 23501] loss: 464.4594\n",
      "[iteration 23601] loss: 474.0509\n",
      "[iteration 23701] loss: 473.3990\n",
      "[iteration 23801] loss: 479.6793\n",
      "[iteration 23901] loss: 468.6670\n",
      "[iteration 24001] loss: 476.2473\n",
      "[iteration 24101] loss: 474.0100\n",
      "[iteration 24201] loss: 483.6178\n",
      "[iteration 24301] loss: 477.3505\n",
      "[iteration 24401] loss: 461.4874\n",
      "[iteration 24501] loss: 477.0625\n",
      "[iteration 24601] loss: 461.0752\n",
      "[iteration 24701] loss: 470.1821\n",
      "[iteration 24801] loss: 487.3502\n",
      "[iteration 24901] loss: 481.2771\n",
      "[iteration 25001] loss: 475.5034\n",
      "[iteration 25101] loss: 482.1977\n",
      "[iteration 25201] loss: 469.4280\n",
      "[iteration 25301] loss: 460.2683\n",
      "[iteration 25401] loss: 469.6878\n",
      "[iteration 25501] loss: 474.6484\n",
      "[iteration 25601] loss: 452.0303\n",
      "[iteration 25701] loss: 468.2489\n",
      "[iteration 25801] loss: 464.5145\n",
      "[iteration 25901] loss: 471.3640\n",
      "[iteration 26001] loss: 481.4189\n",
      "[iteration 26101] loss: 481.2654\n",
      "[iteration 26201] loss: 476.6098\n",
      "[iteration 26301] loss: 474.9084\n",
      "[iteration 26401] loss: 467.4941\n",
      "[iteration 26501] loss: 473.5230\n",
      "[iteration 26601] loss: 454.5184\n",
      "[iteration 26701] loss: 464.0938\n",
      "[iteration 26801] loss: 475.0716\n",
      "[iteration 26901] loss: 472.5136\n",
      "[iteration 27001] loss: 473.2794\n",
      "[iteration 27101] loss: 475.2132\n",
      "[iteration 27201] loss: 475.4884\n",
      "[iteration 27301] loss: 455.5995\n",
      "[iteration 27401] loss: 470.8608\n",
      "[iteration 27501] loss: 455.2244\n",
      "[iteration 27601] loss: 462.8839\n",
      "[iteration 27701] loss: 447.2058\n",
      "[iteration 27801] loss: 458.9493\n",
      "[iteration 27901] loss: 468.5038\n",
      "[iteration 28001] loss: 471.4396\n",
      "[iteration 28101] loss: 450.2478\n",
      "[iteration 28201] loss: 455.0250\n",
      "[iteration 28301] loss: 474.0014\n",
      "[iteration 28401] loss: 463.5161\n",
      "[iteration 28501] loss: 471.8364\n",
      "[iteration 28601] loss: 469.9579\n",
      "[iteration 28701] loss: 454.8601\n",
      "[iteration 28801] loss: 470.1850\n",
      "[iteration 28901] loss: 456.5740\n",
      "[iteration 29001] loss: 468.7959\n",
      "[iteration 29101] loss: 462.5000\n",
      "[iteration 29201] loss: 469.3836\n",
      "[iteration 29301] loss: 465.5413\n",
      "[iteration 29401] loss: 453.8509\n",
      "[iteration 29501] loss: 467.3350\n",
      "[iteration 29601] loss: 461.2266\n",
      "[iteration 29701] loss: 455.1600\n",
      "[iteration 29801] loss: 465.3747\n",
      "[iteration 29901] loss: 441.6692\n",
      "[iteration 30001] loss: 455.8474\n",
      "[iteration 30101] loss: 479.3568\n",
      "[iteration 30201] loss: 460.9778\n",
      "[iteration 30301] loss: 445.4775\n",
      "[iteration 30401] loss: 477.3358\n",
      "[iteration 30501] loss: 449.6239\n",
      "[iteration 30601] loss: 461.8638\n",
      "[iteration 30701] loss: 454.3581\n",
      "[iteration 30801] loss: 452.7924\n",
      "[iteration 30901] loss: 471.8110\n",
      "[iteration 31001] loss: 449.7479\n",
      "[iteration 31101] loss: 457.6026\n",
      "[iteration 31201] loss: 459.1152\n",
      "[iteration 31301] loss: 459.2425\n",
      "[iteration 31401] loss: 462.2937\n",
      "[iteration 31501] loss: 437.6459\n",
      "[iteration 31601] loss: 469.4637\n",
      "[iteration 31701] loss: 461.9245\n",
      "[iteration 31801] loss: 452.4350\n",
      "[iteration 31901] loss: 445.3495\n",
      "[iteration 32001] loss: 455.8394\n",
      "[iteration 32101] loss: 432.3871\n",
      "[iteration 32201] loss: 445.1617\n",
      "[iteration 32301] loss: 450.9271\n",
      "[iteration 32401] loss: 483.9332\n",
      "[iteration 32501] loss: 441.5053\n",
      "[iteration 32601] loss: 458.1332\n",
      "[iteration 32701] loss: 460.1854\n",
      "[iteration 32801] loss: 442.6765\n",
      "[iteration 32901] loss: 442.4001\n",
      "[iteration 33001] loss: 443.8107\n",
      "[iteration 33101] loss: 442.7583\n",
      "[iteration 33201] loss: 432.6166\n",
      "[iteration 33301] loss: 435.1974\n",
      "[iteration 33401] loss: 442.1425\n",
      "[iteration 33501] loss: 471.8769\n",
      "[iteration 33601] loss: 445.5090\n",
      "[iteration 33701] loss: 425.6539\n",
      "[iteration 33801] loss: 437.6353\n",
      "[iteration 33901] loss: 436.8912\n",
      "[iteration 34001] loss: 449.3656\n",
      "[iteration 34101] loss: 459.5771\n",
      "[iteration 34201] loss: 444.7942\n",
      "[iteration 34301] loss: 433.8009\n",
      "[iteration 34401] loss: 429.1906\n",
      "[iteration 34501] loss: 435.0296\n",
      "[iteration 34601] loss: 428.8717\n",
      "[iteration 34701] loss: 454.8853\n",
      "[iteration 34801] loss: 434.2005\n",
      "[iteration 34901] loss: 446.8875\n",
      "[iteration 35001] loss: 437.4083\n",
      "[iteration 35101] loss: 434.0959\n",
      "[iteration 35201] loss: 440.9462\n",
      "[iteration 35301] loss: 442.9618\n",
      "[iteration 35401] loss: 420.3832\n",
      "[iteration 35501] loss: 435.5411\n",
      "[iteration 35601] loss: 435.3701\n",
      "[iteration 35701] loss: 442.7594\n",
      "[iteration 35801] loss: 434.5625\n",
      "[iteration 35901] loss: 438.3854\n",
      "[iteration 36001] loss: 439.6783\n",
      "[iteration 36101] loss: 444.8032\n",
      "[iteration 36201] loss: 459.2848\n",
      "[iteration 36301] loss: 447.3865\n",
      "[iteration 36401] loss: 438.7619\n",
      "[iteration 36501] loss: 428.5856\n",
      "[iteration 36601] loss: 431.3988\n",
      "[iteration 36701] loss: 434.1285\n",
      "[iteration 36801] loss: 456.4766\n",
      "[iteration 36901] loss: 432.0267\n",
      "[iteration 37001] loss: 449.9025\n",
      "[iteration 37101] loss: 435.2446\n",
      "[iteration 37201] loss: 423.5008\n",
      "[iteration 37301] loss: 435.5038\n",
      "[iteration 37401] loss: 432.9172\n",
      "[iteration 37501] loss: 447.2737\n",
      "[iteration 37601] loss: 434.9558\n",
      "[iteration 37701] loss: 447.2833\n",
      "[iteration 37801] loss: 445.7374\n",
      "[iteration 37901] loss: 439.1080\n",
      "[iteration 38001] loss: 434.6752\n",
      "[iteration 38101] loss: 440.9123\n",
      "[iteration 38201] loss: 443.2617\n",
      "[iteration 38301] loss: 442.7268\n",
      "[iteration 38401] loss: 439.6262\n",
      "[iteration 38501] loss: 424.6442\n",
      "[iteration 38601] loss: 434.2722\n",
      "[iteration 38701] loss: 426.4530\n",
      "[iteration 38801] loss: 439.6675\n",
      "[iteration 38901] loss: 430.5722\n",
      "[iteration 39001] loss: 435.0418\n",
      "[iteration 39101] loss: 430.1041\n",
      "[iteration 39201] loss: 425.6127\n",
      "[iteration 39301] loss: 446.2566\n",
      "[iteration 39401] loss: 422.4228\n",
      "[iteration 39501] loss: 426.9229\n",
      "[iteration 39601] loss: 425.6607\n",
      "[iteration 39701] loss: 431.4459\n",
      "[iteration 39801] loss: 445.3046\n",
      "[iteration 39901] loss: 430.9702\n",
      "[iteration 40001] loss: 454.4252\n",
      "[iteration 40101] loss: 436.1933\n",
      "[iteration 40201] loss: 429.0985\n",
      "[iteration 40301] loss: 415.2258\n",
      "[iteration 40401] loss: 442.7489\n",
      "[iteration 40501] loss: 433.0173\n",
      "[iteration 40601] loss: 428.3638\n",
      "[iteration 40701] loss: 441.2300\n",
      "[iteration 40801] loss: 431.1417\n",
      "[iteration 40901] loss: 413.4544\n",
      "[iteration 41001] loss: 426.3601\n",
      "[iteration 41101] loss: 428.7984\n",
      "[iteration 41201] loss: 419.7515\n",
      "[iteration 41301] loss: 434.9214\n",
      "[iteration 41401] loss: 429.6254\n",
      "[iteration 41501] loss: 441.0619\n",
      "[iteration 41601] loss: 422.4380\n",
      "[iteration 41701] loss: 421.2080\n",
      "[iteration 41801] loss: 433.6181\n",
      "[iteration 41901] loss: 421.9176\n",
      "[iteration 42001] loss: 418.3209\n",
      "[iteration 42101] loss: 422.9728\n",
      "[iteration 42201] loss: 427.0912\n",
      "[iteration 42301] loss: 437.3912\n",
      "[iteration 42401] loss: 434.3198\n",
      "[iteration 42501] loss: 432.4998\n",
      "[iteration 42601] loss: 424.1591\n",
      "[iteration 42701] loss: 433.3752\n",
      "[iteration 42801] loss: 435.5949\n",
      "[iteration 42901] loss: 420.2545\n",
      "[iteration 43001] loss: 428.2944\n",
      "[iteration 43101] loss: 427.8173\n",
      "[iteration 43201] loss: 438.8884\n",
      "[iteration 43301] loss: 452.2656\n",
      "[iteration 43401] loss: 423.1638\n",
      "[iteration 43501] loss: 412.0412\n",
      "[iteration 43601] loss: 452.5921\n",
      "[iteration 43701] loss: 436.2375\n",
      "[iteration 43801] loss: 429.6826\n",
      "[iteration 43901] loss: 428.6177\n",
      "[iteration 44001] loss: 438.5075\n",
      "[iteration 44101] loss: 447.6219\n",
      "[iteration 44201] loss: 420.5954\n",
      "[iteration 44301] loss: 430.2227\n",
      "[iteration 44401] loss: 428.1296\n",
      "[iteration 44501] loss: 446.0756\n",
      "[iteration 44601] loss: 434.0209\n",
      "[iteration 44701] loss: 417.7139\n",
      "[iteration 44801] loss: 414.2574\n",
      "[iteration 44901] loss: 446.5342\n",
      "[iteration 45001] loss: 436.9897\n",
      "[iteration 45101] loss: 425.3897\n",
      "[iteration 45201] loss: 427.3003\n",
      "[iteration 45301] loss: 429.7880\n",
      "[iteration 45401] loss: 428.7349\n",
      "[iteration 45501] loss: 435.7066\n",
      "[iteration 45601] loss: 423.7542\n",
      "[iteration 45701] loss: 425.5669\n",
      "[iteration 45801] loss: 413.6789\n",
      "[iteration 45901] loss: 417.8449\n",
      "[iteration 46001] loss: 414.7224\n",
      "[iteration 46101] loss: 427.0629\n",
      "[iteration 46201] loss: 417.2520\n",
      "[iteration 46301] loss: 425.2207\n",
      "[iteration 46401] loss: 417.5089\n",
      "[iteration 46501] loss: 446.1114\n",
      "[iteration 46601] loss: 436.0600\n",
      "[iteration 46701] loss: 438.0214\n",
      "[iteration 46801] loss: 422.2099\n",
      "[iteration 46901] loss: 428.2861\n",
      "[iteration 47001] loss: 429.9849\n",
      "[iteration 47101] loss: 423.7143\n",
      "[iteration 47201] loss: 429.6685\n",
      "[iteration 47301] loss: 419.2814\n",
      "[iteration 47401] loss: 419.3287\n",
      "[iteration 47501] loss: 426.1483\n",
      "[iteration 47601] loss: 408.1257\n",
      "[iteration 47701] loss: 425.5109\n",
      "[iteration 47801] loss: 420.9402\n",
      "[iteration 47901] loss: 433.2510\n",
      "[iteration 48001] loss: 408.9153\n",
      "[iteration 48101] loss: 419.1353\n",
      "[iteration 48201] loss: 436.3927\n",
      "[iteration 48301] loss: 416.7548\n",
      "[iteration 48401] loss: 424.1569\n",
      "[iteration 48501] loss: 417.7366\n",
      "[iteration 48601] loss: 436.1884\n",
      "[iteration 48701] loss: 422.4189\n",
      "[iteration 48801] loss: 410.8628\n",
      "[iteration 48901] loss: 429.1723\n",
      "[iteration 49001] loss: 433.1915\n",
      "[iteration 49101] loss: 418.8478\n",
      "[iteration 49201] loss: 454.9639\n",
      "[iteration 49301] loss: 425.9469\n",
      "[iteration 49401] loss: 418.7356\n",
      "[iteration 49501] loss: 420.4244\n",
      "[iteration 49601] loss: 425.4700\n",
      "[iteration 49701] loss: 420.6563\n",
      "[iteration 49801] loss: 422.2096\n",
      "[iteration 49901] loss: 410.0778\n",
      "[iteration 50001] loss: 427.5307\n",
      "[iteration 50101] loss: 418.2304\n",
      "[iteration 50201] loss: 406.3112\n",
      "[iteration 50301] loss: 420.1368\n",
      "[iteration 50401] loss: 431.5395\n",
      "[iteration 50501] loss: 413.5379\n",
      "[iteration 50601] loss: 441.6328\n",
      "[iteration 50701] loss: 404.1608\n",
      "[iteration 50801] loss: 418.4170\n",
      "[iteration 50901] loss: 422.3357\n",
      "[iteration 51001] loss: 420.4411\n",
      "[iteration 51101] loss: 419.6212\n",
      "[iteration 51201] loss: 421.8825\n",
      "[iteration 51301] loss: 407.2144\n",
      "[iteration 51401] loss: 418.6896\n",
      "[iteration 51501] loss: 420.0623\n",
      "[iteration 51601] loss: 413.7477\n",
      "[iteration 51701] loss: 402.1323\n",
      "[iteration 51801] loss: 415.7220\n",
      "[iteration 51901] loss: 417.9061\n",
      "[iteration 52001] loss: 432.6768\n",
      "[iteration 52101] loss: 421.4576\n",
      "[iteration 52201] loss: 443.1733\n",
      "[iteration 52301] loss: 424.8740\n",
      "[iteration 52401] loss: 434.6669\n",
      "[iteration 52501] loss: 423.1983\n",
      "[iteration 52601] loss: 443.3591\n",
      "[iteration 52701] loss: 417.0635\n",
      "[iteration 52801] loss: 421.9447\n",
      "[iteration 52901] loss: 414.0794\n",
      "[iteration 53001] loss: 435.3915\n",
      "[iteration 53101] loss: 418.9322\n",
      "[iteration 53201] loss: 440.1159\n",
      "[iteration 53301] loss: 406.2151\n",
      "[iteration 53401] loss: 401.8257\n",
      "[iteration 53501] loss: 412.9647\n",
      "[iteration 53601] loss: 417.9003\n",
      "[iteration 53701] loss: 404.0935\n",
      "[iteration 53801] loss: 411.1834\n",
      "[iteration 53901] loss: 414.0548\n",
      "[iteration 54001] loss: 418.8418\n",
      "[iteration 54101] loss: 426.4354\n",
      "[iteration 54201] loss: 409.3587\n",
      "[iteration 54301] loss: 422.6543\n",
      "[iteration 54401] loss: 407.3569\n",
      "[iteration 54501] loss: 416.4154\n",
      "[iteration 54601] loss: 428.7737\n",
      "[iteration 54701] loss: 420.7119\n",
      "[iteration 54801] loss: 439.0518\n",
      "[iteration 54901] loss: 417.9696\n",
      "[iteration 55001] loss: 425.7562\n",
      "[iteration 55101] loss: 417.0785\n",
      "[iteration 55201] loss: 413.5385\n",
      "[iteration 55301] loss: 417.3338\n",
      "[iteration 55401] loss: 429.6816\n",
      "[iteration 55501] loss: 415.2417\n",
      "[iteration 55601] loss: 411.7220\n",
      "[iteration 55701] loss: 427.9078\n",
      "[iteration 55801] loss: 423.9310\n",
      "[iteration 55901] loss: 408.8440\n",
      "[iteration 56001] loss: 419.1650\n",
      "[iteration 56101] loss: 433.5986\n",
      "[iteration 56201] loss: 426.2640\n",
      "[iteration 56301] loss: 407.1925\n",
      "[iteration 56401] loss: 405.1427\n",
      "[iteration 56501] loss: 415.1604\n",
      "[iteration 56601] loss: 430.9006\n",
      "[iteration 56701] loss: 407.9109\n",
      "[iteration 56801] loss: 422.4768\n",
      "[iteration 56901] loss: 416.0444\n",
      "[iteration 57001] loss: 415.1880\n",
      "[iteration 57101] loss: 430.2992\n",
      "[iteration 57201] loss: 407.9199\n",
      "[iteration 57301] loss: 415.9277\n",
      "[iteration 57401] loss: 410.3602\n",
      "[iteration 57501] loss: 415.9813\n",
      "[iteration 57601] loss: 409.1614\n",
      "[iteration 57701] loss: 424.3902\n",
      "[iteration 57801] loss: 422.3788\n",
      "[iteration 57901] loss: 417.4311\n",
      "[iteration 58001] loss: 417.2071\n",
      "[iteration 58101] loss: 415.1489\n",
      "[iteration 58201] loss: 410.6038\n",
      "[iteration 58301] loss: 418.4971\n",
      "[iteration 58401] loss: 412.2438\n",
      "[iteration 58501] loss: 401.7518\n",
      "[iteration 58601] loss: 424.7320\n",
      "[iteration 58701] loss: 404.5333\n",
      "[iteration 58801] loss: 415.7731\n",
      "[iteration 58901] loss: 416.9573\n",
      "[iteration 59001] loss: 418.4872\n",
      "[iteration 59101] loss: 418.4490\n",
      "[iteration 59201] loss: 443.7952\n",
      "[iteration 59301] loss: 415.0267\n",
      "[iteration 59401] loss: 423.5848\n",
      "[iteration 59501] loss: 411.6573\n",
      "[iteration 59601] loss: 415.3328\n",
      "[iteration 59701] loss: 415.9143\n",
      "[iteration 59801] loss: 419.1643\n",
      "[iteration 59901] loss: 419.6447\n",
      "[iteration 60001] loss: 399.4850\n",
      "[iteration 60101] loss: 414.3500\n",
      "[iteration 60201] loss: 429.8620\n",
      "[iteration 60301] loss: 413.8319\n",
      "[iteration 60401] loss: 405.4809\n",
      "[iteration 60501] loss: 410.5558\n",
      "[iteration 60601] loss: 434.3191\n",
      "[iteration 60701] loss: 417.9825\n",
      "[iteration 60801] loss: 408.5246\n",
      "[iteration 60901] loss: 417.2357\n",
      "[iteration 61001] loss: 416.9727\n",
      "[iteration 61101] loss: 418.6559\n",
      "[iteration 61201] loss: 404.6119\n",
      "[iteration 61301] loss: 412.4544\n",
      "[iteration 61401] loss: 392.3512\n",
      "[iteration 61501] loss: 405.1366\n",
      "[iteration 61601] loss: 402.2090\n",
      "[iteration 61701] loss: 405.6313\n",
      "[iteration 61801] loss: 409.5846\n",
      "[iteration 61901] loss: 415.1935\n",
      "[iteration 62001] loss: 417.8651\n",
      "[iteration 62101] loss: 412.7856\n",
      "[iteration 62201] loss: 417.7534\n",
      "[iteration 62301] loss: 405.0369\n",
      "[iteration 62401] loss: 411.4655\n",
      "[iteration 62501] loss: 408.4227\n",
      "[iteration 62601] loss: 417.9882\n",
      "[iteration 62701] loss: 407.0059\n",
      "[iteration 62801] loss: 399.4223\n",
      "[iteration 62901] loss: 412.0811\n",
      "[iteration 63001] loss: 414.3424\n",
      "[iteration 63101] loss: 417.9928\n",
      "[iteration 63201] loss: 422.0005\n",
      "[iteration 63301] loss: 413.8360\n",
      "[iteration 63401] loss: 418.2292\n",
      "[iteration 63501] loss: 404.0950\n",
      "[iteration 63601] loss: 423.8319\n",
      "[iteration 63701] loss: 424.8675\n",
      "[iteration 63801] loss: 422.8816\n",
      "[iteration 63901] loss: 400.8493\n",
      "[iteration 64001] loss: 393.0450\n",
      "[iteration 64101] loss: 417.2069\n",
      "[iteration 64201] loss: 404.4438\n",
      "[iteration 64301] loss: 420.7629\n",
      "[iteration 64401] loss: 409.4656\n",
      "[iteration 64501] loss: 420.9190\n",
      "[iteration 64601] loss: 415.4820\n",
      "[iteration 64701] loss: 415.2833\n",
      "[iteration 64801] loss: 412.5418\n",
      "[iteration 64901] loss: 414.0361\n",
      "[iteration 65001] loss: 407.8192\n",
      "[iteration 65101] loss: 408.6223\n",
      "[iteration 65201] loss: 423.2689\n",
      "[iteration 65301] loss: 405.1363\n",
      "[iteration 65401] loss: 416.8385\n",
      "[iteration 65501] loss: 412.9136\n",
      "[iteration 65601] loss: 415.6665\n",
      "[iteration 65701] loss: 416.0733\n",
      "[iteration 65801] loss: 414.4319\n",
      "[iteration 65901] loss: 400.9011\n",
      "[iteration 66001] loss: 407.2109\n",
      "[iteration 66101] loss: 414.8738\n",
      "[iteration 66201] loss: 412.2816\n",
      "[iteration 66301] loss: 403.1189\n",
      "[iteration 66401] loss: 408.6967\n",
      "[iteration 66501] loss: 414.7509\n",
      "[iteration 66601] loss: 447.9891\n",
      "[iteration 66701] loss: 403.4378\n",
      "[iteration 66801] loss: 425.3877\n",
      "[iteration 66901] loss: 414.4659\n",
      "[iteration 67001] loss: 419.8510\n",
      "[iteration 67101] loss: 412.7941\n",
      "[iteration 67201] loss: 407.7411\n",
      "[iteration 67301] loss: 428.0212\n",
      "[iteration 67401] loss: 395.5860\n",
      "[iteration 67501] loss: 422.8427\n",
      "[iteration 67601] loss: 420.4034\n",
      "[iteration 67701] loss: 405.5099\n",
      "[iteration 67801] loss: 403.8989\n",
      "[iteration 67901] loss: 425.1772\n",
      "[iteration 68001] loss: 397.7947\n",
      "[iteration 68101] loss: 416.4848\n",
      "[iteration 68201] loss: 418.3657\n",
      "[iteration 68301] loss: 392.1990\n",
      "[iteration 68401] loss: 389.0898\n",
      "[iteration 68501] loss: 396.4657\n",
      "[iteration 68601] loss: 411.4026\n",
      "[iteration 68701] loss: 415.9479\n",
      "[iteration 68801] loss: 405.4190\n",
      "[iteration 68901] loss: 423.8384\n",
      "[iteration 69001] loss: 400.9608\n",
      "[iteration 69101] loss: 407.9914\n",
      "[iteration 69201] loss: 407.0699\n",
      "[iteration 69301] loss: 398.8646\n",
      "[iteration 69401] loss: 421.2607\n",
      "[iteration 69501] loss: 397.9037\n",
      "[iteration 69601] loss: 396.4474\n",
      "[iteration 69701] loss: 412.7970\n",
      "[iteration 69801] loss: 436.7597\n",
      "[iteration 69901] loss: 399.1822\n",
      "[iteration 70001] loss: 408.2552\n",
      "[iteration 70101] loss: 409.7648\n",
      "[iteration 70201] loss: 409.9372\n",
      "[iteration 70301] loss: 405.2501\n",
      "[iteration 70401] loss: 411.9565\n",
      "[iteration 70501] loss: 399.3505\n",
      "[iteration 70601] loss: 405.6968\n",
      "[iteration 70701] loss: 411.4482\n",
      "[iteration 70801] loss: 411.4056\n",
      "[iteration 70901] loss: 393.3114\n",
      "[iteration 71001] loss: 403.0124\n",
      "[iteration 71101] loss: 405.5995\n",
      "[iteration 71201] loss: 431.2719\n",
      "[iteration 71301] loss: 401.9424\n",
      "[iteration 71401] loss: 408.3854\n",
      "[iteration 71501] loss: 415.5981\n",
      "[iteration 71601] loss: 408.7037\n",
      "[iteration 71701] loss: 395.4766\n",
      "[iteration 71801] loss: 408.5625\n",
      "[iteration 71901] loss: 402.3499\n",
      "[iteration 72001] loss: 382.6055\n",
      "[iteration 72101] loss: 419.6304\n",
      "[iteration 72201] loss: 400.6199\n",
      "[iteration 72301] loss: 388.2089\n",
      "[iteration 72401] loss: 389.1270\n",
      "[iteration 72501] loss: 419.2283\n",
      "[iteration 72601] loss: 407.1634\n",
      "[iteration 72701] loss: 414.1113\n",
      "[iteration 72801] loss: 401.0700\n",
      "[iteration 72901] loss: 404.1472\n",
      "[iteration 73001] loss: 407.4087\n",
      "[iteration 73101] loss: 402.7073\n",
      "[iteration 73201] loss: 405.3336\n",
      "[iteration 73301] loss: 409.0662\n",
      "[iteration 73401] loss: 410.9369\n",
      "[iteration 73501] loss: 395.5078\n",
      "[iteration 73601] loss: 415.9723\n",
      "[iteration 73701] loss: 399.1217\n",
      "[iteration 73801] loss: 403.8816\n",
      "[iteration 73901] loss: 432.1887\n",
      "[iteration 74001] loss: 418.8815\n",
      "[iteration 74101] loss: 416.9459\n",
      "[iteration 74201] loss: 392.5273\n"
     ]
    },
    {
     "ename": "KeyboardInterrupt",
     "evalue": "",
     "output_type": "error",
     "traceback": [
      "\u001b[0;31m---------------------------------------------------------------------------\u001b[0m",
      "\u001b[0;31mKeyboardInterrupt\u001b[0m                         Traceback (most recent call last)",
      "Cell \u001b[0;32mIn[49], line 1\u001b[0m\n\u001b[0;32m----> 1\u001b[0m model\u001b[39m.\u001b[39;49mfit(timepoints, proportions, n_iter\u001b[39m=\u001b[39;49m\u001b[39m1000000\u001b[39;49m, lr\u001b[39m=\u001b[39;49m\u001b[39m0.00001\u001b[39;49m, guide\u001b[39m=\u001b[39;49m\u001b[39m\"\u001b[39;49m\u001b[39mMultivariateNormalFactorized\u001b[39;49m\u001b[39m\"\u001b[39;49m)\n",
      "File \u001b[0;32m~/Documents/azizilab/DIISCO/diisco/diisco/diisco.py:142\u001b[0m, in \u001b[0;36mDIISCO.fit\u001b[0;34m(self, timepoints, proportions, n_iter, lr, guide, subsample_size, hypers_to_optim)\u001b[0m\n\u001b[1;32m    140\u001b[0m \u001b[39mself\u001b[39m\u001b[39m.\u001b[39m_is_fit \u001b[39m=\u001b[39m \u001b[39mTrue\u001b[39;00m\n\u001b[1;32m    141\u001b[0m \u001b[39mfor\u001b[39;00m i \u001b[39min\u001b[39;00m \u001b[39mrange\u001b[39m(n_iter):\n\u001b[0;32m--> 142\u001b[0m     loss \u001b[39m=\u001b[39m \u001b[39mself\u001b[39;49m\u001b[39m.\u001b[39;49msvi\u001b[39m.\u001b[39;49mstep(timepoints, proportions)\n\u001b[1;32m    143\u001b[0m     loss \u001b[39m=\u001b[39m (\n\u001b[1;32m    144\u001b[0m         loss \u001b[39m/\u001b[39m \u001b[39mself\u001b[39m\u001b[39m.\u001b[39mn_timepoints \u001b[39m*\u001b[39m \u001b[39mself\u001b[39m\u001b[39m.\u001b[39mn_cell_types \u001b[39m*\u001b[39m \u001b[39mself\u001b[39m\u001b[39m.\u001b[39mn_cell_types\n\u001b[1;32m    145\u001b[0m     )\n\u001b[1;32m    146\u001b[0m     \u001b[39mself\u001b[39m\u001b[39m.\u001b[39mlosses\u001b[39m.\u001b[39mappend(loss)\n",
      "File \u001b[0;32m~/Documents/azizilab/DIISCO/.venv/lib/python3.9/site-packages/pyro/infer/svi.py:145\u001b[0m, in \u001b[0;36mSVI.step\u001b[0;34m(self, *args, **kwargs)\u001b[0m\n\u001b[1;32m    143\u001b[0m \u001b[39m# get loss and compute gradients\u001b[39;00m\n\u001b[1;32m    144\u001b[0m \u001b[39mwith\u001b[39;00m poutine\u001b[39m.\u001b[39mtrace(param_only\u001b[39m=\u001b[39m\u001b[39mTrue\u001b[39;00m) \u001b[39mas\u001b[39;00m param_capture:\n\u001b[0;32m--> 145\u001b[0m     loss \u001b[39m=\u001b[39m \u001b[39mself\u001b[39;49m\u001b[39m.\u001b[39;49mloss_and_grads(\u001b[39mself\u001b[39;49m\u001b[39m.\u001b[39;49mmodel, \u001b[39mself\u001b[39;49m\u001b[39m.\u001b[39;49mguide, \u001b[39m*\u001b[39;49margs, \u001b[39m*\u001b[39;49m\u001b[39m*\u001b[39;49mkwargs)\n\u001b[1;32m    147\u001b[0m params \u001b[39m=\u001b[39m \u001b[39mset\u001b[39m(\n\u001b[1;32m    148\u001b[0m     site[\u001b[39m\"\u001b[39m\u001b[39mvalue\u001b[39m\u001b[39m\"\u001b[39m]\u001b[39m.\u001b[39munconstrained() \u001b[39mfor\u001b[39;00m site \u001b[39min\u001b[39;00m param_capture\u001b[39m.\u001b[39mtrace\u001b[39m.\u001b[39mnodes\u001b[39m.\u001b[39mvalues()\n\u001b[1;32m    149\u001b[0m )\n\u001b[1;32m    151\u001b[0m \u001b[39m# actually perform gradient steps\u001b[39;00m\n\u001b[1;32m    152\u001b[0m \u001b[39m# torch.optim objects gets instantiated for any params that haven't been seen yet\u001b[39;00m\n",
      "File \u001b[0;32m~/Documents/azizilab/DIISCO/.venv/lib/python3.9/site-packages/pyro/infer/trace_elbo.py:140\u001b[0m, in \u001b[0;36mTrace_ELBO.loss_and_grads\u001b[0;34m(self, model, guide, *args, **kwargs)\u001b[0m\n\u001b[1;32m    138\u001b[0m loss \u001b[39m=\u001b[39m \u001b[39m0.0\u001b[39m\n\u001b[1;32m    139\u001b[0m \u001b[39m# grab a trace from the generator\u001b[39;00m\n\u001b[0;32m--> 140\u001b[0m \u001b[39mfor\u001b[39;00m model_trace, guide_trace \u001b[39min\u001b[39;00m \u001b[39mself\u001b[39m\u001b[39m.\u001b[39m_get_traces(model, guide, args, kwargs):\n\u001b[1;32m    141\u001b[0m     loss_particle, surrogate_loss_particle \u001b[39m=\u001b[39m \u001b[39mself\u001b[39m\u001b[39m.\u001b[39m_differentiable_loss_particle(\n\u001b[1;32m    142\u001b[0m         model_trace, guide_trace\n\u001b[1;32m    143\u001b[0m     )\n\u001b[1;32m    144\u001b[0m     loss \u001b[39m+\u001b[39m\u001b[39m=\u001b[39m loss_particle \u001b[39m/\u001b[39m \u001b[39mself\u001b[39m\u001b[39m.\u001b[39mnum_particles\n",
      "File \u001b[0;32m~/Documents/azizilab/DIISCO/.venv/lib/python3.9/site-packages/pyro/infer/elbo.py:237\u001b[0m, in \u001b[0;36mELBO._get_traces\u001b[0;34m(self, model, guide, args, kwargs)\u001b[0m\n\u001b[1;32m    235\u001b[0m \u001b[39melse\u001b[39;00m:\n\u001b[1;32m    236\u001b[0m     \u001b[39mfor\u001b[39;00m i \u001b[39min\u001b[39;00m \u001b[39mrange\u001b[39m(\u001b[39mself\u001b[39m\u001b[39m.\u001b[39mnum_particles):\n\u001b[0;32m--> 237\u001b[0m         \u001b[39myield\u001b[39;00m \u001b[39mself\u001b[39;49m\u001b[39m.\u001b[39;49m_get_trace(model, guide, args, kwargs)\n",
      "File \u001b[0;32m~/Documents/azizilab/DIISCO/.venv/lib/python3.9/site-packages/pyro/infer/trace_elbo.py:57\u001b[0m, in \u001b[0;36mTrace_ELBO._get_trace\u001b[0;34m(self, model, guide, args, kwargs)\u001b[0m\n\u001b[1;32m     52\u001b[0m \u001b[39mdef\u001b[39;00m \u001b[39m_get_trace\u001b[39m(\u001b[39mself\u001b[39m, model, guide, args, kwargs):\n\u001b[1;32m     53\u001b[0m \u001b[39m    \u001b[39m\u001b[39m\"\"\"\u001b[39;00m\n\u001b[1;32m     54\u001b[0m \u001b[39m    Returns a single trace from the guide, and the model that is run\u001b[39;00m\n\u001b[1;32m     55\u001b[0m \u001b[39m    against it.\u001b[39;00m\n\u001b[1;32m     56\u001b[0m \u001b[39m    \"\"\"\u001b[39;00m\n\u001b[0;32m---> 57\u001b[0m     model_trace, guide_trace \u001b[39m=\u001b[39m get_importance_trace(\n\u001b[1;32m     58\u001b[0m         \u001b[39m\"\u001b[39;49m\u001b[39mflat\u001b[39;49m\u001b[39m\"\u001b[39;49m, \u001b[39mself\u001b[39;49m\u001b[39m.\u001b[39;49mmax_plate_nesting, model, guide, args, kwargs\n\u001b[1;32m     59\u001b[0m     )\n\u001b[1;32m     60\u001b[0m     \u001b[39mif\u001b[39;00m is_validation_enabled():\n\u001b[1;32m     61\u001b[0m         check_if_enumerated(guide_trace)\n",
      "File \u001b[0;32m~/Documents/azizilab/DIISCO/.venv/lib/python3.9/site-packages/pyro/infer/enum.py:83\u001b[0m, in \u001b[0;36mget_importance_trace\u001b[0;34m(graph_type, max_plate_nesting, model, guide, args, kwargs, detach)\u001b[0m\n\u001b[1;32m     81\u001b[0m     \u001b[39mfor\u001b[39;00m site \u001b[39min\u001b[39;00m guide_trace\u001b[39m.\u001b[39mnodes\u001b[39m.\u001b[39mvalues():\n\u001b[1;32m     82\u001b[0m         \u001b[39mif\u001b[39;00m site[\u001b[39m\"\u001b[39m\u001b[39mtype\u001b[39m\u001b[39m\"\u001b[39m] \u001b[39m==\u001b[39m \u001b[39m\"\u001b[39m\u001b[39msample\u001b[39m\u001b[39m\"\u001b[39m:\n\u001b[0;32m---> 83\u001b[0m             check_site_shape(site, max_plate_nesting)\n\u001b[1;32m     85\u001b[0m \u001b[39mreturn\u001b[39;00m model_trace, guide_trace\n",
      "File \u001b[0;32m~/Documents/azizilab/DIISCO/.venv/lib/python3.9/site-packages/pyro/util.py:388\u001b[0m, in \u001b[0;36mcheck_site_shape\u001b[0;34m(site, max_plate_nesting)\u001b[0m\n\u001b[1;32m    379\u001b[0m         \u001b[39mif\u001b[39;00m \u001b[39m\"\u001b[39m\u001b[39mhas_rsample\u001b[39m\u001b[39m\"\u001b[39m \u001b[39mnot\u001b[39;00m \u001b[39min\u001b[39;00m site[\u001b[39m\"\u001b[39m\u001b[39mfn\u001b[39m\u001b[39m\"\u001b[39m]\u001b[39m.\u001b[39m\u001b[39m__dict__\u001b[39m:\n\u001b[1;32m    380\u001b[0m             \u001b[39mraise\u001b[39;00m \u001b[39mValueError\u001b[39;00m(\n\u001b[1;32m    381\u001b[0m                 \u001b[39mf\u001b[39m\u001b[39m'\u001b[39m\u001b[39mAt guide site pyro.factor(\u001b[39m\u001b[39m\"\u001b[39m\u001b[39m{\u001b[39;00mname\u001b[39m}\u001b[39;00m\u001b[39m\"\u001b[39m\u001b[39m,...), \u001b[39m\u001b[39m'\u001b[39m\n\u001b[1;32m    382\u001b[0m                 \u001b[39m\"\u001b[39m\u001b[39mmissing specification of has_rsample. \u001b[39m\u001b[39m\"\u001b[39m\n\u001b[1;32m    383\u001b[0m                 \u001b[39m\"\u001b[39m\u001b[39mPlease either set has_rsample=True if the factor statement arises \u001b[39m\u001b[39m\"\u001b[39m\n\u001b[1;32m    384\u001b[0m                 \u001b[39m\"\u001b[39m\u001b[39mfrom reparametrized sampling or has_rsample=False otherwise.\u001b[39m\u001b[39m\"\u001b[39m\n\u001b[1;32m    385\u001b[0m             )\n\u001b[0;32m--> 388\u001b[0m \u001b[39mdef\u001b[39;00m \u001b[39mcheck_site_shape\u001b[39m(site, max_plate_nesting):\n\u001b[1;32m    389\u001b[0m     actual_shape \u001b[39m=\u001b[39m \u001b[39mlist\u001b[39m(site[\u001b[39m\"\u001b[39m\u001b[39mlog_prob\u001b[39m\u001b[39m\"\u001b[39m]\u001b[39m.\u001b[39mshape)\n\u001b[1;32m    391\u001b[0m     \u001b[39m# Compute expected shape.\u001b[39;00m\n",
      "\u001b[0;31mKeyboardInterrupt\u001b[0m: "
     ]
    }
   ],
   "source": [
    "model.fit(timepoints, proportions, n_iter=1000000, lr=0.00001, guide=\"MultivariateNormalFactorized\")"
   ]
  },
  {
   "cell_type": "code",
   "execution_count": 52,
   "id": "41e75713",
   "metadata": {},
   "outputs": [
    {
     "data": {
      "text/plain": [
       "[<matplotlib.lines.Line2D at 0x15e47fb80>]"
      ]
     },
     "execution_count": 52,
     "metadata": {},
     "output_type": "execute_result"
    },
    {
     "data": {
      "image/png": "[encoded data removed]",
      "text/plain": [
       "<Figure size 640x480 with 1 Axes>"
      ]
     },
     "metadata": {},
     "output_type": "display_data"
    }
   ],
   "source": [
    "start = 40000\n",
    "plt.plot((model.losses[start:]))"
   ]
  },
  {
   "cell_type": "code",
   "execution_count": 53,
   "id": "9de9d844",
   "metadata": {},
   "outputs": [],
   "source": [
    "y = model.sample_observed_proportions(n_samples=1000).detach()"
   ]
  },
  {
   "cell_type": "markdown",
   "id": "76f0c1cf",
   "metadata": {},
   "source": []
  },
  {
   "cell_type": "code",
   "execution_count": 54,
   "id": "4ca133c5",
   "metadata": {},
   "outputs": [
    {
     "data": {
      "text/plain": [
       "Text(0.5, 1.05, 'DIISCO posterior samples')"
      ]
     },
     "execution_count": 54,
     "metadata": {},
     "output_type": "execute_result"
    },
    {
     "data": {
      "image/png": "[encoded data removed]",
      "text/plain": [
       "<Figure size 1500x400 with 4 Axes>"
      ]
     },
     "metadata": {},
     "output_type": "display_data"
    }
   ],
   "source": [
    "fig, axes = plt.subplots(1, n_cell_types, figsize=(15, 4))\n",
    "for i in range(n_cell_types):\n",
    "    cell_type_samples = y[:, :, i]\n",
    "    mean = cell_type_samples.mean(axis=0)\n",
    "    percentile_75 = np.percentile(cell_type_samples, 95, axis=0)\n",
    "    percentile_25 = np.percentile(cell_type_samples, 5, axis=0)\n",
    "    axes[i].plot(timepoints, mean, c='tab:blue')\n",
    "    axes[i].fill_between(timepoints.squeeze(), percentile_25, percentile_75, color='tab:blue', alpha=0.2)\n",
    "    axes[i].scatter(timepoints, proportions[:, i], c='tab:orange')\n",
    "    axes[i].set_title(cell_types[i])\n",
    "\n",
    "plt.suptitle('DIISCO posterior samples', fontsize=15, y=1.05)\n"
   ]
  },
  {
   "cell_type": "code",
   "execution_count": 76,
   "id": "1c203e89",
   "metadata": {},
   "outputs": [
    {
     "name": "stderr",
     "output_type": "stream",
     "text": [
      "  0%|          | 0/2000 [00:00<?, ?it/s]"
     ]
    },
    {
     "name": "stderr",
     "output_type": "stream",
     "text": [
      "100%|██████████| 2000/2000 [00:07<00:00, 283.62it/s]\n"
     ]
    },
    {
     "name": "stdout",
     "output_type": "stream",
     "text": [
      "key:  W samples[key].shape:  torch.Size([10, 100, 4, 4])\n",
      "len samples[key]:  200\n",
      "key:  F samples[key].shape:  torch.Size([10, 100, 4, 1])\n",
      "len samples[key]:  200\n",
      "key:  Y samples[key].shape:  torch.Size([10, 100, 4])\n",
      "len samples[key]:  200\n",
      "torch.Size([2000, 100, 4])\n"
     ]
    }
   ],
   "source": [
    "predict_timepoints = torch.linspace(timepoints.min(), timepoints.max(), 100).reshape(-1, 1)\n",
    "y_samples_predict = model.sample(predict_timepoints, n_samples=2000, sample_reuse_rate=10)\n",
    "y_samples_predict = y_samples_predict[names.Y]\n",
    "\n",
    "print(y_samples_predict.shape)"
   ]
  },
  {
   "cell_type": "code",
   "execution_count": 77,
   "id": "ba3d75da",
   "metadata": {},
   "outputs": [
    {
     "data": {
      "text/plain": [
       "Text(0.5, 1.05, 'DIISCO posterior samples')"
      ]
     },
     "execution_count": 77,
     "metadata": {},
     "output_type": "execute_result"
    },
    {
     "data": {
      "image/png": "[encoded data removed]",
      "text/plain": [
       "<Figure size 1500x400 with 4 Axes>"
      ]
     },
     "metadata": {},
     "output_type": "display_data"
    }
   ],
   "source": [
    "fig, axes = plt.subplots(1, n_cell_types, figsize=(15, 4))\n",
    "for i in range(n_cell_types):\n",
    "    cell_type_samples = y_samples_predict[:, :, i]\n",
    "    mean = cell_type_samples.mean(axis=0)\n",
    "\n",
    "    x = predict_timepoints.squeeze().numpy()\n",
    "    percentile_75 = np.percentile(cell_type_samples, 75, axis=0)\n",
    "    percentile_25 = np.percentile(cell_type_samples, 25, axis=0)\n",
    "\n",
    "    axes[i].plot(x, mean, c='tab:blue')\n",
    "    axes[i].fill_between(x, percentile_25, percentile_75, color='tab:blue', alpha=0.2)\n",
    "    axes[i].scatter(timepoints, proportions[:, i], c='tab:orange')\n",
    "    axes[i].set_title(df.columns[i])\n",
    "\n",
    "plt.suptitle('DIISCO posterior samples', fontsize=15, y=1.05)\n"
   ]
  },
  {
   "cell_type": "code",
   "execution_count": null,
   "id": "02196f0b",
   "metadata": {},
   "outputs": [],
   "source": [
    "learned_W = model.get_W_mean(n_samples=1000)\n",
    "num_cols = 2\n",
    "num_rows = int(np.ceil(n_timepoints / num_cols))\n",
    "\n",
    "fig, ax = plt.subplots(num_rows, num_cols, figsize=(10, num_rows * 3))\n",
    "for timepoint_idx in range(n_timepoints):\n",
    "    row_idx = timepoint_idx // num_cols\n",
    "    col_idx = timepoint_idx % num_cols\n",
    "    # Set colors to red and blue centered on 0 \n",
    "    ax[row_idx, col_idx].imshow(learned_W[timepoint_idx, :, :].detach().numpy(), cmap='RdBu', vmin=-1, vmax=1)\n",
    "    ax[row_idx, col_idx].set_title(f'W_{timepoint_idx}')\n",
    "    # Add the numerical value of the W matrix\n",
    "    for i in range(learned_W.shape[1]):\n",
    "        for j in range(learned_W.shape[2]):\n",
    "            text = ax[row_idx, col_idx].text(j, i, round(learned_W[timepoint_idx, i, j].item(), 2),\n",
    "                                       ha=\"center\", va=\"center\", color=\"w\")\n",
    "\n",
    "    # Add the names from the cell types\n",
    "    ax[row_idx, col_idx].set_xticks(np.arange(len(cell_types)))\n",
    "    ax[row_idx, col_idx].set_yticks(np.arange(len(cell_types)))\n",
    "    ax[row_idx, col_idx].set_xticklabels(cell_types)\n",
    "    ax[row_idx, col_idx].set_yticklabels(cell_types)\n",
    "\n",
    "    # Rotate the tick labels and set their alignment.\n",
    "    plt.setp(ax[row_idx, col_idx].get_xticklabels(), rotation=45, ha=\"right\",\n",
    "                rotation_mode=\"anchor\")\n",
    "    \n",
    "    \n",
    "    \n",
    "\n",
    "\n",
    "plt.suptitle('Learned W', fontsize=15, y=1.05)\n",
    "plt.tight_layout()"
   ]
  },
  {
   "cell_type": "code",
   "execution_count": null,
   "id": "a20cef9f",
   "metadata": {},
   "outputs": [],
   "source": []
  },
  {
   "cell_type": "code",
   "execution_count": null,
   "id": "2af6bd04",
   "metadata": {},
   "outputs": [],
   "source": [
    "# Plot the W values through time \n",
    "fig, ax = plt.subplots(figsize=(20, 20))\n",
    "for i in range(n_cell_types):\n",
    "    for j in range(n_cell_types):\n",
    "        name = 'output:'+ cell_types[i] + \" input:\" + cell_types[j]\n",
    "        ax.plot(learned_W[:, i, j].detach().numpy(), label=f'W_{i}{j} {name}')\n",
    "        \n",
    "ax.set_title('W values through time')\n",
    "ax.legend()"
   ]
  },
  {
   "cell_type": "code",
   "execution_count": null,
   "id": "1696beaf",
   "metadata": {},
   "outputs": [],
   "source": [
    "learned_W = model.get_W_mean(n_samples=100)\n",
    "learned_W_avg = learned_W.mean(axis=0)\n",
    "\n",
    "fig, ax = plt.subplots(1,1, figsize=(5, 5))\n",
    "# Show images\n",
    "plt.imshow(learned_W_avg.detach().numpy(), cmap='RdBu', vmin=-1, vmax=1)\n",
    "# Add the numerical value of the W matrix\n",
    "for i in range(learned_W_avg.shape[0]):\n",
    "    for j in range(learned_W_avg.shape[1]):\n",
    "        text = ax.text(j, i, round(learned_W_avg[i, j].item(), 5),\n",
    "                   ha=\"center\", va=\"center\", color=\"w\")\n",
    "# Add the names from the cell types\n",
    "ax.set_xticks(np.arange(len(cell_types)))\n",
    "ax.set_yticks(np.arange(len(cell_types)))\n",
    "ax.set_xticklabels(cell_types)\n",
    "ax.set_yticklabels(cell_types)\n",
    "\n",
    "# Rotate the tick labels and set their alignment.\n",
    "plt.setp(ax.get_xticklabels(), rotation=45, ha=\"right\",\n",
    "            rotation_mode=\"anchor\") \n",
    "\n",
    "    \n",
    "\n",
    "\n"
   ]
  },
  {
   "cell_type": "code",
   "execution_count": null,
   "id": "62099f28",
   "metadata": {},
   "outputs": [],
   "source": [
    "# Here we compared the learned latent proportions to the true latent proportions\n",
    "f_mean = model.get_f_mean(n_samples=100)\n",
    "f_mean = f_mean.detach().numpy()\n",
    "f_true = proportions.detach().numpy()\n",
    "assert f_mean.shape == f_true.shape\n",
    "assert f_mean.shape == (n_timepoints, n_cell_types)\n",
    "\n",
    "fig, ax =  plt.subplots(1, n_cell_types, figsize=(15, 4))\n",
    "for cell_type_idx in range(n_cell_types):\n",
    "    timepoints_np = timepoints.squeeze().numpy()\n",
    "    ax[cell_type_idx].scatter(timepoints_np, f_true[:, cell_type_idx], c='tab:orange', label='True')\n",
    "    ax[cell_type_idx].scatter(timepoints_np, f_mean[:, cell_type_idx], c='tab:blue', label='Learned')\n",
    "\n",
    "    ax[cell_type_idx].plot(timepoints_np, f_true[:, cell_type_idx], c='tab:orange')\n",
    "    ax[cell_type_idx].plot(timepoints_np, f_mean[:, cell_type_idx], c='tab:blue')\n",
    "\n",
    "    ax[cell_type_idx].set_title(cell_types[cell_type_idx])\n",
    "    ax[cell_type_idx].set_xlabel('Time')\n",
    "    ax[cell_type_idx].set_ylabel('Normalize Proportion')\n",
    "    ax[cell_type_idx].legend()\n",
    "    \n"
   ]
  },
  {
   "cell_type": "markdown",
   "id": "d9962875",
   "metadata": {},
   "source": [
    "# Older Model"
   ]
  },
  {
   "cell_type": "code",
   "execution_count": null,
   "id": "c8f0df44",
   "metadata": {
    "ExecuteTime": {
     "end_time": "2022-05-26T17:48:10.185784Z",
     "start_time": "2022-05-26T17:48:05.235744Z"
    },
    "hidden": true,
    "scrolled": true
   },
   "outputs": [],
   "source": [
    "x_gp = torch.linspace(timepoints.min(), timepoints.max(), 200).reshape(-1, 1)\n",
    "y_gp = torch.sin(x_gp) + 0.1 * torch.randn(x_gp.shape)\n",
    "\n",
    "plt.scatter(x_gp, y_gp)"
   ]
  },
  {
   "cell_type": "code",
   "execution_count": null,
   "id": "f36fce63",
   "metadata": {},
   "outputs": [],
   "source": [
    "from diisco.gaussian_process import GaussianProcessRegressor\n",
    "from functools import partial\n",
    "from diisco.math_ops import rbf_kernel\n",
    "\n",
    "kernel = partial(rbf_kernel, length_scale=1, variance=0.1)\n",
    "regressor = GaussianProcessRegressor(kernel=kernel)\n",
    "regressor.fit(x_gp, y_gp)\n",
    "\n",
    "x_test_gp = torch.linspace(timepoints.min(), timepoints.max(), 1000).reshape(-1, 1)\n",
    "y_test_gp, y_test_std = regressor.predict(x_test_gp)\n",
    "plt.plot(x_test_gp, y_test_gp)"
   ]
  },
  {
   "cell_type": "code",
   "execution_count": null,
   "id": "2de69268",
   "metadata": {
    "ExecuteTime": {
     "end_time": "2022-05-26T17:48:10.355319Z",
     "start_time": "2022-05-26T17:48:10.186951Z"
    },
    "hidden": true
   },
   "outputs": [],
   "source": [
    "plt.figure(figsize=(18, 5))\n",
    "\n",
    "plt.subplot(1, 2, 1)\n",
    "plt.plot(res['nelbos'][1:])\n",
    "plt.xlabel('Epochs')\n",
    "plt.ylabel('nelbos loss', fontsize=14)\n",
    "\n",
    "plt.subplot(1, 2, 2)\n",
    "plt.plot(res['nrmse'][1:])\n",
    "plt.xlabel('Epochs')\n",
    "plt.ylabel('nrmse', fontsize=14)\n",
    "\n",
    "plt.suptitle('GPRN training loss', fontsize=14)"
   ]
  },
  {
   "cell_type": "markdown",
   "id": "d84cc389",
   "metadata": {
    "hidden": true
   },
   "source": [
    "Compare GPRN latent functions $f_i$'s vs $f_i$ priors"
   ]
  },
  {
   "cell_type": "code",
   "execution_count": null,
   "id": "a03f9ff0",
   "metadata": {
    "ExecuteTime": {
     "end_time": "2022-05-26T17:48:10.731972Z",
     "start_time": "2022-05-26T17:48:10.356925Z"
    },
    "hidden": true
   },
   "outputs": [],
   "source": [
    "int_slider = widgets.IntSlider(\n",
    "    value=0, \n",
    "    min=0, max=res['W_mu'].shape[0]-1, step=1,\n",
    "    description='epoch'\n",
    ")\n",
    "\n",
    "def update(var):\n",
    "    f_pred = res['f_mu'][var]\n",
    "    plt.figure(figsize=(18, 4))\n",
    "    plt.suptitle('GPRN latent functions $f_i$\\'s vs $f_i$ priors', fontsize=15, y=1.05)\n",
    "    for i, f_i in enumerate(f_priors):\n",
    "        plt.subplot(1, 4, i+1)\n",
    "        plt.plot(X.flatten(), f_i, c='tab:blue', label='Prior')\n",
    "        plt.plot(X_test.flatten(), f_pred[:, i].flatten(), c='tab:red', label='GPRN posterior')\n",
    "        plt.title(f'$f_{i+1}$ ({cell_types[i]})', fontsize=14)\n",
    "        plt.legend(loc='lower right', fontsize=12)\n",
    "\n",
    "interact(update, var=int_slider)"
   ]
  },
  {
   "cell_type": "markdown",
   "id": "011d3d5a",
   "metadata": {
    "hidden": true
   },
   "source": [
    "Compare GPRN predictions $y$ vs actual"
   ]
  },
  {
   "cell_type": "code",
   "execution_count": null,
   "id": "ed42c25a",
   "metadata": {
    "ExecuteTime": {
     "end_time": "2022-05-26T17:48:10.994843Z",
     "start_time": "2022-05-26T17:48:10.733420Z"
    },
    "hidden": true
   },
   "outputs": [],
   "source": [
    "int_slider = widgets.IntSlider(\n",
    "    value=0, \n",
    "    min=0, max=res['W_mu'].shape[0]-1, step=1,\n",
    "    description='epoch'\n",
    ")\n",
    "\n",
    "def update(var):\n",
    "    y_preds = res['Y_pred'][var]\n",
    "    plt.figure(figsize=(18, 4))\n",
    "    for i, y_i in enumerate(Y.T):\n",
    "        plt.subplot(1, 4, i+1)\n",
    "        plt.scatter(X.flatten(), Y_uncentered.T[i], s=15)\n",
    "        y_i_preds = y_preds[:, i]\n",
    "        y_i_preds_uncentered = y_i_preds + cell_type_means[i]\n",
    "        plt.plot(X_test.flatten(), y_i_preds_uncentered, c='tab:red')\n",
    "        plt.title(f'{df.columns[i]}', fontsize=14)\n",
    "        if i==0: plt.ylabel('Proportion', fontsize=12)\n",
    "        plt.ylim([0, 1])\n",
    "    plt.suptitle('GPRN predictions vs actual', fontsize=15, y=1.05)\n",
    "\n",
    "interact(update, var=int_slider)"
   ]
  },
  {
   "cell_type": "code",
   "execution_count": null,
   "id": "9d8bf753",
   "metadata": {
    "ExecuteTime": {
     "end_time": "2022-05-26T17:48:18.617953Z",
     "start_time": "2022-05-26T17:48:16.249323Z"
    },
    "hidden": true
   },
   "outputs": [],
   "source": [
    "y_samples, W_samples = model.eval_test_post()\n",
    "\n",
    "plt.figure(figsize=(18, 4))\n",
    "for i in range(y_samples.shape[2]):\n",
    "    plt.subplot(1, 4, i+1)\n",
    "    for sample in y_samples[:100, :, i]:\n",
    "        plt.scatter(X_test.flatten(), sample, c='tab:red', s=0.5)\n",
    "    y_samples_95_percentile = np.percentile(y_samples[:, :, i], 90, axis=0)\n",
    "    y_samples_5_percentile = np.percentile(y_samples[:, :, i], 10, axis=0)\n",
    "    plt.plot(X_test.flatten(), y_samples_95_percentile, c='tab:blue', label='90th percentile')\n",
    "    plt.plot(X_test.flatten(), y_samples_5_percentile, c='tab:green', label='10th percentile')\n",
    "    plt.title(f'{df.columns[i]}', fontsize=14)\n",
    "    if i==0: plt.ylabel('Proportion', fontsize=12)\n",
    "    plt.legend(loc='upper left', fontsize=10)\n",
    "#     plt.ylim([-0.5, 0.5])\n",
    "plt.suptitle('GPRN posterior samples', fontsize=15, y=1.05)"
   ]
  },
  {
   "cell_type": "code",
   "execution_count": null,
   "id": "495b19b1",
   "metadata": {
    "ExecuteTime": {
     "end_time": "2022-05-26T17:48:18.876184Z",
     "start_time": "2022-05-26T17:48:18.619062Z"
    },
    "hidden": true
   },
   "outputs": [],
   "source": [
    "epoch_index = 5\n",
    "y_preds = res['Y_pred'][epoch_index]\n",
    "\n",
    "cell_type_color = [('CLL', 'tab:blue'), \n",
    "                   ('CD8+ T cells', 'tab:orange'), \n",
    "                   ('Activated T cells', 'tab:green'),\n",
    "                   ('Exhausted T cells', 'tab:red')]\n",
    "\n",
    "plt.figure(figsize=(18, 4))\n",
    "for i, y_i in enumerate(Y.T):\n",
    "    plt.subplot(1, 4, i+1)\n",
    "    plt.scatter(X, Y_uncentered.T[i], c=cell_type_color[i][1], s=15)\n",
    "    y_i_preds = y_preds[:, i]\n",
    "    y_i_preds_uncentered = y_i_preds + cell_type_means[i]\n",
    "    plt.plot(X_test.flatten(), y_i_preds_uncentered, c=cell_type_color[i][1])\n",
    "    y_samples_75_percentile = np.percentile(y_samples[:, :, i], 75, axis=0)\n",
    "    y_samples_75_percentile_uncentered = y_samples_75_percentile + cell_type_means[i]\n",
    "    y_samples_25_percentile = np.percentile(y_samples[:, :, i], 25, axis=0)\n",
    "    y_samples_25_percentile_uncentered = y_samples_25_percentile + cell_type_means[i]\n",
    "    plt.fill_between(X_test.flatten(), y_samples_25_percentile_uncentered, \n",
    "                     y_samples_75_percentile_uncentered, \n",
    "                     color=cell_type_color[i][1], alpha=0.2)\n",
    "    plt.title(f'{cell_type_color[i][0]} proportion', fontsize=14)\n",
    "    if i==0: plt.ylabel('Proportion', fontsize=12)\n",
    "    plt.ylim([0, 1.0])\n",
    "plt.suptitle('GPRN predictions vs actual', fontsize=15, y=1.05)"
   ]
  },
  {
   "cell_type": "code",
   "execution_count": null,
   "id": "27843f75",
   "metadata": {
    "ExecuteTime": {
     "end_time": "2022-05-26T17:49:36.208952Z",
     "start_time": "2022-05-26T17:49:36.037963Z"
    },
    "hidden": true
   },
   "outputs": [],
   "source": [
    "epoch_index = 5\n",
    "y_preds = res['Y_pred'][epoch_index]\n",
    "\n",
    "plt.figure(figsize=(9, 6))\n",
    "for i, cell_type in enumerate(cell_types):\n",
    "    plt.scatter(X.flatten(), Y_uncentered.T[i], label=cell_type, s=15)\n",
    "    y_i_preds = y_preds[:, i]\n",
    "    y_i_preds_uncentered = y_i_preds + cell_type_means[i]\n",
    "    plt.plot(X_test.flatten(), y_i_preds_uncentered)\n",
    "    y_samples_75_percentile = np.percentile(y_samples[:, :, i], 75, axis=0)\n",
    "    y_samples_75_percentile_uncentered = y_samples_75_percentile + cell_type_means[i]\n",
    "    y_samples_25_percentile = np.percentile(y_samples[:, :, i], 25, axis=0)\n",
    "    y_samples_25_percentile_uncentered = y_samples_25_percentile + cell_type_means[i]\n",
    "    plt.fill_between(X_test.flatten(), y_samples_25_percentile_uncentered, \n",
    "                     y_samples_75_percentile_uncentered, \n",
    "                     color=cell_type_color[i][1], alpha=0.2)\n",
    "plt.legend(loc='upper left', fontsize=12)\n",
    "plt.xticks(rotation=45)\n",
    "plt.ylim([-1.5, 2])\n",
    "plt.title('Proportion of cells over time by cell type', fontsize=14)"
   ]
  },
  {
   "cell_type": "code",
   "execution_count": null,
   "id": "ba37cf12",
   "metadata": {
    "ExecuteTime": {
     "end_time": "2022-05-26T17:49:39.171207Z",
     "start_time": "2022-05-26T17:49:38.987638Z"
    },
    "hidden": true
   },
   "outputs": [],
   "source": [
    "epoch_index = 5\n",
    "W = res['W_mu'][epoch_index]\n",
    "W_avg_over_time = np.mean(W, axis=0)\n",
    "\n",
    "plt.figure(figsize=(5, 4))\n",
    "ax = sns.heatmap(W_avg_over_time, cmap=\"RdBu_r\", annot=True, \n",
    "                 vmin=-1, vmax=1)\n",
    "ax.set_yticklabels(cell_types, fontsize=12)\n",
    "ax.set_xticklabels(cell_types, fontsize=12)\n",
    "plt.yticks(rotation=0)\n",
    "plt.xticks(rotation=45)\n",
    "plt.title('$\\hat{W}_{avg}$', fontsize=14)"
   ]
  },
  {
   "cell_type": "code",
   "execution_count": null,
   "id": "f36f3bfe",
   "metadata": {
    "ExecuteTime": {
     "end_time": "2022-05-26T17:49:44.537840Z",
     "start_time": "2022-05-26T17:49:44.341582Z"
    },
    "hidden": true
   },
   "outputs": [],
   "source": [
    "int_slider = widgets.IntSlider(\n",
    "    value=0, \n",
    "    min=0, max=res['W_mu'].shape[0]-1, step=1,\n",
    "    description='epoch'\n",
    ")\n",
    "\n",
    "def update(var):\n",
    "    W = res['W_mu'][var]\n",
    "    heatmap_vmin = res['W_mu'].min()\n",
    "    heatmap_vmax = res['W_mu'].max()\n",
    "    W_avg_over_time = np.mean(W, axis=0)\n",
    "    plt.figure(figsize=(5, 4))\n",
    "    ax = sns.heatmap(W_avg_over_time, cmap=\"RdBu_r\", annot=True, \n",
    "                     vmin=-1, vmax=1)\n",
    "#                      vmin=heatmap_vmin, vmax=heatmap_vmax)\n",
    "    ax.set_yticklabels(cell_types, fontsize=12)\n",
    "    ax.set_xticklabels(cell_types, fontsize=12)\n",
    "    plt.yticks(rotation=0)\n",
    "    plt.xticks(rotation=45)\n",
    "    plt.title('$\\hat{W}_{avg}$' + f' at epoch {var}', fontsize=15)\n",
    "\n",
    "interact(update, var=int_slider)"
   ]
  },
  {
   "cell_type": "markdown",
   "id": "7d5ea838",
   "metadata": {
    "ExecuteTime": {
     "end_time": "2021-12-10T17:27:06.830276Z",
     "start_time": "2021-12-10T17:27:06.802286Z"
    },
    "hidden": true
   },
   "source": [
    "Interpretation: $W_{i, j}$ is the effect of the $j^{th}$ latent function on the $i^{th }$ cell type."
   ]
  },
  {
   "cell_type": "code",
   "execution_count": null,
   "id": "f7729936",
   "metadata": {
    "ExecuteTime": {
     "end_time": "2022-05-26T17:49:51.142816Z",
     "start_time": "2022-05-26T17:49:50.830454Z"
    },
    "hidden": true
   },
   "outputs": [],
   "source": [
    "epoch_index = 5\n",
    "W = res['W_mu'][epoch_index]\n",
    "heatmap_vmin = W.min()\n",
    "heatmap_vmax = W.max()\n",
    "\n",
    "int_slider = widgets.IntSlider(\n",
    "    value=0, \n",
    "    min=0, max=99, step=1,\n",
    "    description='time'\n",
    ")\n",
    "\n",
    "def update(var):\n",
    "    W_at_time = W[var]\n",
    "    plt.figure(figsize=(12, 4))\n",
    "    plt.subplot(1, 2, 1)\n",
    "    ax = sns.heatmap(W_at_time, cmap=\"RdBu_r\", annot=True, \n",
    "                     vmin=-1, vmax=1)\n",
    "#                      vmin=heatmap_vmin, vmax=heatmap_vmax)\n",
    "    ax.set_yticklabels(cell_types, fontsize=12)\n",
    "    ax.set_xticklabels(cell_types, fontsize=12)\n",
    "    plt.yticks(rotation=0)\n",
    "    plt.xticks(rotation=45)\n",
    "    plt.title('$\\hat{W}$', fontsize=14)\n",
    "    plt.subplot(1, 2, 2)\n",
    "    y_preds = res['Y_pred'][epoch_index]\n",
    "    for i, cell_type in enumerate(cell_types):\n",
    "        plt.scatter(X.flatten(), df[cell_type], label=cell_type, s=15)\n",
    "        plt.plot(X_test.flatten(), y_preds[:, i])\n",
    "    plt.axvline(X_test.flatten()[var], c='tab:red', linestyle='--')\n",
    "    plt.legend(loc='upper left', fontsize=11)\n",
    "    plt.xticks(rotation=45)\n",
    "    plt.ylim([-0.5, 0.5])\n",
    "    plt.title('Proportion of cells over time by cell type', fontsize=13)\n",
    "\n",
    "interact(update, var=int_slider)"
   ]
  },
  {
   "cell_type": "code",
   "execution_count": null,
   "id": "c41008db",
   "metadata": {
    "ExecuteTime": {
     "end_time": "2022-05-26T17:49:54.242203Z",
     "start_time": "2022-05-26T17:49:53.791614Z"
    },
    "hidden": true
   },
   "outputs": [],
   "source": [
    "plt.figure(figsize=(10, 6))\n",
    "linestyles = ['-', '--', '-.', ':']\n",
    "for i, cell_type_i in enumerate(cell_types):\n",
    "    for j, cell_type_j in enumerate(cell_types):\n",
    "        plt.plot(X_test.flatten(), W[:, i, j],\n",
    "                 linestyle=linestyles[i],\n",
    "                 label='$W_{%s,%s}$ (%s - %s interaction)' % (i, j, cell_type_i, cell_type_j))\n",
    "plt.legend(bbox_to_anchor=(1, 1), loc='upper left', fontsize=14)\n",
    "plt.title('Cell type interactions over time', fontsize=14)\n",
    "plt.ylabel('$W_{i, j}$', fontsize=14)\n",
    "plt.xlabel('time', fontsize=14)"
   ]
  },
  {
   "cell_type": "code",
   "execution_count": null,
   "id": "76bb3bdf",
   "metadata": {
    "ExecuteTime": {
     "end_time": "2022-05-26T17:50:07.549144Z",
     "start_time": "2022-05-26T17:50:06.224847Z"
    },
    "hidden": true
   },
   "outputs": [],
   "source": [
    "plt.figure(figsize=(18, 15))\n",
    "for i, cell_type_i in enumerate(cell_types):\n",
    "    for j, cell_type_j in enumerate(cell_types):\n",
    "        plt.subplot(4, 4, i*4 + j + 1)\n",
    "        line = plt.plot(X_test.flatten(), W[:, i, j])\n",
    "        W_i_j_samples = W_samples[:, :, i, j]\n",
    "        W_samples_75_percentile = np.percentile(W_i_j_samples, 75, axis=0)\n",
    "        W_samples_25_percentile = np.percentile(W_i_j_samples, 25, axis=0)\n",
    "        plt.fill_between(X_test.flatten(), W_samples_25_percentile, W_samples_75_percentile, alpha=0.2)\n",
    "        plt.ylabel('$W_{i, j}$', fontsize=14)\n",
    "        plt.xlabel('time', fontsize=14)\n",
    "        plt.ylim([-1, 1])\n",
    "        plt.title('$W_{%s,%s}$ (%s - %s)' % (i, j, cell_type_i, cell_type_j),\n",
    "                  fontsize=16)\n",
    "plt.tight_layout()"
   ]
  },
  {
   "cell_type": "markdown",
   "id": "cb305cf7",
   "metadata": {
    "heading_collapsed": true
   },
   "source": [
    "## Experiment B (1:4 effector:target ratio)"
   ]
  },
  {
   "cell_type": "code",
   "execution_count": null,
   "id": "65b67520",
   "metadata": {
    "ExecuteTime": {
     "end_time": "2022-04-14T19:52:17.459618Z",
     "start_time": "2022-04-14T19:52:17.435579Z"
    },
    "hidden": true
   },
   "outputs": [],
   "source": [
    "df = pd.read_csv('data/CAR-T ratios and umap/CARB_14_ratios_processed.pkl', index_col='Hours post co-culture')\n",
    "df"
   ]
  },
  {
   "cell_type": "code",
   "execution_count": null,
   "id": "5edb186a",
   "metadata": {
    "ExecuteTime": {
     "end_time": "2022-04-14T19:52:40.282883Z",
     "start_time": "2022-04-14T19:52:40.122821Z"
    },
    "hidden": true
   },
   "outputs": [],
   "source": [
    "plt.figure(figsize=(8, 5))\n",
    "cell_types = ['CLL', 'CD8+ T cells', 'Activated T cells', 'Exhausted T cells']\n",
    "for cell_type in cell_types:\n",
    "    plt.plot(df[cell_type] * df['total_cells_per_sample'], label=cell_type)\n",
    "plt.legend(loc='upper left', fontsize=12)\n",
    "plt.title('Number of cells over time by cell type \\n (cell type proportion * total_cells_per_sample)', \n",
    "          fontsize=12)"
   ]
  },
  {
   "cell_type": "code",
   "execution_count": null,
   "id": "0b2f975a",
   "metadata": {
    "ExecuteTime": {
     "end_time": "2022-04-14T19:52:45.928457Z",
     "start_time": "2022-04-14T19:52:45.797456Z"
    },
    "hidden": true,
    "scrolled": false
   },
   "outputs": [],
   "source": [
    "plt.figure(figsize=(8, 5))\n",
    "for cell_type in cell_types:\n",
    "    plt.plot(df[cell_type], marker='o', label=cell_type)\n",
    "plt.legend(loc='upper right', fontsize=12)\n",
    "# plt.ylim([-0.5, 0.5])\n",
    "plt.title('Proportion of cells over time by cell type', fontsize=14)"
   ]
  },
  {
   "cell_type": "markdown",
   "id": "65217a21",
   "metadata": {
    "hidden": true
   },
   "source": [
    "Center cell type proportions"
   ]
  },
  {
   "cell_type": "code",
   "execution_count": null,
   "id": "adfbcced",
   "metadata": {
    "ExecuteTime": {
     "end_time": "2022-04-14T19:52:47.981035Z",
     "start_time": "2022-04-14T19:52:47.956174Z"
    },
    "hidden": true
   },
   "outputs": [],
   "source": [
    "cell_type_means = df[cell_types].mean()\n",
    "df[cell_types] -= cell_type_means\n",
    "df"
   ]
  },
  {
   "cell_type": "code",
   "execution_count": null,
   "id": "14e03686",
   "metadata": {
    "ExecuteTime": {
     "end_time": "2022-04-14T19:52:49.680509Z",
     "start_time": "2022-04-14T19:52:49.539742Z"
    },
    "hidden": true,
    "scrolled": false
   },
   "outputs": [],
   "source": [
    "plt.figure(figsize=(8, 5))\n",
    "for cell_type in cell_types:\n",
    "    plt.plot(df[cell_type], marker='o', label=cell_type)\n",
    "plt.legend(loc='upper left', fontsize=12)\n",
    "plt.title('Proportion (zero-centered) of cells over time by cell type', fontsize=14)"
   ]
  },
  {
   "cell_type": "code",
   "execution_count": null,
   "id": "7167e2dd",
   "metadata": {
    "ExecuteTime": {
     "end_time": "2022-04-14T19:52:55.809946Z",
     "start_time": "2022-04-14T19:52:55.795327Z"
    },
    "hidden": true
   },
   "outputs": [],
   "source": [
    "# X = np.linspace(0, df.shape[0]-1, df.shape[0]).reshape(-1, 1)\n",
    "X = df.index.values.reshape(-1, 1)\n",
    "X[:3]"
   ]
  },
  {
   "cell_type": "code",
   "execution_count": null,
   "id": "5bb73377",
   "metadata": {
    "ExecuteTime": {
     "end_time": "2022-04-14T19:52:56.267416Z",
     "start_time": "2022-04-14T19:52:56.252431Z"
    },
    "hidden": true
   },
   "outputs": [],
   "source": [
    "Y = df[cell_types].values\n",
    "Y"
   ]
  },
  {
   "cell_type": "code",
   "execution_count": null,
   "id": "ea02d9fa",
   "metadata": {
    "ExecuteTime": {
     "end_time": "2022-04-14T19:52:57.171032Z",
     "start_time": "2022-04-14T19:52:57.158459Z"
    },
    "hidden": true
   },
   "outputs": [],
   "source": [
    "# Sweep out timepoints between 0 and 24 to predict on\n",
    "X_test = np.linspace(start=0, stop=df.index[-1], num=100).reshape(-1, 1)\n",
    "\n",
    "# Placeholder Y_test just for the SGPRN API\n",
    "Y_test = np.zeros((X_test.shape[0], Y.shape[1]))\n",
    "\n",
    "# For plotting uncentered points\n",
    "Y_uncentered = Y + cell_type_means.values"
   ]
  },
  {
   "cell_type": "markdown",
   "id": "37fc93b4",
   "metadata": {
    "hidden": true
   },
   "source": [
    "Add priors for $f_i$'s based on mean of independent GP fits"
   ]
  },
  {
   "cell_type": "code",
   "execution_count": null,
   "id": "4b6e9831",
   "metadata": {
    "ExecuteTime": {
     "end_time": "2022-04-14T19:52:58.931577Z",
     "start_time": "2022-04-14T19:52:58.573688Z"
    },
    "hidden": true
   },
   "outputs": [],
   "source": [
    "f_priors = []\n",
    "cell_type_color = [('CLL', 'tab:blue'), \n",
    "                   ('CD8+ T cells', 'tab:orange'), \n",
    "                   ('Activated T cells', 'tab:green'),\n",
    "                   ('Exhausted T cells', 'tab:red')]\n",
    "plt.figure(figsize=(18, 4))\n",
    "for i, y_i in enumerate(Y.T):\n",
    "    rbf = RBF(1)\n",
    "    gpr = GaussianProcessRegressor(kernel=rbf, alpha=0.005, random_state=0)\n",
    "    gpr.fit(X, y_i)\n",
    "    y_pred = gpr.predict(X_test)\n",
    "    f_priors.append(gpr.predict(X))\n",
    "    plt.subplot(1, 4, i+1)\n",
    "    plt.plot(X_test, y_pred + cell_type_means.values[i], c=cell_type_color[i][1])\n",
    "    plt.scatter(X, Y_uncentered.T[i], c=cell_type_color[i][1])\n",
    "    plt.title('$f_%s$ prior (%s)' % (i+1, cell_type_color[i][0]), fontsize=14)\n",
    "    if i==0: plt.ylabel('Proportion', fontsize=12)\n",
    "plt.suptitle('Independent GP fits to set $f_i$ priors', fontsize=15, y=1.05)\n",
    "f_priors = np.array(f_priors)"
   ]
  },
  {
   "cell_type": "markdown",
   "id": "82bfb165",
   "metadata": {
    "hidden": true
   },
   "source": [
    "Add regularization for $W$"
   ]
  },
  {
   "cell_type": "code",
   "execution_count": null,
   "id": "bb718ddd",
   "metadata": {
    "ExecuteTime": {
     "end_time": "2022-04-14T19:53:07.585632Z",
     "start_time": "2022-04-14T19:53:07.415709Z"
    },
    "hidden": true
   },
   "outputs": [],
   "source": [
    "W_reg_lambdas = np.array([[ 10, 0.1, 0.1, 0.1], \n",
    "                          [0.1,  10, 0.1, 0.1], \n",
    "                          [0.1, 0.1,  10, 0.1], \n",
    "                          [0.1, 0.1, 0.1, 10]])\n",
    "\n",
    "plt.figure(figsize=(5, 4))\n",
    "ax = sns.heatmap(W_reg_lambdas, cmap=\"Reds\", annot=True)\n",
    "ax.set_yticklabels(cell_types, fontsize=12)\n",
    "ax.set_xticklabels(cell_types, fontsize=12)\n",
    "plt.yticks(rotation=0)\n",
    "plt.xticks(rotation=45)\n",
    "plt.title('$W$ regularization penalty', fontsize=14)"
   ]
  },
  {
   "cell_type": "code",
   "execution_count": null,
   "id": "7e1691af",
   "metadata": {
    "ExecuteTime": {
     "end_time": "2022-04-14T19:54:47.917580Z",
     "start_time": "2022-04-14T19:54:47.898484Z"
    },
    "hidden": true
   },
   "outputs": [],
   "source": [
    "priors = {\n",
    "    # f priors based on independent GP fits\n",
    "    'F': f_priors.T.reshape(5, 4, 1),\n",
    "#     'W': W_prior_mean,\n",
    "#     'W_prior_min': W_prior_min,\n",
    "#     'W_prior_max': W_prior_max,\n",
    "    # default GPRN W prior\n",
    "    'W': tf.Variable(0.001*tf.random.truncated_normal([5, 4, 4], mean=0, stddev=1.0), \n",
    "                     dtype=tf.float32),\n",
    "    'W_reg_lambdas': W_reg_lambdas\n",
    "}"
   ]
  },
  {
   "cell_type": "code",
   "execution_count": null,
   "id": "8e0e8fd1",
   "metadata": {
    "ExecuteTime": {
     "end_time": "2022-04-14T19:54:48.384089Z",
     "start_time": "2022-04-14T19:54:48.368021Z"
    },
    "hidden": true
   },
   "outputs": [],
   "source": [
    "data = {\n",
    "    'N_all': X.shape[0],\n",
    "    'N_train': X.shape[0],\n",
    "    'N_test': X.shape[0],\n",
    "    'X_all': X,\n",
    "    'Y_all': Y,\n",
    "    'X_train': X,\n",
    "    'X_test': X_test,\n",
    "    'Y_train': Y,\n",
    "    'Y_test': Y_test,\n",
    "    'Y_mean': 0,\n",
    "    'Y_std': 1,\n",
    "    'Y_test_ground': Y,\n",
    "    'DList': [4, 1, 1],\n",
    "    'dname': 'None'\n",
    "}\n",
    "\n",
    "kernel = 'rbf'\n",
    "f_kernel_bandwidth = 50\n",
    "f_sigma = 0\n",
    "W_kernel_bandwidth = 50\n",
    "rank = 4\n",
    "maxIter = 2500\n",
    "interval = 100\n",
    "\n",
    "cfg = {\n",
    "    'data': data,\n",
    "    'jitter': 1e-3,\n",
    "    'init_std': 1e-3,\n",
    "    'epochs': maxIter,\n",
    "    'interval':interval,\n",
    "    'alpha':1e-2,\n",
    "    'ns': 100,\n",
    "    'Q': rank,\n",
    "    'kernel': kernel,\n",
    "    'f_kernel_bandwidth': f_kernel_bandwidth,\n",
    "    'f_sigma': f_sigma,\n",
    "    'W_kernel_bandwidth': W_kernel_bandwidth\n",
    "}"
   ]
  },
  {
   "cell_type": "code",
   "execution_count": null,
   "id": "6cf1555c",
   "metadata": {
    "ExecuteTime": {
     "end_time": "2022-04-14T19:55:02.762629Z",
     "start_time": "2022-04-14T19:54:48.867812Z"
    },
    "hidden": true,
    "scrolled": true
   },
   "outputs": [],
   "source": [
    "model = SGPRN(cfg, init_type=priors)\n",
    "res = model.fit()"
   ]
  },
  {
   "cell_type": "code",
   "execution_count": null,
   "id": "8a192c11",
   "metadata": {
    "ExecuteTime": {
     "end_time": "2022-04-14T19:55:08.820269Z",
     "start_time": "2022-04-14T19:55:08.644973Z"
    },
    "hidden": true
   },
   "outputs": [],
   "source": [
    "plt.figure(figsize=(18, 5))\n",
    "\n",
    "plt.subplot(1, 2, 1)\n",
    "plt.plot(res['nelbos'][1:])\n",
    "plt.xlabel('Epochs')\n",
    "plt.ylabel('nelbos loss', fontsize=14)\n",
    "\n",
    "plt.subplot(1, 2, 2)\n",
    "plt.plot(res['nrmse'][1:])\n",
    "plt.xlabel('Epochs')\n",
    "plt.ylabel('nrmse', fontsize=14)\n",
    "\n",
    "plt.suptitle('GPRN training loss', fontsize=14)"
   ]
  },
  {
   "cell_type": "markdown",
   "id": "dfa0fca5",
   "metadata": {
    "hidden": true
   },
   "source": [
    "Compare GPRN latent functions $f_i$'s vs $f_i$ priors"
   ]
  },
  {
   "cell_type": "code",
   "execution_count": null,
   "id": "57cb1455",
   "metadata": {
    "ExecuteTime": {
     "end_time": "2022-04-14T19:55:16.236677Z",
     "start_time": "2022-04-14T19:55:15.853732Z"
    },
    "hidden": true
   },
   "outputs": [],
   "source": [
    "int_slider = widgets.IntSlider(\n",
    "    value=0, \n",
    "    min=0, max=res['W_mu'].shape[0]-1, step=1,\n",
    "    description='epoch'\n",
    ")\n",
    "\n",
    "def update(var):\n",
    "    f_pred = res['f_mu'][var]\n",
    "    plt.figure(figsize=(18, 4))\n",
    "    plt.suptitle('GPRN latent functions $f_i$\\'s vs $f_i$ priors', fontsize=15, y=1.05)\n",
    "    for i, f_i in enumerate(f_priors):\n",
    "        plt.subplot(1, 4, i+1)\n",
    "        plt.plot(X.flatten(), f_i, c='tab:blue', label='Prior')\n",
    "        plt.plot(X_test.flatten(), f_pred[:, i].flatten(), c='tab:red', label='GPRN posterior')\n",
    "        plt.title(f'$f_{i+1}$ ({cell_types[i]})', fontsize=14)\n",
    "        plt.legend(loc='lower right', fontsize=12)\n",
    "\n",
    "interact(update, var=int_slider)"
   ]
  },
  {
   "cell_type": "markdown",
   "id": "1c423d09",
   "metadata": {
    "hidden": true
   },
   "source": [
    "Compare GPRN predictions $y$ vs actual"
   ]
  },
  {
   "cell_type": "code",
   "execution_count": null,
   "id": "93ca3a10",
   "metadata": {
    "ExecuteTime": {
     "end_time": "2022-04-14T19:55:23.454920Z",
     "start_time": "2022-04-14T19:55:23.179977Z"
    },
    "hidden": true
   },
   "outputs": [],
   "source": [
    "int_slider = widgets.IntSlider(\n",
    "    value=0, \n",
    "    min=0, max=res['W_mu'].shape[0]-1, step=1,\n",
    "    description='epoch'\n",
    ")\n",
    "\n",
    "def update(var):\n",
    "    y_preds = res['Y_pred'][var]\n",
    "    plt.figure(figsize=(18, 4))\n",
    "    for i, y_i in enumerate(Y.T):\n",
    "        plt.subplot(1, 4, i+1)\n",
    "        plt.scatter(X.flatten(), Y_uncentered.T[i], s=15)\n",
    "        y_i_preds = y_preds[:, i]\n",
    "        y_i_preds_uncentered = y_i_preds + cell_type_means[i]\n",
    "        plt.plot(X_test.flatten(), y_i_preds_uncentered, c='tab:red')\n",
    "        plt.title(f'{df.columns[i]}', fontsize=14)\n",
    "        if i==0: plt.ylabel('Proportion', fontsize=12)\n",
    "        plt.ylim([0, 1])\n",
    "    plt.suptitle('GPRN predictions vs actual', fontsize=15, y=1.05)\n",
    "\n",
    "interact(update, var=int_slider)"
   ]
  },
  {
   "cell_type": "code",
   "execution_count": null,
   "id": "0802e74b",
   "metadata": {
    "ExecuteTime": {
     "end_time": "2022-04-14T19:57:49.727108Z",
     "start_time": "2022-04-14T19:57:47.450456Z"
    },
    "hidden": true,
    "scrolled": true
   },
   "outputs": [],
   "source": [
    "y_samples, W_samples = model.eval_test_post()\n",
    "\n",
    "plt.figure(figsize=(18, 4))\n",
    "for i in range(y_samples.shape[2]):\n",
    "    plt.subplot(1, 4, i+1)\n",
    "    for sample in y_samples[:100, :, i]:\n",
    "        plt.scatter(X_test.flatten(), sample, c='tab:red', s=0.5)\n",
    "    y_samples_95_percentile = np.percentile(y_samples[:, :, i], 90, axis=0)\n",
    "    y_samples_5_percentile = np.percentile(y_samples[:, :, i], 10, axis=0)\n",
    "    plt.plot(X_test.flatten(), y_samples_95_percentile, c='tab:blue', label='90th percentile')\n",
    "    plt.plot(X_test.flatten(), y_samples_5_percentile, c='tab:green', label='10th percentile')\n",
    "    plt.title(f'{df.columns[i]}', fontsize=14)\n",
    "    if i==0: plt.ylabel('Proportion', fontsize=12)\n",
    "    plt.legend(loc='upper left', fontsize=10)\n",
    "#     plt.ylim([-0.5, 0.5])\n",
    "plt.suptitle('GPRN posterior samples', fontsize=15, y=1.05)"
   ]
  },
  {
   "cell_type": "code",
   "execution_count": null,
   "id": "33e1e58a",
   "metadata": {
    "ExecuteTime": {
     "end_time": "2022-04-14T19:57:51.529551Z",
     "start_time": "2022-04-14T19:57:51.230815Z"
    },
    "hidden": true
   },
   "outputs": [],
   "source": [
    "epoch_index = 25\n",
    "y_preds = res['Y_pred'][epoch_index]\n",
    "\n",
    "cell_type_color = [('CLL', 'tab:blue'), \n",
    "                   ('CD8+ T cells', 'tab:orange'), \n",
    "                   ('Activated T cells', 'tab:green'),\n",
    "                   ('Exhausted T cells', 'tab:red')]\n",
    "\n",
    "plt.figure(figsize=(18, 4))\n",
    "for i, y_i in enumerate(Y.T):\n",
    "    plt.subplot(1, 4, i+1)\n",
    "    plt.scatter(X, Y_uncentered.T[i], c=cell_type_color[i][1], s=15)\n",
    "    y_i_preds = y_preds[:, i]\n",
    "    y_i_preds_uncentered = y_i_preds + cell_type_means[i]\n",
    "    plt.plot(X_test.flatten(), y_i_preds_uncentered, c=cell_type_color[i][1])\n",
    "    y_samples_75_percentile = np.percentile(y_samples[:, :, i], 75, axis=0)\n",
    "    y_samples_75_percentile_uncentered = y_samples_75_percentile + cell_type_means[i]\n",
    "    y_samples_25_percentile = np.percentile(y_samples[:, :, i], 25, axis=0)\n",
    "    y_samples_25_percentile_uncentered = y_samples_25_percentile + cell_type_means[i]\n",
    "    plt.fill_between(X_test.flatten(), y_samples_25_percentile_uncentered, \n",
    "                     y_samples_75_percentile_uncentered, \n",
    "                     color=cell_type_color[i][1], alpha=0.2)\n",
    "    plt.title(f'{cell_type_color[i][0]} proportion', fontsize=14)\n",
    "    if i==0: plt.ylabel('Proportion', fontsize=12)\n",
    "    plt.ylim([-1.5, 2])\n",
    "plt.suptitle('GPRN predictions vs actual', fontsize=15, y=1.05)"
   ]
  },
  {
   "cell_type": "code",
   "execution_count": null,
   "id": "dea5fa04",
   "metadata": {
    "ExecuteTime": {
     "end_time": "2022-04-14T20:27:28.461322Z",
     "start_time": "2022-04-14T20:27:27.948264Z"
    },
    "hidden": true
   },
   "outputs": [],
   "source": [
    "epoch_index = 25\n",
    "y_preds = res['Y_pred'][epoch_index]\n",
    "\n",
    "plt.figure(figsize=(9, 6))\n",
    "for i, cell_type in enumerate(cell_types):\n",
    "    plt.scatter(X.flatten(), Y_uncentered.T[i], label=cell_type, s=15)\n",
    "    y_i_preds = y_preds[:, i]\n",
    "    y_i_preds_uncentered = y_i_preds + cell_type_means[i]\n",
    "    plt.plot(X_test.flatten(), y_i_preds_uncentered)\n",
    "    y_samples_75_percentile = np.percentile(y_samples[:, :, i], 75, axis=0)\n",
    "    y_samples_75_percentile_uncentered = y_samples_75_percentile + cell_type_means[i]\n",
    "    y_samples_25_percentile = np.percentile(y_samples[:, :, i], 25, axis=0)\n",
    "    y_samples_25_percentile_uncentered = y_samples_25_percentile + cell_type_means[i]\n",
    "    plt.fill_between(X_test.flatten(), y_samples_25_percentile_uncentered, \n",
    "                     y_samples_75_percentile_uncentered, \n",
    "                     color=cell_type_color[i][1], alpha=0.2)\n",
    "plt.legend(loc='upper left', fontsize=12)\n",
    "plt.xticks(rotation=45)\n",
    "plt.ylim([-1.5, 2])\n",
    "plt.title('Proportion of cells over time by cell type', fontsize=14)"
   ]
  },
  {
   "cell_type": "code",
   "execution_count": null,
   "id": "8fda455f",
   "metadata": {
    "ExecuteTime": {
     "end_time": "2022-04-14T20:27:31.777544Z",
     "start_time": "2022-04-14T20:27:31.575439Z"
    },
    "hidden": true
   },
   "outputs": [],
   "source": [
    "epoch_index = 25\n",
    "W = res['W_mu'][epoch_index]\n",
    "W_avg_over_time = np.mean(W, axis=0)\n",
    "\n",
    "plt.figure(figsize=(5, 4))\n",
    "ax = sns.heatmap(W_avg_over_time, cmap=\"RdBu_r\", annot=True, \n",
    "                 vmin=-1, vmax=1)\n",
    "ax.set_yticklabels(cell_types, fontsize=12)\n",
    "ax.set_xticklabels(cell_types, fontsize=12)\n",
    "plt.yticks(rotation=0)\n",
    "plt.xticks(rotation=45)\n",
    "plt.title('$\\hat{W}_{avg}$', fontsize=14)"
   ]
  },
  {
   "cell_type": "code",
   "execution_count": null,
   "id": "a82e5c8a",
   "metadata": {
    "ExecuteTime": {
     "end_time": "2022-04-14T20:27:36.597461Z",
     "start_time": "2022-04-14T20:27:36.395588Z"
    },
    "hidden": true
   },
   "outputs": [],
   "source": [
    "int_slider = widgets.IntSlider(\n",
    "    value=0, \n",
    "    min=0, max=res['W_mu'].shape[0]-1, step=1,\n",
    "    description='epoch'\n",
    ")\n",
    "\n",
    "def update(var):\n",
    "    W = res['W_mu'][var]\n",
    "    heatmap_vmin = res['W_mu'].min()\n",
    "    heatmap_vmax = res['W_mu'].max()\n",
    "    W_avg_over_time = np.mean(W, axis=0)\n",
    "    plt.figure(figsize=(5, 4))\n",
    "    ax = sns.heatmap(W_avg_over_time, cmap=\"RdBu_r\", annot=True, \n",
    "                     vmin=-1, vmax=1)\n",
    "#                      vmin=heatmap_vmin, vmax=heatmap_vmax)\n",
    "    ax.set_yticklabels(cell_types, fontsize=12)\n",
    "    ax.set_xticklabels(cell_types, fontsize=12)\n",
    "    plt.yticks(rotation=0)\n",
    "    plt.xticks(rotation=45)\n",
    "    plt.title('$\\hat{W}_{avg}$' + f' at epoch {var}', fontsize=15)\n",
    "\n",
    "interact(update, var=int_slider)"
   ]
  },
  {
   "cell_type": "markdown",
   "id": "889ab3bc",
   "metadata": {
    "ExecuteTime": {
     "end_time": "2021-12-10T17:27:06.830276Z",
     "start_time": "2021-12-10T17:27:06.802286Z"
    },
    "hidden": true
   },
   "source": [
    "Interpretation: $W_{i, j}$ is the effect of the $j^{th}$ latent function on the $i^{th }$ cell type."
   ]
  },
  {
   "cell_type": "code",
   "execution_count": null,
   "id": "43d0c15b",
   "metadata": {
    "ExecuteTime": {
     "end_time": "2022-04-14T20:27:40.143810Z",
     "start_time": "2022-04-14T20:27:39.830890Z"
    },
    "hidden": true
   },
   "outputs": [],
   "source": [
    "epoch_index = 25\n",
    "W = res['W_mu'][epoch_index]\n",
    "heatmap_vmin = W.min()\n",
    "heatmap_vmax = W.max()\n",
    "\n",
    "int_slider = widgets.IntSlider(\n",
    "    value=0, \n",
    "    min=0, max=99, step=1,\n",
    "    description='time'\n",
    ")\n",
    "\n",
    "def update(var):\n",
    "    W_at_time = W[var]\n",
    "    plt.figure(figsize=(12, 4))\n",
    "    plt.subplot(1, 2, 1)\n",
    "    ax = sns.heatmap(W_at_time, cmap=\"RdBu_r\", annot=True, \n",
    "                     vmin=-1, vmax=1)\n",
    "#                      vmin=heatmap_vmin, vmax=heatmap_vmax)\n",
    "    ax.set_yticklabels(cell_types, fontsize=12)\n",
    "    ax.set_xticklabels(cell_types, fontsize=12)\n",
    "    plt.yticks(rotation=0)\n",
    "    plt.xticks(rotation=45)\n",
    "    plt.title('$\\hat{W}$', fontsize=14)\n",
    "    plt.subplot(1, 2, 2)\n",
    "    y_preds = res['Y_pred'][epoch_index]\n",
    "    for i, cell_type in enumerate(cell_types):\n",
    "        plt.scatter(X.flatten(), df[cell_type], label=cell_type, s=15)\n",
    "        plt.plot(X_test.flatten(), y_preds[:, i])\n",
    "    plt.axvline(X_test.flatten()[var], c='tab:red', linestyle='--')\n",
    "    plt.legend(loc='upper left', fontsize=11)\n",
    "    plt.xticks(rotation=45)\n",
    "    plt.ylim([-0.5, 0.5])\n",
    "    plt.title('Proportion of cells over time by cell type', fontsize=13)\n",
    "\n",
    "interact(update, var=int_slider)"
   ]
  },
  {
   "cell_type": "code",
   "execution_count": null,
   "id": "1095396c",
   "metadata": {
    "ExecuteTime": {
     "end_time": "2022-04-14T20:28:04.491765Z",
     "start_time": "2022-04-14T20:28:04.004296Z"
    },
    "hidden": true
   },
   "outputs": [],
   "source": [
    "plt.figure(figsize=(10, 6))\n",
    "linestyles = ['-', '--', '-.', ':']\n",
    "for i, cell_type_i in enumerate(cell_types):\n",
    "    for j, cell_type_j in enumerate(cell_types):\n",
    "        plt.plot(X_test.flatten(), W[:, i, j],\n",
    "                 linestyle=linestyles[i],\n",
    "                 label='$W_{%s,%s}$ (%s - %s interaction)' % (i, j, cell_type_i, cell_type_j))\n",
    "plt.legend(bbox_to_anchor=(1, 1), loc='upper left', fontsize=14)\n",
    "plt.title('Cell type interactions over time', fontsize=14)\n",
    "plt.ylabel('$W_{i, j}$', fontsize=14)\n",
    "plt.xlabel('time', fontsize=14)"
   ]
  },
  {
   "cell_type": "code",
   "execution_count": null,
   "id": "453c7f09",
   "metadata": {
    "ExecuteTime": {
     "end_time": "2022-04-14T20:28:21.886118Z",
     "start_time": "2022-04-14T20:28:20.643643Z"
    },
    "hidden": true
   },
   "outputs": [],
   "source": [
    "plt.figure(figsize=(18, 15))\n",
    "for i, cell_type_i in enumerate(cell_types):\n",
    "    for j, cell_type_j in enumerate(cell_types):\n",
    "        plt.subplot(4, 4, i*4 + j + 1)\n",
    "        line = plt.plot(X_test.flatten(), W[:, i, j])\n",
    "        W_i_j_samples = W_samples[:, :, i, j]\n",
    "        W_samples_75_percentile = np.percentile(W_i_j_samples, 75, axis=0)\n",
    "        W_samples_25_percentile = np.percentile(W_i_j_samples, 25, axis=0)\n",
    "        plt.fill_between(X_test.flatten(), W_samples_25_percentile, W_samples_75_percentile, alpha=0.2)\n",
    "        plt.ylabel('$W_{i, j}$', fontsize=14)\n",
    "        plt.xlabel('time', fontsize=14)\n",
    "        plt.ylim([-1, 1])\n",
    "        plt.title('$W_{%s,%s}$ (%s - %s)' % (i, j, cell_type_i, cell_type_j),\n",
    "                  fontsize=16)\n",
    "plt.tight_layout()"
   ]
  },
  {
   "cell_type": "markdown",
   "id": "e213f642",
   "metadata": {
    "heading_collapsed": true
   },
   "source": [
    "## Experiment B (4:1 effector:target ratio)"
   ]
  },
  {
   "cell_type": "code",
   "execution_count": null,
   "id": "af53fc59",
   "metadata": {
    "ExecuteTime": {
     "end_time": "2022-04-14T20:30:45.836357Z",
     "start_time": "2022-04-14T20:30:45.814514Z"
    },
    "hidden": true
   },
   "outputs": [],
   "source": [
    "df = pd.read_csv('data/CAR-T ratios and umap/CARB_41_ratios_processed.pkl', index_col='Hours post co-culture')\n",
    "df"
   ]
  },
  {
   "cell_type": "code",
   "execution_count": null,
   "id": "47a1fe89",
   "metadata": {
    "ExecuteTime": {
     "end_time": "2022-04-14T20:30:48.083616Z",
     "start_time": "2022-04-14T20:30:47.940439Z"
    },
    "hidden": true
   },
   "outputs": [],
   "source": [
    "plt.figure(figsize=(8, 5))\n",
    "cell_types = ['CLL', 'CD8+ T cells', 'Activated T cells', 'Exhausted T cells']\n",
    "for cell_type in cell_types:\n",
    "    plt.plot(df[cell_type] * df['total_cells_per_sample'], label=cell_type)\n",
    "plt.legend(loc='upper left', fontsize=12)\n",
    "plt.title('Number of cells over time by cell type \\n (cell type proportion * total_cells_per_sample)', \n",
    "          fontsize=12)"
   ]
  },
  {
   "cell_type": "code",
   "execution_count": null,
   "id": "05b705f3",
   "metadata": {
    "ExecuteTime": {
     "end_time": "2022-04-14T20:30:48.944049Z",
     "start_time": "2022-04-14T20:30:48.818592Z"
    },
    "hidden": true,
    "scrolled": false
   },
   "outputs": [],
   "source": [
    "plt.figure(figsize=(8, 5))\n",
    "for cell_type in cell_types:\n",
    "    plt.plot(df[cell_type], marker='o', label=cell_type)\n",
    "plt.legend(loc='upper right', fontsize=12)\n",
    "# plt.ylim([-0.5, 0.5])\n",
    "plt.title('Proportion of cells over time by cell type', fontsize=14)"
   ]
  },
  {
   "cell_type": "markdown",
   "id": "59a66033",
   "metadata": {
    "hidden": true
   },
   "source": [
    "Center cell type proportions"
   ]
  },
  {
   "cell_type": "code",
   "execution_count": null,
   "id": "f26b380f",
   "metadata": {
    "ExecuteTime": {
     "end_time": "2022-04-14T20:30:53.651519Z",
     "start_time": "2022-04-14T20:30:53.630511Z"
    },
    "hidden": true
   },
   "outputs": [],
   "source": [
    "cell_type_means = df[cell_types].mean()\n",
    "df[cell_types] -= cell_type_means\n",
    "df"
   ]
  },
  {
   "cell_type": "code",
   "execution_count": null,
   "id": "c4d86d90",
   "metadata": {
    "ExecuteTime": {
     "end_time": "2022-04-14T20:30:59.745248Z",
     "start_time": "2022-04-14T20:30:59.617032Z"
    },
    "hidden": true,
    "scrolled": false
   },
   "outputs": [],
   "source": [
    "plt.figure(figsize=(8, 5))\n",
    "for cell_type in cell_types:\n",
    "    plt.plot(df[cell_type], marker='o', label=cell_type)\n",
    "plt.legend(loc='upper left', fontsize=12)\n",
    "plt.title('Proportion (zero-centered) of cells over time by cell type', fontsize=14)"
   ]
  },
  {
   "cell_type": "code",
   "execution_count": null,
   "id": "a18d88db",
   "metadata": {
    "ExecuteTime": {
     "end_time": "2022-04-14T20:31:15.356823Z",
     "start_time": "2022-04-14T20:31:15.342897Z"
    },
    "hidden": true
   },
   "outputs": [],
   "source": [
    "# X = np.linspace(0, df.shape[0]-1, df.shape[0]).reshape(-1, 1)\n",
    "X = df.index.values.reshape(-1, 1)\n",
    "X[:3]"
   ]
  },
  {
   "cell_type": "code",
   "execution_count": null,
   "id": "c75136d6",
   "metadata": {
    "ExecuteTime": {
     "end_time": "2022-04-14T20:31:15.850385Z",
     "start_time": "2022-04-14T20:31:15.838115Z"
    },
    "hidden": true
   },
   "outputs": [],
   "source": [
    "Y = df[cell_types].values\n",
    "Y"
   ]
  },
  {
   "cell_type": "code",
   "execution_count": null,
   "id": "08fc8601",
   "metadata": {
    "ExecuteTime": {
     "end_time": "2022-04-14T20:31:16.205068Z",
     "start_time": "2022-04-14T20:31:16.193523Z"
    },
    "hidden": true
   },
   "outputs": [],
   "source": [
    "# Sweep out timepoints between 0 and 24 to predict on\n",
    "X_test = np.linspace(start=0, stop=df.index[-1], num=100).reshape(-1, 1)\n",
    "\n",
    "# Placeholder Y_test just for the SGPRN API\n",
    "Y_test = np.zeros((X_test.shape[0], Y.shape[1]))\n",
    "\n",
    "# For plotting uncentered points\n",
    "Y_uncentered = Y + cell_type_means.values"
   ]
  },
  {
   "cell_type": "markdown",
   "id": "de8912b3",
   "metadata": {
    "hidden": true
   },
   "source": [
    "Add priors for $f_i$'s based on mean of independent GP fits"
   ]
  },
  {
   "cell_type": "code",
   "execution_count": null,
   "id": "828fc5b4",
   "metadata": {
    "ExecuteTime": {
     "end_time": "2022-04-14T20:31:17.419714Z",
     "start_time": "2022-04-14T20:31:17.075531Z"
    },
    "hidden": true
   },
   "outputs": [],
   "source": [
    "f_priors = []\n",
    "cell_type_color = [('CLL', 'tab:blue'), \n",
    "                   ('CD8+ T cells', 'tab:orange'), \n",
    "                   ('Activated T cells', 'tab:green'),\n",
    "                   ('Exhausted T cells', 'tab:red')]\n",
    "plt.figure(figsize=(18, 4))\n",
    "for i, y_i in enumerate(Y.T):\n",
    "    rbf = RBF(1)\n",
    "    gpr = GaussianProcessRegressor(kernel=rbf, alpha=0.005, random_state=0)\n",
    "    gpr.fit(X, y_i)\n",
    "    y_pred = gpr.predict(X_test)\n",
    "    f_priors.append(gpr.predict(X))\n",
    "    plt.subplot(1, 4, i+1)\n",
    "    plt.plot(X_test, y_pred + cell_type_means.values[i], c=cell_type_color[i][1])\n",
    "    plt.scatter(X, Y_uncentered.T[i], c=cell_type_color[i][1])\n",
    "    plt.title('$f_%s$ prior (%s)' % (i+1, cell_type_color[i][0]), fontsize=14)\n",
    "    if i==0: plt.ylabel('Proportion', fontsize=12)\n",
    "plt.suptitle('Independent GP fits to set $f_i$ priors', fontsize=15, y=1.05)\n",
    "f_priors = np.array(f_priors)"
   ]
  },
  {
   "cell_type": "markdown",
   "id": "99d04303",
   "metadata": {
    "hidden": true
   },
   "source": [
    "Add regularization for $W$"
   ]
  },
  {
   "cell_type": "code",
   "execution_count": null,
   "id": "ae15374f",
   "metadata": {
    "ExecuteTime": {
     "end_time": "2022-04-14T20:34:35.600585Z",
     "start_time": "2022-04-14T20:34:35.433896Z"
    },
    "hidden": true
   },
   "outputs": [],
   "source": [
    "W_reg_lambdas = np.array([[ 10, 0.1, 0.1, 0.1], \n",
    "                          [0.1,  10, 0.1, 0.1], \n",
    "                          [0.1, 0.1,  10, 0.1], \n",
    "                          [0.1, 0.1, 0.1, 10]])\n",
    "\n",
    "plt.figure(figsize=(5, 4))\n",
    "ax = sns.heatmap(W_reg_lambdas, cmap=\"Reds\", annot=True)\n",
    "ax.set_yticklabels(cell_types, fontsize=12)\n",
    "ax.set_xticklabels(cell_types, fontsize=12)\n",
    "plt.yticks(rotation=0)\n",
    "plt.xticks(rotation=45)\n",
    "plt.title('$W$ regularization penalty', fontsize=14)"
   ]
  },
  {
   "cell_type": "code",
   "execution_count": null,
   "id": "4c055c5d",
   "metadata": {
    "ExecuteTime": {
     "end_time": "2022-04-14T20:34:35.609666Z",
     "start_time": "2022-04-14T20:34:35.602122Z"
    },
    "hidden": true
   },
   "outputs": [],
   "source": [
    "priors = {\n",
    "    # f priors based on independent GP fits\n",
    "    'F': f_priors.T.reshape(5, 4, 1),\n",
    "#     'W': W_prior_mean,\n",
    "#     'W_prior_min': W_prior_min,\n",
    "#     'W_prior_max': W_prior_max,\n",
    "    # default GPRN W prior\n",
    "    'W': tf.Variable(0.001*tf.random.truncated_normal([5, 4, 4], mean=0, stddev=1.0), \n",
    "                     dtype=tf.float32),\n",
    "    'W_reg_lambdas': W_reg_lambdas\n",
    "}"
   ]
  },
  {
   "cell_type": "code",
   "execution_count": null,
   "id": "74409941",
   "metadata": {
    "ExecuteTime": {
     "end_time": "2022-04-14T20:34:41.016522Z",
     "start_time": "2022-04-14T20:34:40.999963Z"
    },
    "hidden": true
   },
   "outputs": [],
   "source": [
    "data = {\n",
    "    'N_all': X.shape[0],\n",
    "    'N_train': X.shape[0],\n",
    "    'N_test': X.shape[0],\n",
    "    'X_all': X,\n",
    "    'Y_all': Y,\n",
    "    'X_train': X,\n",
    "    'X_test': X_test,\n",
    "    'Y_train': Y,\n",
    "    'Y_test': Y_test,\n",
    "    'Y_mean': 0,\n",
    "    'Y_std': 1,\n",
    "    'Y_test_ground': Y,\n",
    "    'DList': [4, 1, 1],\n",
    "    'dname': 'None'\n",
    "}\n",
    "\n",
    "kernel = 'rbf'\n",
    "f_kernel_bandwidth = 50\n",
    "f_sigma = 0\n",
    "W_kernel_bandwidth = 50\n",
    "rank = 4\n",
    "maxIter = 1500\n",
    "interval = 100\n",
    "\n",
    "cfg = {\n",
    "    'data': data,\n",
    "    'jitter': 1e-3,\n",
    "    'init_std': 1e-3,\n",
    "    'epochs': maxIter,\n",
    "    'interval':interval,\n",
    "    'alpha':1e-2,\n",
    "    'ns': 100,\n",
    "    'Q': rank,\n",
    "    'kernel': kernel,\n",
    "    'f_kernel_bandwidth': f_kernel_bandwidth,\n",
    "    'f_sigma': f_sigma,\n",
    "    'W_kernel_bandwidth': W_kernel_bandwidth\n",
    "}"
   ]
  },
  {
   "cell_type": "code",
   "execution_count": null,
   "id": "5a4b07b0",
   "metadata": {
    "ExecuteTime": {
     "end_time": "2022-04-14T20:34:52.448869Z",
     "start_time": "2022-04-14T20:34:41.350157Z"
    },
    "hidden": true,
    "scrolled": true
   },
   "outputs": [],
   "source": [
    "model = SGPRN(cfg, init_type=priors)\n",
    "res = model.fit()"
   ]
  },
  {
   "cell_type": "code",
   "execution_count": null,
   "id": "2e030578",
   "metadata": {
    "ExecuteTime": {
     "end_time": "2022-04-14T20:34:54.662434Z",
     "start_time": "2022-04-14T20:34:54.476862Z"
    },
    "hidden": true
   },
   "outputs": [],
   "source": [
    "plt.figure(figsize=(18, 5))\n",
    "\n",
    "plt.subplot(1, 2, 1)\n",
    "plt.plot(res['nelbos'][1:])\n",
    "plt.xlabel('Epochs')\n",
    "plt.ylabel('nelbos loss', fontsize=14)\n",
    "\n",
    "plt.subplot(1, 2, 2)\n",
    "plt.plot(res['nrmse'][1:])\n",
    "plt.xlabel('Epochs')\n",
    "plt.ylabel('nrmse', fontsize=14)\n",
    "\n",
    "plt.suptitle('GPRN training loss', fontsize=14)"
   ]
  },
  {
   "cell_type": "markdown",
   "id": "70639377",
   "metadata": {
    "hidden": true
   },
   "source": [
    "Compare GPRN latent functions $f_i$'s vs $f_i$ priors"
   ]
  },
  {
   "cell_type": "code",
   "execution_count": null,
   "id": "57251c5e",
   "metadata": {
    "ExecuteTime": {
     "end_time": "2022-04-14T20:34:57.118088Z",
     "start_time": "2022-04-14T20:34:56.730470Z"
    },
    "hidden": true
   },
   "outputs": [],
   "source": [
    "int_slider = widgets.IntSlider(\n",
    "    value=0, \n",
    "    min=0, max=res['W_mu'].shape[0]-1, step=1,\n",
    "    description='epoch'\n",
    ")\n",
    "\n",
    "def update(var):\n",
    "    f_pred = res['f_mu'][var]\n",
    "    plt.figure(figsize=(18, 4))\n",
    "    plt.suptitle('GPRN latent functions $f_i$\\'s vs $f_i$ priors', fontsize=15, y=1.05)\n",
    "    for i, f_i in enumerate(f_priors):\n",
    "        plt.subplot(1, 4, i+1)\n",
    "        plt.plot(X.flatten(), f_i, c='tab:blue', label='Prior')\n",
    "        plt.plot(X_test.flatten(), f_pred[:, i].flatten(), c='tab:red', label='GPRN posterior')\n",
    "        plt.title(f'$f_{i+1}$ ({cell_types[i]})', fontsize=14)\n",
    "        plt.legend(loc='lower right', fontsize=12)\n",
    "\n",
    "interact(update, var=int_slider)"
   ]
  },
  {
   "cell_type": "markdown",
   "id": "b44efbc7",
   "metadata": {
    "hidden": true
   },
   "source": [
    "Compare GPRN predictions $y$ vs actual"
   ]
  },
  {
   "cell_type": "code",
   "execution_count": null,
   "id": "cea8f42d",
   "metadata": {
    "ExecuteTime": {
     "end_time": "2022-04-14T20:34:59.770331Z",
     "start_time": "2022-04-14T20:34:59.500074Z"
    },
    "hidden": true
   },
   "outputs": [],
   "source": [
    "int_slider = widgets.IntSlider(\n",
    "    value=0, \n",
    "    min=0, max=res['W_mu'].shape[0]-1, step=1,\n",
    "    description='epoch'\n",
    ")\n",
    "\n",
    "def update(var):\n",
    "    y_preds = res['Y_pred'][var]\n",
    "    plt.figure(figsize=(18, 4))\n",
    "    for i, y_i in enumerate(Y.T):\n",
    "        plt.subplot(1, 4, i+1)\n",
    "        plt.scatter(X.flatten(), Y_uncentered.T[i], s=15)\n",
    "        y_i_preds = y_preds[:, i]\n",
    "        y_i_preds_uncentered = y_i_preds + cell_type_means[i]\n",
    "        plt.plot(X_test.flatten(), y_i_preds_uncentered, c='tab:red')\n",
    "        plt.title(f'{df.columns[i]}', fontsize=14)\n",
    "        if i==0: plt.ylabel('Proportion', fontsize=12)\n",
    "        plt.ylim([0, 1])\n",
    "    plt.suptitle('GPRN predictions vs actual', fontsize=15, y=1.05)\n",
    "\n",
    "interact(update, var=int_slider)"
   ]
  },
  {
   "cell_type": "code",
   "execution_count": null,
   "id": "ce1274cf",
   "metadata": {
    "ExecuteTime": {
     "end_time": "2022-04-14T20:35:10.550414Z",
     "start_time": "2022-04-14T20:35:08.224807Z"
    },
    "hidden": true,
    "scrolled": true
   },
   "outputs": [],
   "source": [
    "y_samples, W_samples = model.eval_test_post()\n",
    "\n",
    "plt.figure(figsize=(18, 4))\n",
    "for i in range(y_samples.shape[2]):\n",
    "    plt.subplot(1, 4, i+1)\n",
    "    for sample in y_samples[:100, :, i]:\n",
    "        plt.scatter(X_test.flatten(), sample, c='tab:red', s=0.5)\n",
    "    y_samples_95_percentile = np.percentile(y_samples[:, :, i], 90, axis=0)\n",
    "    y_samples_5_percentile = np.percentile(y_samples[:, :, i], 10, axis=0)\n",
    "    plt.plot(X_test.flatten(), y_samples_95_percentile, c='tab:blue', label='90th percentile')\n",
    "    plt.plot(X_test.flatten(), y_samples_5_percentile, c='tab:green', label='10th percentile')\n",
    "    plt.title(f'{df.columns[i]}', fontsize=14)\n",
    "    if i==0: plt.ylabel('Proportion', fontsize=12)\n",
    "    plt.legend(loc='upper left', fontsize=10)\n",
    "#     plt.ylim([-0.5, 0.5])\n",
    "plt.suptitle('GPRN posterior samples', fontsize=15, y=1.05)"
   ]
  },
  {
   "cell_type": "code",
   "execution_count": null,
   "id": "75ffb761",
   "metadata": {
    "ExecuteTime": {
     "end_time": "2022-04-14T20:35:16.170529Z",
     "start_time": "2022-04-14T20:35:15.879292Z"
    },
    "hidden": true
   },
   "outputs": [],
   "source": [
    "epoch_index = 15\n",
    "y_preds = res['Y_pred'][epoch_index]\n",
    "\n",
    "cell_type_color = [('CLL', 'tab:blue'), \n",
    "                   ('CD8+ T cells', 'tab:orange'), \n",
    "                   ('Activated T cells', 'tab:green'),\n",
    "                   ('Exhausted T cells', 'tab:red')]\n",
    "\n",
    "plt.figure(figsize=(18, 4))\n",
    "for i, y_i in enumerate(Y.T):\n",
    "    plt.subplot(1, 4, i+1)\n",
    "    plt.scatter(X, Y_uncentered.T[i], c=cell_type_color[i][1], s=15)\n",
    "    y_i_preds = y_preds[:, i]\n",
    "    y_i_preds_uncentered = y_i_preds + cell_type_means[i]\n",
    "    plt.plot(X_test.flatten(), y_i_preds_uncentered, c=cell_type_color[i][1])\n",
    "    y_samples_75_percentile = np.percentile(y_samples[:, :, i], 75, axis=0)\n",
    "    y_samples_75_percentile_uncentered = y_samples_75_percentile + cell_type_means[i]\n",
    "    y_samples_25_percentile = np.percentile(y_samples[:, :, i], 25, axis=0)\n",
    "    y_samples_25_percentile_uncentered = y_samples_25_percentile + cell_type_means[i]\n",
    "    plt.fill_between(X_test.flatten(), y_samples_25_percentile_uncentered, \n",
    "                     y_samples_75_percentile_uncentered, \n",
    "                     color=cell_type_color[i][1], alpha=0.2)\n",
    "    plt.title(f'{cell_type_color[i][0]} proportion', fontsize=14)\n",
    "    if i==0: plt.ylabel('Proportion', fontsize=12)\n",
    "    plt.ylim([-1.5, 2])\n",
    "plt.suptitle('GPRN predictions vs actual', fontsize=15, y=1.05)"
   ]
  },
  {
   "cell_type": "code",
   "execution_count": null,
   "id": "189184c4",
   "metadata": {
    "ExecuteTime": {
     "end_time": "2022-04-14T20:35:37.073843Z",
     "start_time": "2022-04-14T20:35:36.893117Z"
    },
    "hidden": true
   },
   "outputs": [],
   "source": [
    "epoch_index = 15\n",
    "y_preds = res['Y_pred'][epoch_index]\n",
    "\n",
    "plt.figure(figsize=(9, 6))\n",
    "for i, cell_type in enumerate(cell_types):\n",
    "    plt.scatter(X.flatten(), Y_uncentered.T[i], label=cell_type, s=15)\n",
    "    y_i_preds = y_preds[:, i]\n",
    "    y_i_preds_uncentered = y_i_preds + cell_type_means[i]\n",
    "    plt.plot(X_test.flatten(), y_i_preds_uncentered)\n",
    "    y_samples_75_percentile = np.percentile(y_samples[:, :, i], 75, axis=0)\n",
    "    y_samples_75_percentile_uncentered = y_samples_75_percentile + cell_type_means[i]\n",
    "    y_samples_25_percentile = np.percentile(y_samples[:, :, i], 25, axis=0)\n",
    "    y_samples_25_percentile_uncentered = y_samples_25_percentile + cell_type_means[i]\n",
    "    plt.fill_between(X_test.flatten(), y_samples_25_percentile_uncentered, \n",
    "                     y_samples_75_percentile_uncentered, \n",
    "                     color=cell_type_color[i][1], alpha=0.2)\n",
    "plt.legend(loc='upper left', fontsize=12)\n",
    "plt.xticks(rotation=45)\n",
    "plt.ylim([-1.5, 2])\n",
    "plt.title('Proportion of cells over time by cell type', fontsize=14)"
   ]
  },
  {
   "cell_type": "code",
   "execution_count": null,
   "id": "56b83c73",
   "metadata": {
    "ExecuteTime": {
     "end_time": "2022-04-14T20:35:42.883420Z",
     "start_time": "2022-04-14T20:35:42.685488Z"
    },
    "hidden": true
   },
   "outputs": [],
   "source": [
    "epoch_index = 15\n",
    "W = res['W_mu'][epoch_index]\n",
    "W_avg_over_time = np.mean(W, axis=0)\n",
    "\n",
    "plt.figure(figsize=(5, 4))\n",
    "ax = sns.heatmap(W_avg_over_time, cmap=\"RdBu_r\", annot=True, \n",
    "                 vmin=-1, vmax=1)\n",
    "ax.set_yticklabels(cell_types, fontsize=12)\n",
    "ax.set_xticklabels(cell_types, fontsize=12)\n",
    "plt.yticks(rotation=0)\n",
    "plt.xticks(rotation=45)\n",
    "plt.title('$\\hat{W}_{avg}$', fontsize=14)"
   ]
  },
  {
   "cell_type": "code",
   "execution_count": null,
   "id": "1fba8b35",
   "metadata": {
    "ExecuteTime": {
     "end_time": "2022-04-14T20:35:51.259580Z",
     "start_time": "2022-04-14T20:35:51.057815Z"
    },
    "hidden": true
   },
   "outputs": [],
   "source": [
    "int_slider = widgets.IntSlider(\n",
    "    value=0, \n",
    "    min=0, max=res['W_mu'].shape[0]-1, step=1,\n",
    "    description='epoch'\n",
    ")\n",
    "\n",
    "def update(var):\n",
    "    W = res['W_mu'][var]\n",
    "    heatmap_vmin = res['W_mu'].min()\n",
    "    heatmap_vmax = res['W_mu'].max()\n",
    "    W_avg_over_time = np.mean(W, axis=0)\n",
    "    plt.figure(figsize=(5, 4))\n",
    "    ax = sns.heatmap(W_avg_over_time, cmap=\"RdBu_r\", annot=True, \n",
    "                     vmin=-1, vmax=1)\n",
    "#                      vmin=heatmap_vmin, vmax=heatmap_vmax)\n",
    "    ax.set_yticklabels(cell_types, fontsize=12)\n",
    "    ax.set_xticklabels(cell_types, fontsize=12)\n",
    "    plt.yticks(rotation=0)\n",
    "    plt.xticks(rotation=45)\n",
    "    plt.title('$\\hat{W}_{avg}$' + f' at epoch {var}', fontsize=15)\n",
    "\n",
    "interact(update, var=int_slider)"
   ]
  },
  {
   "cell_type": "markdown",
   "id": "1abe010c",
   "metadata": {
    "ExecuteTime": {
     "end_time": "2021-12-10T17:27:06.830276Z",
     "start_time": "2021-12-10T17:27:06.802286Z"
    },
    "hidden": true
   },
   "source": [
    "Interpretation: $W_{i, j}$ is the effect of the $j^{th}$ latent function on the $i^{th }$ cell type."
   ]
  },
  {
   "cell_type": "code",
   "execution_count": null,
   "id": "2462bf5c",
   "metadata": {
    "ExecuteTime": {
     "end_time": "2022-04-14T20:36:09.332552Z",
     "start_time": "2022-04-14T20:36:09.023858Z"
    },
    "hidden": true
   },
   "outputs": [],
   "source": [
    "epoch_index = 15\n",
    "W = res['W_mu'][epoch_index]\n",
    "heatmap_vmin = W.min()\n",
    "heatmap_vmax = W.max()\n",
    "\n",
    "int_slider = widgets.IntSlider(\n",
    "    value=0, \n",
    "    min=0, max=99, step=1,\n",
    "    description='time'\n",
    ")\n",
    "\n",
    "def update(var):\n",
    "    W_at_time = W[var]\n",
    "    plt.figure(figsize=(12, 4))\n",
    "    plt.subplot(1, 2, 1)\n",
    "    ax = sns.heatmap(W_at_time, cmap=\"RdBu_r\", annot=True, \n",
    "                     vmin=-1, vmax=1)\n",
    "#                      vmin=heatmap_vmin, vmax=heatmap_vmax)\n",
    "    ax.set_yticklabels(cell_types, fontsize=12)\n",
    "    ax.set_xticklabels(cell_types, fontsize=12)\n",
    "    plt.yticks(rotation=0)\n",
    "    plt.xticks(rotation=45)\n",
    "    plt.title('$\\hat{W}$', fontsize=14)\n",
    "    plt.subplot(1, 2, 2)\n",
    "    y_preds = res['Y_pred'][epoch_index]\n",
    "    for i, cell_type in enumerate(cell_types):\n",
    "        plt.scatter(X.flatten(), df[cell_type], label=cell_type, s=15)\n",
    "        plt.plot(X_test.flatten(), y_preds[:, i])\n",
    "    plt.axvline(X_test.flatten()[var], c='tab:red', linestyle='--')\n",
    "    plt.legend(loc='upper left', fontsize=11)\n",
    "    plt.xticks(rotation=45)\n",
    "    plt.ylim([-0.5, 0.5])\n",
    "    plt.title('Proportion of cells over time by cell type', fontsize=13)\n",
    "\n",
    "interact(update, var=int_slider)"
   ]
  },
  {
   "cell_type": "code",
   "execution_count": null,
   "id": "78af1cd3",
   "metadata": {
    "ExecuteTime": {
     "end_time": "2022-04-14T20:37:05.698215Z",
     "start_time": "2022-04-14T20:37:05.238827Z"
    },
    "hidden": true
   },
   "outputs": [],
   "source": [
    "plt.figure(figsize=(10, 6))\n",
    "linestyles = ['-', '--', '-.', ':']\n",
    "for i, cell_type_i in enumerate(cell_types):\n",
    "    for j, cell_type_j in enumerate(cell_types):\n",
    "        plt.plot(X_test.flatten(), W[:, i, j],\n",
    "                 linestyle=linestyles[i],\n",
    "                 label='$W_{%s,%s}$ (%s - %s interaction)' % (i, j, cell_type_i, cell_type_j))\n",
    "plt.legend(bbox_to_anchor=(1, 1), loc='upper left', fontsize=14)\n",
    "plt.title('Cell type interactions over time', fontsize=14)\n",
    "plt.ylabel('$W_{i, j}$', fontsize=14)\n",
    "plt.xlabel('time', fontsize=14)"
   ]
  },
  {
   "cell_type": "code",
   "execution_count": null,
   "id": "70cf4449",
   "metadata": {
    "ExecuteTime": {
     "end_time": "2022-04-14T20:37:21.194767Z",
     "start_time": "2022-04-14T20:37:19.640617Z"
    },
    "hidden": true
   },
   "outputs": [],
   "source": [
    "plt.figure(figsize=(18, 15))\n",
    "for i, cell_type_i in enumerate(cell_types):\n",
    "    for j, cell_type_j in enumerate(cell_types):\n",
    "        plt.subplot(4, 4, i*4 + j + 1)\n",
    "        line = plt.plot(X_test.flatten(), W[:, i, j])\n",
    "        W_i_j_samples = W_samples[:, :, i, j]\n",
    "        W_samples_75_percentile = np.percentile(W_i_j_samples, 75, axis=0)\n",
    "        W_samples_25_percentile = np.percentile(W_i_j_samples, 25, axis=0)\n",
    "        plt.fill_between(X_test.flatten(), W_samples_25_percentile, W_samples_75_percentile, alpha=0.2)\n",
    "        plt.ylabel('$W_{i, j}$', fontsize=14)\n",
    "        plt.xlabel('time', fontsize=14)\n",
    "        plt.ylim([-1, 1])\n",
    "        plt.title('$W_{%s,%s}$ (%s - %s)' % (i, j, cell_type_i, cell_type_j),\n",
    "                  fontsize=16)\n",
    "plt.tight_layout()"
   ]
  },
  {
   "cell_type": "markdown",
   "id": "3b0cbbd9",
   "metadata": {},
   "source": [
    "## Experiment C"
   ]
  },
  {
   "cell_type": "code",
   "execution_count": null,
   "id": "b2c524ac",
   "metadata": {
    "ExecuteTime": {
     "end_time": "2022-11-17T14:11:36.774148Z",
     "start_time": "2022-11-17T14:11:36.751371Z"
    }
   },
   "outputs": [],
   "source": [
    "df = pd.read_csv('data/CAR-T ratios and umap/CARC_ratios_processed.pkl', index_col='Hours post co-culture')\n",
    "df.columns = ['MEC1 cells', 'Other CD8+ T cells', 'Activated T cells', 'Exhausted T cells',\n",
    "              'total_cells_per_sample']\n",
    "df"
   ]
  },
  {
   "cell_type": "code",
   "execution_count": null,
   "id": "16aefab1",
   "metadata": {
    "ExecuteTime": {
     "end_time": "2022-11-17T14:11:36.928735Z",
     "start_time": "2022-11-17T14:11:36.775922Z"
    }
   },
   "outputs": [],
   "source": [
    "plt.figure(figsize=(8, 5))\n",
    "cell_types = ['MEC1 cells', 'Other CD8+ T cells', 'Activated T cells', 'Exhausted T cells']\n",
    "for cell_type in cell_types:\n",
    "    plt.plot(df[cell_type] * df['total_cells_per_sample'], label=cell_type)\n",
    "plt.legend(loc='upper left', fontsize=12)\n",
    "plt.title('Number of cells over time by cell type \\n (cell type proportion * total_cells_per_sample)', \n",
    "          fontsize=12)"
   ]
  },
  {
   "cell_type": "code",
   "execution_count": null,
   "id": "cfd73e11",
   "metadata": {
    "ExecuteTime": {
     "end_time": "2022-11-17T14:11:37.114325Z",
     "start_time": "2022-11-17T14:11:36.931123Z"
    },
    "scrolled": false
   },
   "outputs": [],
   "source": [
    "plt.figure(figsize=(8, 5))\n",
    "for cell_type in cell_types:\n",
    "    plt.plot(df[cell_type], marker='o', label=cell_type)\n",
    "plt.legend(loc='upper right', fontsize=12)\n",
    "# plt.ylim([0, 1.0])\n",
    "plt.title('Proportion of cells types over time', fontsize=14)\n",
    "plt.xlabel('Hours post co-culture', fontsize=12)\n",
    "plt.ylabel('Proportion', fontsize=12)\n",
    "plt.savefig('figures/fig_2_cell_type_proportions.eps')"
   ]
  },
  {
   "cell_type": "markdown",
   "id": "6a698c8b",
   "metadata": {},
   "source": [
    "Center cell type proportions"
   ]
  },
  {
   "cell_type": "code",
   "execution_count": null,
   "id": "9da2b3d6",
   "metadata": {
    "ExecuteTime": {
     "end_time": "2022-11-17T14:11:37.128053Z",
     "start_time": "2022-11-17T14:11:37.115732Z"
    }
   },
   "outputs": [],
   "source": [
    "cell_type_means = df[cell_types].mean()\n",
    "cell_type_std_devs = df[cell_types].std()\n",
    "df[cell_types] -= cell_type_means\n",
    "df[cell_types] /= cell_type_std_devs\n",
    "df"
   ]
  },
  {
   "cell_type": "code",
   "execution_count": null,
   "id": "cf10ebf0",
   "metadata": {
    "ExecuteTime": {
     "end_time": "2022-11-17T14:11:37.230837Z",
     "start_time": "2022-11-17T14:11:37.129237Z"
    },
    "scrolled": false
   },
   "outputs": [],
   "source": [
    "plt.figure(figsize=(8, 5))\n",
    "for cell_type in cell_types:\n",
    "    plt.plot(df[cell_type], marker='o', label=cell_type)\n",
    "plt.legend(loc='upper left', fontsize=12)\n",
    "plt.title('Proportions (z-scored) of cells over time by cell type', fontsize=14)"
   ]
  },
  {
   "cell_type": "code",
   "execution_count": null,
   "id": "0790f020",
   "metadata": {
    "ExecuteTime": {
     "end_time": "2022-11-17T14:11:37.235423Z",
     "start_time": "2022-11-17T14:11:37.232446Z"
    }
   },
   "outputs": [],
   "source": [
    "# X = np.linspace(0, df.shape[0]-1, df.shape[0]).reshape(-1, 1)\n",
    "X = df.index.values.reshape(-1, 1)\n",
    "X[:3]"
   ]
  },
  {
   "cell_type": "code",
   "execution_count": null,
   "id": "4e028554",
   "metadata": {
    "ExecuteTime": {
     "end_time": "2022-11-17T14:11:37.240935Z",
     "start_time": "2022-11-17T14:11:37.237201Z"
    }
   },
   "outputs": [],
   "source": [
    "Y = df[cell_types].values\n",
    "Y"
   ]
  },
  {
   "cell_type": "code",
   "execution_count": null,
   "id": "c5baffd6",
   "metadata": {
    "ExecuteTime": {
     "end_time": "2022-11-17T14:12:01.407526Z",
     "start_time": "2022-11-17T14:12:01.396528Z"
    }
   },
   "outputs": [],
   "source": [
    "# Sweep out timepoints between 0 and 24 to predict on\n",
    "X_test = np.linspace(start=0, stop=df.index[-1], num=100).reshape(-1, 1)\n",
    "\n",
    "# Placeholder Y_test just for the SGPRN API\n",
    "Y_test = np.zeros((X_test.shape[0], Y.shape[1]))\n",
    "\n",
    "# For plotting uncentered points\n",
    "Y_uncentered = Y * cell_type_std_devs.values + cell_type_means.values"
   ]
  },
  {
   "cell_type": "markdown",
   "id": "bea344ca",
   "metadata": {},
   "source": [
    "Add priors for $f_i$'s based on mean of independent GP fits"
   ]
  },
  {
   "cell_type": "code",
   "execution_count": null,
   "id": "7f2ade78",
   "metadata": {
    "ExecuteTime": {
     "end_time": "2022-11-17T14:12:02.637273Z",
     "start_time": "2022-11-17T14:12:01.978362Z"
    }
   },
   "outputs": [],
   "source": [
    "f_priors = []\n",
    "cell_type_color = [('MEC1 cells', 'tab:blue'), \n",
    "                   ('Other CD8+ T cells', 'tab:orange'), \n",
    "                   ('Activated T cells', 'tab:green'),\n",
    "                   ('Exhausted T cells', 'tab:red')]\n",
    "plt.figure(figsize=(18, 4))\n",
    "for i, y_i in enumerate(Y.T):\n",
    "    rbf = RBF(length_scale=5, length_scale_bounds=(5, 5))\n",
    "    gpr = GaussianProcessRegressor(kernel=rbf, alpha=0.05, random_state=0)\n",
    "    gpr.fit(X, y_i)\n",
    "    y_pred = gpr.predict(X_test)\n",
    "    f_priors.append(gpr.predict(X))\n",
    "    y_pred_uncentered = y_pred * cell_type_std_devs.values[i] + cell_type_means.values[i]\n",
    "    plt.subplot(1, 4, i+1)\n",
    "    plt.plot(X_test, y_pred_uncentered, c=cell_type_color[i][1])\n",
    "    plt.scatter(X, Y_uncentered.T[i], c=cell_type_color[i][1])\n",
    "    plt.title('$f_%s$ latent (%s)' % (i+1, cell_type_color[i][0]), fontsize=14)\n",
    "    plt.xlabel('Hours post co-culture', fontsize=12)\n",
    "    if i==0: plt.ylabel('Proportion', fontsize=12)\n",
    "plt.suptitle('Independent GP fits to set $f_i$ latent functions', fontsize=15, y=1.05)\n",
    "f_priors = np.array(f_priors)\n",
    "\n",
    "plt.savefig('figures/fig_2_indep_gp_fits_for_f.eps')"
   ]
  },
  {
   "cell_type": "markdown",
   "id": "2a08027c",
   "metadata": {},
   "source": [
    "Add regularization for $W$"
   ]
  },
  {
   "cell_type": "code",
   "execution_count": null,
   "id": "d8b4f7bf",
   "metadata": {
    "ExecuteTime": {
     "end_time": "2022-11-17T14:12:04.775190Z",
     "start_time": "2022-11-17T14:12:04.517337Z"
    }
   },
   "outputs": [],
   "source": [
    "W_reg_lambdas = np.ones((4, 4)) * 0.1\n",
    "np.fill_diagonal(W_reg_lambdas, 10)\n",
    "\n",
    "plt.figure(figsize=(5, 4))\n",
    "ax = sns.heatmap(W_reg_lambdas, cmap=\"Reds\", annot=True)\n",
    "ax.set_yticklabels(cell_types, fontsize=12)\n",
    "ax.set_xticklabels(cell_types, fontsize=12)\n",
    "plt.yticks(rotation=0)\n",
    "plt.xticks(rotation=45)\n",
    "plt.title('$W$ regularization penalties', fontsize=14)\n",
    "plt.savefig('figures/fig_2_W_reg_penalties.eps', bbox_inches = \"tight\")"
   ]
  },
  {
   "cell_type": "code",
   "execution_count": null,
   "id": "d2d70537",
   "metadata": {
    "ExecuteTime": {
     "end_time": "2022-11-17T14:12:05.957351Z",
     "start_time": "2022-11-17T14:12:05.917738Z"
    }
   },
   "outputs": [],
   "source": [
    "priors = {\n",
    "    # f priors based on independent GP fits\n",
    "    'F': f_priors.T.reshape(10, 4, 1),\n",
    "#     'W': W_prior_mean,\n",
    "#     'W_prior_min': W_prior_min,\n",
    "#     'W_prior_max': W_prior_max,\n",
    "    # default GPRN W prior\n",
    "    'W': tf.Variable(0.001*tf.random.truncated_normal([10, 4, 4], mean=0, stddev=1.0), \n",
    "                     dtype=tf.float32),\n",
    "    'W_reg_lambdas': W_reg_lambdas\n",
    "}"
   ]
  },
  {
   "cell_type": "code",
   "execution_count": null,
   "id": "06a88ea7",
   "metadata": {
    "ExecuteTime": {
     "end_time": "2022-11-17T14:12:06.248776Z",
     "start_time": "2022-11-17T14:12:06.234043Z"
    }
   },
   "outputs": [],
   "source": [
    "data = {\n",
    "    'N_all': X.shape[0],\n",
    "    'N_train': X.shape[0],\n",
    "    'N_test': X.shape[0],\n",
    "    'X_all': X,\n",
    "    'Y_all': Y,\n",
    "    'X_train': X,\n",
    "    'X_test': X_test,\n",
    "    'Y_train': Y,\n",
    "    'Y_test': Y_test,\n",
    "    'Y_mean': 0,\n",
    "    'Y_std': 1,\n",
    "    'Y_test_ground': Y,\n",
    "    'DList': [4, 1, 1],\n",
    "    'dname': 'None'\n",
    "}\n",
    "\n",
    "kernel = 'rbf'\n",
    "f_kernel_bandwidth = 100\n",
    "f_sigma = 0\n",
    "W_kernel_bandwidth = 100\n",
    "rank = 4\n",
    "maxIter = 500\n",
    "interval = 100\n",
    "\n",
    "cfg = {\n",
    "    'data': data,\n",
    "    'jitter': 1e-3,\n",
    "    'init_std': 1e-3,\n",
    "    'epochs': maxIter,\n",
    "    'interval':interval,\n",
    "    'alpha':1e-2,\n",
    "    'ns': 100,\n",
    "    'Q': rank,\n",
    "    'kernel': kernel,\n",
    "    'f_kernel_bandwidth': f_kernel_bandwidth,\n",
    "    'f_sigma': f_sigma,\n",
    "    'W_kernel_bandwidth': W_kernel_bandwidth\n",
    "}"
   ]
  },
  {
   "cell_type": "code",
   "execution_count": null,
   "id": "922c3101",
   "metadata": {
    "ExecuteTime": {
     "end_time": "2022-11-17T14:12:12.981998Z",
     "start_time": "2022-11-17T14:12:07.876918Z"
    },
    "scrolled": true
   },
   "outputs": [],
   "source": [
    "model = SGPRN(cfg, init_type=priors)\n",
    "res = model.fit()"
   ]
  },
  {
   "cell_type": "code",
   "execution_count": null,
   "id": "4570bbd0",
   "metadata": {
    "ExecuteTime": {
     "end_time": "2022-11-17T14:12:17.104729Z",
     "start_time": "2022-11-17T14:12:16.919410Z"
    }
   },
   "outputs": [],
   "source": [
    "plt.figure(figsize=(18, 5))\n",
    "\n",
    "plt.subplot(1, 2, 1)\n",
    "plt.plot(res['nelbos'][1:])\n",
    "plt.xlabel('Epochs')\n",
    "plt.ylabel('nelbos loss', fontsize=14)\n",
    "\n",
    "plt.subplot(1, 2, 2)\n",
    "plt.plot(res['nrmse'][1:])\n",
    "plt.xlabel('Epochs')\n",
    "plt.ylabel('nrmse', fontsize=14)\n",
    "\n",
    "plt.suptitle('GPRN training loss', fontsize=14)"
   ]
  },
  {
   "cell_type": "markdown",
   "id": "470e30da",
   "metadata": {},
   "source": [
    "Compare GPRN latent functions $f_i$'s vs $f_i$ priors"
   ]
  },
  {
   "cell_type": "code",
   "execution_count": null,
   "id": "86637460",
   "metadata": {
    "ExecuteTime": {
     "end_time": "2022-11-17T14:12:34.674697Z",
     "start_time": "2022-11-17T14:12:34.311856Z"
    }
   },
   "outputs": [],
   "source": [
    "int_slider = widgets.IntSlider(\n",
    "    value=0, \n",
    "    min=0, max=res['W_mu'].shape[0]-1, step=1,\n",
    "    description='epoch'\n",
    ")\n",
    "\n",
    "def update(var):\n",
    "    f_pred = res['f_mu'][var]\n",
    "    plt.figure(figsize=(18, 4))\n",
    "    plt.suptitle('GPRN latent functions $f_i$\\'s vs $f_i$ priors', fontsize=15, y=1.05)\n",
    "    for i, f_i in enumerate(f_priors):\n",
    "        plt.subplot(1, 4, i+1)\n",
    "        plt.plot(X.flatten(), f_i, c='tab:blue', label='Prior')\n",
    "        plt.plot(X_test.flatten(), f_pred[:, i].flatten(), c='tab:red', label='GPRN posterior')\n",
    "        plt.title(f'$f_{i+1}$ ({cell_types[i]})', fontsize=14)\n",
    "        plt.legend(loc='lower right', fontsize=12)\n",
    "\n",
    "interact(update, var=int_slider)"
   ]
  },
  {
   "cell_type": "markdown",
   "id": "e801fdf4",
   "metadata": {},
   "source": [
    "Compare GPRN predictions $y$ vs actual"
   ]
  },
  {
   "cell_type": "code",
   "execution_count": null,
   "id": "4038627a",
   "metadata": {
    "ExecuteTime": {
     "end_time": "2022-11-17T14:12:37.064398Z",
     "start_time": "2022-11-17T14:12:36.799751Z"
    }
   },
   "outputs": [],
   "source": [
    "int_slider = widgets.IntSlider(\n",
    "    value=0, \n",
    "    min=0, max=res['W_mu'].shape[0]-1, step=1,\n",
    "    description='epoch'\n",
    ")\n",
    "\n",
    "def update(var):\n",
    "    y_preds = res['Y_pred'][var]\n",
    "    plt.figure(figsize=(18, 4))\n",
    "    for i, y_i in enumerate(Y.T):\n",
    "        plt.subplot(1, 4, i+1)\n",
    "        plt.scatter(X.flatten(), Y_uncentered.T[i], s=15)\n",
    "        y_i_preds = y_preds[:, i]\n",
    "        y_i_preds_uncentered = y_i_preds  * cell_type_std_devs[i] + cell_type_means[i]\n",
    "        plt.plot(X_test.flatten(), y_i_preds_uncentered, c='tab:red')\n",
    "        plt.title(f'{df.columns[i]}', fontsize=14)\n",
    "        if i==0: plt.ylabel('Proportion', fontsize=12)\n",
    "        plt.ylim([0, 1])\n",
    "    plt.suptitle('GPRN predictions vs actual', fontsize=15, y=1.05)\n",
    "\n",
    "interact(update, var=int_slider)"
   ]
  },
  {
   "cell_type": "code",
   "execution_count": null,
   "id": "0e41e28d",
   "metadata": {
    "ExecuteTime": {
     "end_time": "2022-11-17T14:12:43.725718Z",
     "start_time": "2022-11-17T14:12:41.358174Z"
    }
   },
   "outputs": [],
   "source": [
    "y_samples, W_samples = model.eval_test_post()\n",
    "\n",
    "plt.figure(figsize=(18, 4))\n",
    "for i in range(y_samples.shape[2]):\n",
    "    plt.subplot(1, 4, i+1)\n",
    "    for sample in y_samples[:100, :, i]:\n",
    "        plt.scatter(X_test.flatten(), sample, c='tab:red', s=0.5)\n",
    "    y_samples_sd = np.std(y_samples[:, :, i], axis=0)\n",
    "    y_samples_plus_1_sd = y_samples[:, :, i].mean(axis=0) + y_samples_sd\n",
    "    y_samples_minus_1_sd = y_samples[:, :, i].mean(axis=0) - y_samples_sd\n",
    "    plt.plot(X_test.flatten(), y_samples_plus_1_sd, c='tab:blue', label='+1 SD')\n",
    "    plt.plot(X_test.flatten(), y_samples_minus_1_sd, c='tab:green', label='-1 SD')\n",
    "    plt.title(f'{df.columns[i]}', fontsize=14)\n",
    "    if i==0: plt.ylabel('Proportion', fontsize=12)\n",
    "    plt.legend(loc='upper left', fontsize=10)\n",
    "plt.suptitle('GPRN posterior samples', fontsize=15, y=1.05)"
   ]
  },
  {
   "cell_type": "code",
   "execution_count": null,
   "id": "417249f7",
   "metadata": {
    "ExecuteTime": {
     "end_time": "2022-11-17T14:12:45.093129Z",
     "start_time": "2022-11-17T14:12:44.668894Z"
    }
   },
   "outputs": [],
   "source": [
    "from mimic_alpha.mimic_alpha import colorAlpha_to_rgb\n",
    "import matplotlib.colors as colors\n",
    "\n",
    "epoch_index = res['W_mu'].shape[0]-1\n",
    "y_preds = res['Y_pred'][epoch_index]\n",
    "\n",
    "cell_type_color = [('MEC1 cells', 'tab:blue'), \n",
    "                   ('Other CD8+ T cells', 'tab:orange'), \n",
    "                   ('Activated T cells', 'tab:green'),\n",
    "                   ('Exhausted T cells', 'tab:red')]\n",
    "\n",
    "fig, axes = plt.subplots(1, 4, figsize=(18, 4))\n",
    "for i, y_i in enumerate(Y.T):\n",
    "    ax = axes[i]\n",
    "    y_i_preds = y_preds[:, i]\n",
    "    y_i_preds_uncentered = y_i_preds * cell_type_std_devs[i] + cell_type_means[i]\n",
    "    y_i_preds_uncentered = np.clip(y_i_preds_uncentered, 0, 1)\n",
    "    line = ax.plot(X_test.flatten(), y_i_preds_uncentered, c=cell_type_color[i][1])\n",
    "    y_samples_sd = np.std(y_samples[:, :, i], axis=0)\n",
    "    y_samples_plus_1_sd = y_samples[:, :, i].mean(axis=0) + y_samples_sd\n",
    "    y_samples_minus_1_sd = y_samples[:, :, i].mean(axis=0) - y_samples_sd\n",
    "    # Uncenter conf ints\n",
    "    y_samples_plus_1_sd = y_samples_plus_1_sd * cell_type_std_devs[i] + cell_type_means[i]\n",
    "    y_samples_minus_1_sd = y_samples_minus_1_sd * cell_type_std_devs[i] + cell_type_means[i]\n",
    "    # Clip conf ints b/w 0 to 1\n",
    "    y_samples_plus_1_sd = np.clip(y_samples_plus_1_sd, 0, 1)\n",
    "    y_samples_minus_1_sd = np.clip(y_samples_minus_1_sd, 0, 1)\n",
    "    color_with_alpha = list(colors.to_rgb(cell_type_color[i][1])) + [0.2]\n",
    "    color_without_alpha = colorAlpha_to_rgb([color_with_alpha], 0.2)\n",
    "    ax.fill_between(X_test.flatten(), y_samples_minus_1_sd, y_samples_plus_1_sd, \n",
    "                     color=color_without_alpha)\n",
    "    ax.scatter(X, Y_uncentered.T[i], c=cell_type_color[i][1], s=15)\n",
    "    ax.set_title(f'{cell_type_color[i][0]} proportion', fontsize=14)\n",
    "    ax.set_xlabel('Hours post co-culture', fontsize=12)\n",
    "    if i==0: ax.set_ylabel('Proportion', fontsize=12)\n",
    "plt.suptitle('GPRN predictions', fontsize=15, y=1.05)\n",
    "\n",
    "plt.savefig('figures/fig_2_gprn_predictions.eps')"
   ]
  },
  {
   "cell_type": "code",
   "execution_count": null,
   "id": "f974a5e4",
   "metadata": {
    "ExecuteTime": {
     "end_time": "2022-11-17T14:12:48.375677Z",
     "start_time": "2022-11-17T14:12:48.059390Z"
    }
   },
   "outputs": [],
   "source": [
    "epoch_index = res['W_mu'].shape[0]-1\n",
    "W = res['W_mu'][epoch_index]\n",
    "W_avg_over_time = np.mean(W, axis=0)\n",
    "\n",
    "plt.figure(figsize=(5, 4))\n",
    "ax = sns.heatmap(W_avg_over_time, cmap=\"RdBu_r\", annot=True, \n",
    "                 vmin=-1, vmax=1)\n",
    "ax.set_yticklabels(cell_types, fontsize=12)\n",
    "ax.set_xticklabels(cell_types, fontsize=12)\n",
    "plt.yticks(rotation=0)\n",
    "plt.xticks(rotation=45)\n",
    "plt.title('$\\hat{W}_{avg}$', fontsize=14)\n",
    "\n",
    "plt.savefig('figures/fig_2_W_avg.eps', bbox_inches='tight')"
   ]
  },
  {
   "cell_type": "code",
   "execution_count": null,
   "id": "1874749b",
   "metadata": {
    "ExecuteTime": {
     "end_time": "2022-11-17T14:12:52.522225Z",
     "start_time": "2022-11-17T14:12:52.258665Z"
    }
   },
   "outputs": [],
   "source": [
    "int_slider = widgets.IntSlider(\n",
    "    value=0, \n",
    "    min=0, max=res['W_mu'].shape[0]-1, step=1,\n",
    "    description='epoch'\n",
    ")\n",
    "\n",
    "def update(var):\n",
    "    W = res['W_mu'][var]\n",
    "    heatmap_vmin = res['W_mu'].min()\n",
    "    heatmap_vmax = res['W_mu'].max()\n",
    "    W_avg_over_time = np.mean(W, axis=0)\n",
    "    plt.figure(figsize=(5, 4))\n",
    "    ax = sns.heatmap(W_avg_over_time, cmap=\"RdBu_r\", annot=True, \n",
    "                     vmin=-1, vmax=1)\n",
    "#                      vmin=heatmap_vmin, vmax=heatmap_vmax)\n",
    "    ax.set_yticklabels(cell_types, fontsize=12)\n",
    "    ax.set_xticklabels(cell_types, fontsize=12)\n",
    "    plt.yticks(rotation=0)\n",
    "    plt.xticks(rotation=45)\n",
    "    plt.title('$\\hat{W}_{avg}$' + f' at epoch {var}', fontsize=15)\n",
    "\n",
    "interact(update, var=int_slider)"
   ]
  },
  {
   "cell_type": "markdown",
   "id": "55621b3b",
   "metadata": {
    "ExecuteTime": {
     "end_time": "2021-12-10T17:27:06.830276Z",
     "start_time": "2021-12-10T17:27:06.802286Z"
    }
   },
   "source": [
    "Interpretation: $W_{i, j}$ is the effect of the $j^{th}$ latent function on the $i^{th }$ cell type."
   ]
  },
  {
   "cell_type": "code",
   "execution_count": null,
   "id": "a8fb0e0c",
   "metadata": {
    "ExecuteTime": {
     "end_time": "2022-11-17T14:12:54.543637Z",
     "start_time": "2022-11-17T14:12:54.224365Z"
    }
   },
   "outputs": [],
   "source": [
    "epoch_index = res['W_mu'].shape[0]-1\n",
    "W = res['W_mu'][epoch_index]\n",
    "heatmap_vmin = W.min()\n",
    "heatmap_vmax = W.max()\n",
    "\n",
    "int_slider = widgets.IntSlider(\n",
    "    value=0, \n",
    "    min=0, max=99, step=1,\n",
    "    description='time'\n",
    ")\n",
    "\n",
    "def update(var):\n",
    "    W_at_time = W[var]\n",
    "    plt.figure(figsize=(12, 4))\n",
    "    plt.subplot(1, 2, 1)\n",
    "    ax = sns.heatmap(W_at_time, cmap=\"RdBu_r\", annot=True, \n",
    "                     vmin=-1, vmax=1)\n",
    "#                      vmin=heatmap_vmin, vmax=heatmap_vmax)\n",
    "    ax.set_yticklabels(cell_types, fontsize=12)\n",
    "    ax.set_xticklabels(cell_types, fontsize=12)\n",
    "    plt.yticks(rotation=0)\n",
    "    plt.xticks(rotation=45)\n",
    "    plt.title('$\\hat{W}$', fontsize=14)\n",
    "    plt.subplot(1, 2, 2)\n",
    "    y_preds = res['Y_pred'][epoch_index]\n",
    "    for i, cell_type in enumerate(cell_types):\n",
    "        plt.scatter(X.flatten(), df[cell_type] * cell_type_std_devs[i] + cell_type_means[i], \n",
    "                    label=cell_type, s=15)\n",
    "        plt.plot(X_test.flatten(), y_preds[:, i] * cell_type_std_devs[i] + cell_type_means[i])\n",
    "    plt.axvline(X_test.flatten()[var], c='tab:red', linestyle='--')\n",
    "    plt.legend(loc='upper left', fontsize=11)\n",
    "    plt.xticks(rotation=45)\n",
    "    plt.title('Proportion of cells over time by cell type', fontsize=13)\n",
    "\n",
    "interact(update, var=int_slider)"
   ]
  },
  {
   "cell_type": "code",
   "execution_count": null,
   "id": "a187ecba",
   "metadata": {
    "ExecuteTime": {
     "end_time": "2022-11-17T14:13:03.028874Z",
     "start_time": "2022-11-17T14:13:02.192005Z"
    }
   },
   "outputs": [],
   "source": [
    "plt.figure(figsize=(10, 6))\n",
    "linestyles = ['-', '--', '-.', ':']\n",
    "for i, cell_type_i in enumerate(cell_types):\n",
    "    for j, cell_type_j in enumerate(cell_types):\n",
    "        plt.plot(X_test.flatten(), W[:, i, j],\n",
    "                 linestyle=linestyles[i],\n",
    "                 label='$W_{%s,%s}$ (%s - %s interaction)' % (i, j, cell_type_i, cell_type_j))\n",
    "plt.legend(bbox_to_anchor=(1, 1), loc='upper left', fontsize=14)\n",
    "plt.title('Cell type interactions over time', fontsize=14)\n",
    "plt.ylabel('$W_{i, j}$', fontsize=14)\n",
    "plt.xlabel('Hours post co-culture', fontsize=14)\n",
    "\n",
    "plt.savefig('figures/fig_2_W_over_time.eps', bbox_inches='tight')"
   ]
  },
  {
   "cell_type": "code",
   "execution_count": null,
   "id": "5e048650",
   "metadata": {
    "ExecuteTime": {
     "end_time": "2022-11-17T14:13:07.581931Z",
     "start_time": "2022-11-17T14:13:05.184540Z"
    }
   },
   "outputs": [],
   "source": [
    "plt.figure(figsize=(18, 15))\n",
    "for i, cell_type_i in enumerate(cell_types):\n",
    "    for j, cell_type_j in enumerate(cell_types):\n",
    "        plt.subplot(4, 4, i*4 + j + 1)\n",
    "        line = plt.plot(X_test.flatten(), W[:, i, j])\n",
    "        W_i_j_samples = W_samples[:, :, i, j]\n",
    "        W_samples_75_percentile = np.percentile(W_i_j_samples, 95, axis=0)\n",
    "        W_samples_25_percentile = np.percentile(W_i_j_samples, 5, axis=0)\n",
    "        color_with_alpha = list(colors.to_rgb('tab:blue')) + [0.2]\n",
    "        color_without_alpha = colorAlpha_to_rgb([color_with_alpha], 0.2)\n",
    "        plt.fill_between(X_test.flatten(), W_samples_25_percentile, W_samples_75_percentile, \n",
    "                         color=color_without_alpha)\n",
    "        plt.ylabel('$W_{i, j}$', fontsize=14)\n",
    "        plt.xlabel('Hours post co-culture', fontsize=14)\n",
    "        plt.ylim([-1, 1])\n",
    "        plt.title('$W_{%s,%s}$ (%s - %s)' % (i, j, cell_type_i, cell_type_j),\n",
    "                  fontsize=14)\n",
    "plt.tight_layout()\n",
    "\n",
    "plt.savefig('figures/fig_S1_W_conf_int.eps', bbox_inches='tight')"
   ]
  },
  {
   "cell_type": "code",
   "execution_count": null,
   "id": "da71e546",
   "metadata": {
    "ExecuteTime": {
     "end_time": "2022-11-17T14:13:07.597190Z",
     "start_time": "2022-11-17T14:13:07.583292Z"
    }
   },
   "outputs": [],
   "source": [
    "W_avg_edge_list = []\n",
    "\n",
    "for row in range(W_avg_over_time.shape[0]):\n",
    "    for col in range(W_avg_over_time.shape[0]):\n",
    "        W_avg_edge_list.append({\n",
    "            'Source cluster': cell_types[col],\n",
    "            'Target cluster': cell_types[row],\n",
    "            'Interaction weight': W_avg_over_time[row, col],\n",
    "            'abs(Interaction weight)': np.abs(W_avg_over_time[row, col]),\n",
    "            'sign(Interaction weight)': np.sign(W_avg_over_time[row, col])\n",
    "        })\n",
    "        \n",
    "W_avg_edge_list_df = pd.DataFrame(W_avg_edge_list)\n",
    "W_avg_edge_list_df.to_csv('data/CAR-T/W_avg_edge_list.csv')\n",
    "W_avg_edge_list_df.head()"
   ]
  },
  {
   "cell_type": "code",
   "execution_count": null,
   "id": "2abfbe29",
   "metadata": {
    "ExecuteTime": {
     "end_time": "2022-11-17T14:13:07.606957Z",
     "start_time": "2022-11-17T14:13:07.599468Z"
    }
   },
   "outputs": [],
   "source": [
    "y_preds = res['Y_pred'][epoch_index]\n",
    "y_preds = y_preds * cell_type_std_devs.values + cell_type_means.values\n",
    "y_preds = np.clip(y_preds, 0, 1)\n",
    "y_preds_avg = y_preds.mean(axis=0)\n",
    "y_preds_avg_df = pd.DataFrame(y_preds_avg, index=cell_types, \n",
    "                              columns=['Inferred cluster proportion'])\n",
    "y_preds_avg_df.index.name = 'Cell type'\n",
    "y_preds_avg_df.to_csv('data/CAR-T/predicted_cluster_props_avg.csv')\n",
    "y_preds_avg_df"
   ]
  },
  {
   "cell_type": "code",
   "execution_count": null,
   "id": "e031b32a",
   "metadata": {
    "ExecuteTime": {
     "end_time": "2022-11-17T14:13:08.409144Z",
     "start_time": "2022-11-17T14:13:08.379509Z"
    }
   },
   "outputs": [],
   "source": [
    "for hours_post_coculture in range(21):\n",
    "    hours_nearest_X_index = np.argmin(np.abs(X_test - hours_post_coculture))\n",
    "    y_preds_df = pd.DataFrame(y_preds[hours_nearest_X_index], index=cell_types, \n",
    "                          columns=['Inferred cluster proportion'])\n",
    "    y_preds_df.index.name = 'Cell type'\n",
    "    y_preds_df.to_csv(f'data/CAR-T/predicted_cluster_props_over_time/predicted_cluster_props_{hours_post_coculture}.csv')\n",
    "    "
   ]
  },
  {
   "cell_type": "code",
   "execution_count": null,
   "id": "fcd4b0eb",
   "metadata": {
    "ExecuteTime": {
     "end_time": "2022-11-17T14:13:08.722021Z",
     "start_time": "2022-11-17T14:13:08.715436Z"
    }
   },
   "outputs": [],
   "source": [
    "W = res['W_mu'][epoch_index]\n",
    "W_abs = np.abs(res['W_mu'][epoch_index])\n",
    "W_min = W_abs.min()\n",
    "W_max = W_abs.max()\n",
    "W_abs_normalized = (W_abs - W_min) / (W_max - W_min) * 3 + 0.5"
   ]
  },
  {
   "cell_type": "code",
   "execution_count": null,
   "id": "55bcfeb9",
   "metadata": {
    "ExecuteTime": {
     "end_time": "2022-11-17T14:13:10.188016Z",
     "start_time": "2022-11-17T14:13:10.135350Z"
    }
   },
   "outputs": [],
   "source": [
    "for hours_post_coculture in range(21):\n",
    "    hours_nearest_X_index = np.argmin(np.abs(X_test - hours_post_coculture))\n",
    "    W_t = res['W_mu'][epoch_index][hours_nearest_X_index]\n",
    "    W_t_avg_edge_list = []\n",
    "    for row in range(W_t.shape[0]):\n",
    "        for col in range(W_t.shape[0]):\n",
    "            W_t_avg_edge_list.append({\n",
    "                'Source cluster': cell_types[col],\n",
    "                'Target cluster': cell_types[row],\n",
    "                'Interaction weight': W_t[row, col],\n",
    "                'abs(Interaction weight)': W_abs_normalized[hours_nearest_X_index, row, col],\n",
    "                'sign(Interaction weight)': np.sign(W_t[row, col])\n",
    "            })\n",
    "\n",
    "    W_t_avg_edge_list_df = pd.DataFrame(W_t_avg_edge_list)\n",
    "    W_t_avg_edge_list_df.to_csv(f'data/CAR-T/W_edge_list_over_time/W_edge_list_{hours_post_coculture}.csv')"
   ]
  },
  {
   "cell_type": "code",
   "execution_count": null,
   "id": "c748eb5c",
   "metadata": {
    "ExecuteTime": {
     "end_time": "2022-11-17T14:17:02.244933Z",
     "start_time": "2022-11-17T14:17:02.234460Z"
    }
   },
   "outputs": [],
   "source": [
    "np.save('data/CAR-T/W.npy', W)\n",
    "np.save('data/CAR-T/X_test.npy', X_test)"
   ]
  },
  {
   "cell_type": "markdown",
   "id": "e5876a26",
   "metadata": {
    "heading_collapsed": true
   },
   "source": [
    "## Experiment D"
   ]
  },
  {
   "cell_type": "code",
   "execution_count": null,
   "id": "1c25a601",
   "metadata": {
    "ExecuteTime": {
     "end_time": "2022-10-03T19:44:05.539864Z",
     "start_time": "2022-10-03T19:44:05.523186Z"
    },
    "hidden": true
   },
   "outputs": [],
   "source": [
    "df = pd.read_csv('data/CAR-T ratios and umap/CARD_ratios_processed.pkl', index_col='Hours post co-culture')\n",
    "df.columns = ['MEC1 cells', 'Other CD8+ T cells', 'Activated T cells', 'Exhausted T cells',\n",
    "              'total_cells_per_sample']\n",
    "df"
   ]
  },
  {
   "cell_type": "code",
   "execution_count": null,
   "id": "2a9d412e",
   "metadata": {
    "ExecuteTime": {
     "end_time": "2022-10-03T19:44:08.217013Z",
     "start_time": "2022-10-03T19:44:08.064631Z"
    },
    "hidden": true
   },
   "outputs": [],
   "source": [
    "plt.figure(figsize=(8, 5))\n",
    "cell_types = ['MEC1 cells', 'Other CD8+ T cells', 'Activated T cells', 'Exhausted T cells']\n",
    "for cell_type in cell_types:\n",
    "    plt.plot(df[cell_type] * df['total_cells_per_sample'], label=cell_type)\n",
    "plt.legend(loc='upper left', fontsize=12)\n",
    "plt.title('Number of cells over time by cell type \\n (cell type proportion * total_cells_per_sample)', \n",
    "          fontsize=12)"
   ]
  },
  {
   "cell_type": "code",
   "execution_count": null,
   "id": "bf0f31ea",
   "metadata": {
    "ExecuteTime": {
     "end_time": "2022-10-03T19:44:08.979864Z",
     "start_time": "2022-10-03T19:44:08.797341Z"
    },
    "hidden": true,
    "scrolled": false
   },
   "outputs": [],
   "source": [
    "plt.figure(figsize=(8, 5))\n",
    "for cell_type in cell_types:\n",
    "    plt.plot(df[cell_type], marker='o', label=cell_type)\n",
    "plt.legend(loc='upper right', fontsize=12)\n",
    "plt.ylim([0, 1.0])\n",
    "plt.title('Proportion of cells types over time', fontsize=14)\n",
    "plt.xlabel('Hours post co-culture', fontsize=12)\n",
    "plt.ylabel('Proportion', fontsize=12)\n",
    "plt.savefig('figures/fig_2_cell_type_proportions.eps')"
   ]
  },
  {
   "cell_type": "markdown",
   "id": "cf42fe2f",
   "metadata": {
    "hidden": true
   },
   "source": [
    "Center cell type proportions"
   ]
  },
  {
   "cell_type": "code",
   "execution_count": null,
   "id": "d1c95c5c",
   "metadata": {
    "ExecuteTime": {
     "end_time": "2022-10-03T19:45:55.668294Z",
     "start_time": "2022-10-03T19:45:55.641132Z"
    },
    "hidden": true
   },
   "outputs": [],
   "source": [
    "cell_type_means = df[cell_types].mean()\n",
    "cell_type_std_devs = df[cell_types].std()\n",
    "df[cell_types] -= cell_type_means\n",
    "df[cell_types] /= cell_type_std_devs\n",
    "df"
   ]
  },
  {
   "cell_type": "code",
   "execution_count": null,
   "id": "fb1658b2",
   "metadata": {
    "ExecuteTime": {
     "end_time": "2022-10-03T19:46:12.582890Z",
     "start_time": "2022-10-03T19:46:12.460260Z"
    },
    "hidden": true,
    "scrolled": false
   },
   "outputs": [],
   "source": [
    "plt.figure(figsize=(8, 5))\n",
    "for cell_type in cell_types:\n",
    "    plt.plot(df[cell_type], marker='o', label=cell_type)\n",
    "plt.legend(loc='upper left', fontsize=12)\n",
    "plt.title('Proportions (z-scored) of cells over time by cell type', fontsize=14)"
   ]
  },
  {
   "cell_type": "code",
   "execution_count": null,
   "id": "8b1e1422",
   "metadata": {
    "ExecuteTime": {
     "end_time": "2022-10-03T19:47:11.011992Z",
     "start_time": "2022-10-03T19:47:11.000920Z"
    },
    "hidden": true
   },
   "outputs": [],
   "source": [
    "# X = np.linspace(0, df.shape[0]-1, df.shape[0]).reshape(-1, 1)\n",
    "X = df.index.values.reshape(-1, 1)\n",
    "X[:3]"
   ]
  },
  {
   "cell_type": "code",
   "execution_count": null,
   "id": "42383cee",
   "metadata": {
    "ExecuteTime": {
     "end_time": "2022-10-03T19:47:11.541144Z",
     "start_time": "2022-10-03T19:47:11.524122Z"
    },
    "hidden": true
   },
   "outputs": [],
   "source": [
    "Y = df[cell_types].values\n",
    "Y"
   ]
  },
  {
   "cell_type": "code",
   "execution_count": null,
   "id": "eb3ae500",
   "metadata": {
    "ExecuteTime": {
     "end_time": "2022-10-03T19:47:12.163978Z",
     "start_time": "2022-10-03T19:47:12.151003Z"
    },
    "hidden": true
   },
   "outputs": [],
   "source": [
    "# Sweep out timepoints between 0 and 24 to predict on\n",
    "X_test = np.linspace(start=0, stop=df.index[-1], num=100).reshape(-1, 1)\n",
    "\n",
    "# Placeholder Y_test just for the SGPRN API\n",
    "Y_test = np.zeros((X_test.shape[0], Y.shape[1]))\n",
    "\n",
    "# For plotting uncentered points\n",
    "Y_uncentered = Y * cell_type_std_devs.values + cell_type_means.values"
   ]
  },
  {
   "cell_type": "markdown",
   "id": "6bb64732",
   "metadata": {
    "hidden": true
   },
   "source": [
    "Add priors for $f_i$'s based on mean of independent GP fits"
   ]
  },
  {
   "cell_type": "code",
   "execution_count": null,
   "id": "0261f90b",
   "metadata": {
    "ExecuteTime": {
     "end_time": "2022-10-03T19:48:32.491954Z",
     "start_time": "2022-10-03T19:48:31.878969Z"
    },
    "hidden": true
   },
   "outputs": [],
   "source": [
    "f_priors = []\n",
    "cell_type_color = [('MEC1 cells', 'tab:blue'), \n",
    "                   ('Other CD8+ T cells', 'tab:orange'), \n",
    "                   ('Activated T cells', 'tab:green'),\n",
    "                   ('Exhausted T cells', 'tab:red')]\n",
    "plt.figure(figsize=(18, 4))\n",
    "for i, y_i in enumerate(Y.T):\n",
    "    rbf = RBF(length_scale=5, length_scale_bounds=(5, 5))\n",
    "    gpr = GaussianProcessRegressor(kernel=rbf, alpha=0.05, random_state=0)\n",
    "    gpr.fit(X, y_i)\n",
    "    y_pred = gpr.predict(X_test)\n",
    "    f_priors.append(gpr.predict(X))\n",
    "    y_pred_uncentered = y_pred * cell_type_std_devs.values[i] + cell_type_means.values[i]\n",
    "    plt.subplot(1, 4, i+1)\n",
    "    plt.plot(X_test, y_pred_uncentered, c=cell_type_color[i][1])\n",
    "    plt.scatter(X, Y_uncentered.T[i], c=cell_type_color[i][1])\n",
    "    plt.title('$f_%s$ latent (%s)' % (i+1, cell_type_color[i][0]), fontsize=14)\n",
    "    plt.xlabel('Hours post co-culture', fontsize=12)\n",
    "    if i==0: plt.ylabel('Proportion', fontsize=12)\n",
    "plt.suptitle('Independent GP fits to set $f_i$ latent functions', fontsize=15, y=1.05)\n",
    "f_priors = np.array(f_priors)\n",
    "\n",
    "plt.savefig('figures/fig_2_indep_gp_fits_for_f.eps')"
   ]
  },
  {
   "cell_type": "markdown",
   "id": "b87e656d",
   "metadata": {
    "hidden": true
   },
   "source": [
    "Add regularization for $W$"
   ]
  },
  {
   "cell_type": "code",
   "execution_count": null,
   "id": "9aa18e83",
   "metadata": {
    "ExecuteTime": {
     "end_time": "2022-10-03T19:48:49.699108Z",
     "start_time": "2022-10-03T19:48:49.438365Z"
    },
    "hidden": true
   },
   "outputs": [],
   "source": [
    "W_reg_lambdas = np.ones((4, 4)) * 0.1\n",
    "np.fill_diagonal(W_reg_lambdas, 10)\n",
    "\n",
    "plt.figure(figsize=(5, 4))\n",
    "ax = sns.heatmap(W_reg_lambdas, cmap=\"Reds\", annot=True)\n",
    "ax.set_yticklabels(cell_types, fontsize=12)\n",
    "ax.set_xticklabels(cell_types, fontsize=12)\n",
    "plt.yticks(rotation=0)\n",
    "plt.xticks(rotation=45)\n",
    "plt.title('$W$ regularization penalties', fontsize=14)\n",
    "plt.savefig('figures/fig_2_W_reg_penalties.eps', bbox_inches = \"tight\")"
   ]
  },
  {
   "cell_type": "code",
   "execution_count": null,
   "id": "4aa7f405",
   "metadata": {
    "ExecuteTime": {
     "end_time": "2022-10-03T19:48:51.606009Z",
     "start_time": "2022-10-03T19:48:51.576984Z"
    },
    "hidden": true
   },
   "outputs": [],
   "source": [
    "priors = {\n",
    "    # f priors based on independent GP fits\n",
    "    'F': f_priors.T.reshape(10, 4, 1),\n",
    "#     'W': W_prior_mean,\n",
    "#     'W_prior_min': W_prior_min,\n",
    "#     'W_prior_max': W_prior_max,\n",
    "    # default GPRN W prior\n",
    "    'W': tf.Variable(0.001*tf.random.truncated_normal([10, 4, 4], mean=0, stddev=1.0), \n",
    "                     dtype=tf.float32),\n",
    "    'W_reg_lambdas': W_reg_lambdas\n",
    "}"
   ]
  },
  {
   "cell_type": "code",
   "execution_count": null,
   "id": "3ebfe5b7",
   "metadata": {
    "ExecuteTime": {
     "end_time": "2022-10-03T19:48:53.779223Z",
     "start_time": "2022-10-03T19:48:53.763823Z"
    },
    "hidden": true
   },
   "outputs": [],
   "source": [
    "data = {\n",
    "    'N_all': X.shape[0],\n",
    "    'N_train': X.shape[0],\n",
    "    'N_test': X.shape[0],\n",
    "    'X_all': X,\n",
    "    'Y_all': Y,\n",
    "    'X_train': X,\n",
    "    'X_test': X_test,\n",
    "    'Y_train': Y,\n",
    "    'Y_test': Y_test,\n",
    "    'Y_mean': 0,\n",
    "    'Y_std': 1,\n",
    "    'Y_test_ground': Y,\n",
    "    'DList': [4, 1, 1],\n",
    "    'dname': 'None'\n",
    "}\n",
    "\n",
    "kernel = 'rbf'\n",
    "f_kernel_bandwidth = 100\n",
    "f_sigma = 0\n",
    "W_kernel_bandwidth = 100\n",
    "rank = 4\n",
    "maxIter = 500\n",
    "interval = 100\n",
    "\n",
    "cfg = {\n",
    "    'data': data,\n",
    "    'jitter': 1e-3,\n",
    "    'init_std': 1e-3,\n",
    "    'epochs': maxIter,\n",
    "    'interval':interval,\n",
    "    'alpha':1e-2,\n",
    "    'ns': 100,\n",
    "    'Q': rank,\n",
    "    'kernel': kernel,\n",
    "    'f_kernel_bandwidth': f_kernel_bandwidth,\n",
    "    'f_sigma': f_sigma,\n",
    "    'W_kernel_bandwidth': W_kernel_bandwidth\n",
    "}"
   ]
  },
  {
   "cell_type": "code",
   "execution_count": null,
   "id": "fb63cf02",
   "metadata": {
    "ExecuteTime": {
     "end_time": "2022-10-03T19:48:59.161677Z",
     "start_time": "2022-10-03T19:48:54.093002Z"
    },
    "hidden": true,
    "scrolled": true
   },
   "outputs": [],
   "source": [
    "model = SGPRN(cfg, init_type=priors)\n",
    "res = model.fit()"
   ]
  },
  {
   "cell_type": "code",
   "execution_count": null,
   "id": "251fac81",
   "metadata": {
    "ExecuteTime": {
     "end_time": "2022-10-03T19:48:59.326088Z",
     "start_time": "2022-10-03T19:48:59.163200Z"
    },
    "hidden": true
   },
   "outputs": [],
   "source": [
    "plt.figure(figsize=(18, 5))\n",
    "\n",
    "plt.subplot(1, 2, 1)\n",
    "plt.plot(res['nelbos'][1:])\n",
    "plt.xlabel('Epochs')\n",
    "plt.ylabel('nelbos loss', fontsize=14)\n",
    "\n",
    "plt.subplot(1, 2, 2)\n",
    "plt.plot(res['nrmse'][1:])\n",
    "plt.xlabel('Epochs')\n",
    "plt.ylabel('nrmse', fontsize=14)\n",
    "\n",
    "plt.suptitle('GPRN training loss', fontsize=14)"
   ]
  },
  {
   "cell_type": "markdown",
   "id": "0804c19c",
   "metadata": {
    "hidden": true
   },
   "source": [
    "Compare GPRN latent functions $f_i$'s vs $f_i$ priors"
   ]
  },
  {
   "cell_type": "code",
   "execution_count": null,
   "id": "2c993b08",
   "metadata": {
    "ExecuteTime": {
     "end_time": "2022-10-03T19:49:10.721308Z",
     "start_time": "2022-10-03T19:49:10.255283Z"
    },
    "hidden": true
   },
   "outputs": [],
   "source": [
    "int_slider = widgets.IntSlider(\n",
    "    value=0, \n",
    "    min=0, max=res['W_mu'].shape[0]-1, step=1,\n",
    "    description='epoch'\n",
    ")\n",
    "\n",
    "def update(var):\n",
    "    f_pred = res['f_mu'][var]\n",
    "    plt.figure(figsize=(18, 4))\n",
    "    plt.suptitle('GPRN latent functions $f_i$\\'s vs $f_i$ priors', fontsize=15, y=1.05)\n",
    "    for i, f_i in enumerate(f_priors):\n",
    "        plt.subplot(1, 4, i+1)\n",
    "        plt.plot(X.flatten(), f_i, c='tab:blue', label='Prior')\n",
    "        plt.plot(X_test.flatten(), f_pred[:, i].flatten(), c='tab:red', label='GPRN posterior')\n",
    "        plt.title(f'$f_{i+1}$ ({cell_types[i]})', fontsize=14)\n",
    "        plt.legend(loc='lower right', fontsize=12)\n",
    "\n",
    "interact(update, var=int_slider)"
   ]
  },
  {
   "cell_type": "markdown",
   "id": "69ab8131",
   "metadata": {
    "hidden": true
   },
   "source": [
    "Compare GPRN predictions $y$ vs actual"
   ]
  },
  {
   "cell_type": "code",
   "execution_count": null,
   "id": "7b0479b6",
   "metadata": {
    "ExecuteTime": {
     "end_time": "2022-10-03T19:50:00.530160Z",
     "start_time": "2022-10-03T19:50:00.263640Z"
    },
    "hidden": true
   },
   "outputs": [],
   "source": [
    "int_slider = widgets.IntSlider(\n",
    "    value=0, \n",
    "    min=0, max=res['W_mu'].shape[0]-1, step=1,\n",
    "    description='epoch'\n",
    ")\n",
    "\n",
    "def update(var):\n",
    "    y_preds = res['Y_pred'][var]\n",
    "    plt.figure(figsize=(18, 4))\n",
    "    for i, y_i in enumerate(Y.T):\n",
    "        plt.subplot(1, 4, i+1)\n",
    "        plt.scatter(X.flatten(), Y_uncentered.T[i], s=15)\n",
    "        y_i_preds = y_preds[:, i]\n",
    "        y_i_preds_uncentered = y_i_preds  * cell_type_std_devs[i] + cell_type_means[i]\n",
    "        plt.plot(X_test.flatten(), y_i_preds_uncentered, c='tab:red')\n",
    "        plt.title(f'{df.columns[i]}', fontsize=14)\n",
    "        if i==0: plt.ylabel('Proportion', fontsize=12)\n",
    "        plt.ylim([0, 1])\n",
    "    plt.suptitle('GPRN predictions vs actual', fontsize=15, y=1.05)\n",
    "\n",
    "interact(update, var=int_slider)"
   ]
  },
  {
   "cell_type": "code",
   "execution_count": null,
   "id": "1163b2b6",
   "metadata": {
    "ExecuteTime": {
     "end_time": "2022-10-03T19:51:23.607612Z",
     "start_time": "2022-10-03T19:51:21.192668Z"
    },
    "hidden": true
   },
   "outputs": [],
   "source": [
    "y_samples, W_samples = model.eval_test_post()\n",
    "\n",
    "plt.figure(figsize=(18, 4))\n",
    "for i in range(y_samples.shape[2]):\n",
    "    plt.subplot(1, 4, i+1)\n",
    "    for sample in y_samples[:100, :, i]:\n",
    "        plt.scatter(X_test.flatten(), sample, c='tab:red', s=0.5)\n",
    "    y_samples_sd = np.std(y_samples[:, :, i], axis=0)\n",
    "    y_samples_plus_1_sd = y_samples[:, :, i].mean(axis=0) + y_samples_sd\n",
    "    y_samples_minus_1_sd = y_samples[:, :, i].mean(axis=0) - y_samples_sd\n",
    "    plt.plot(X_test.flatten(), y_samples_plus_1_sd, c='tab:blue', label='+1 SD')\n",
    "    plt.plot(X_test.flatten(), y_samples_minus_1_sd, c='tab:green', label='-1 SD')\n",
    "    plt.title(f'{df.columns[i]}', fontsize=14)\n",
    "    if i==0: plt.ylabel('Proportion', fontsize=12)\n",
    "    plt.legend(loc='upper left', fontsize=10)\n",
    "plt.suptitle('GPRN posterior samples', fontsize=15, y=1.05)"
   ]
  },
  {
   "cell_type": "code",
   "execution_count": null,
   "id": "385c49f1",
   "metadata": {
    "ExecuteTime": {
     "end_time": "2022-10-03T19:54:24.640863Z",
     "start_time": "2022-10-03T19:54:24.239420Z"
    },
    "hidden": true
   },
   "outputs": [],
   "source": [
    "from mimic_alpha.mimic_alpha import colorAlpha_to_rgb\n",
    "import matplotlib.colors as colors\n",
    "\n",
    "epoch_index = res['W_mu'].shape[0]-1\n",
    "y_preds = res['Y_pred'][epoch_index]\n",
    "\n",
    "cell_type_color = [('MEC1 cells', 'tab:blue'), \n",
    "                   ('Other CD8+ T cells', 'tab:orange'), \n",
    "                   ('Activated T cells', 'tab:green'),\n",
    "                   ('Exhausted T cells', 'tab:red')]\n",
    "\n",
    "fig, axes = plt.subplots(1, 4, figsize=(18, 4))\n",
    "for i, y_i in enumerate(Y.T):\n",
    "    ax = axes[i]\n",
    "    ax.scatter(X, Y_uncentered.T[i], c=cell_type_color[i][1], s=15)\n",
    "    y_i_preds = y_preds[:, i]\n",
    "    y_i_preds_uncentered = y_i_preds * cell_type_std_devs[i] + cell_type_means[i]\n",
    "    y_i_preds_uncentered = np.clip(y_i_preds_uncentered, 0, 1)\n",
    "    line = ax.plot(X_test.flatten(), y_i_preds_uncentered, c=cell_type_color[i][1])\n",
    "    y_samples_sd = np.std(y_samples[:, :, i], axis=0)\n",
    "    y_samples_plus_1_sd = y_samples[:, :, i].mean(axis=0) + y_samples_sd\n",
    "    y_samples_minus_1_sd = y_samples[:, :, i].mean(axis=0) - y_samples_sd\n",
    "    # Uncenter conf ints\n",
    "    y_samples_plus_1_sd = y_samples_plus_1_sd * cell_type_std_devs[i] + cell_type_means[i]\n",
    "    y_samples_minus_1_sd = y_samples_minus_1_sd * cell_type_std_devs[i] + cell_type_means[i]\n",
    "    # Clip conf ints b/w 0 to 1\n",
    "    y_samples_plus_1_sd = np.clip(y_samples_plus_1_sd, 0, 1)\n",
    "    y_samples_minus_1_sd = np.clip(y_samples_minus_1_sd, 0, 1)\n",
    "    color_with_alpha = list(colors.to_rgb(cell_type_color[i][1])) + [0.2]\n",
    "    color_without_alpha = colorAlpha_to_rgb([color_with_alpha], 0.2)\n",
    "    ax.fill_between(X_test.flatten(), y_samples_minus_1_sd, y_samples_plus_1_sd, \n",
    "                     color=color_without_alpha)\n",
    "    ax.set_title(f'{cell_type_color[i][0]} proportion', fontsize=14)\n",
    "    ax.set_xlabel('Hours post co-culture', fontsize=12)\n",
    "    if i==0: ax.set_ylabel('Proportion', fontsize=12)\n",
    "plt.suptitle('GPRN predictions', fontsize=15, y=1.05)\n",
    "\n",
    "plt.savefig('figures/fig_2_gprn_predictions.eps')"
   ]
  },
  {
   "cell_type": "code",
   "execution_count": null,
   "id": "7a799c3b",
   "metadata": {
    "ExecuteTime": {
     "end_time": "2022-10-03T19:55:35.258011Z",
     "start_time": "2022-10-03T19:55:34.960644Z"
    },
    "hidden": true
   },
   "outputs": [],
   "source": [
    "epoch_index = res['W_mu'].shape[0]-1\n",
    "W = res['W_mu'][epoch_index]\n",
    "W_avg_over_time = np.mean(W, axis=0)\n",
    "\n",
    "plt.figure(figsize=(5, 4))\n",
    "ax = sns.heatmap(W_avg_over_time, cmap=\"RdBu_r\", annot=True, \n",
    "                 vmin=-1, vmax=1)\n",
    "ax.set_yticklabels(cell_types, fontsize=12)\n",
    "ax.set_xticklabels(cell_types, fontsize=12)\n",
    "plt.yticks(rotation=0)\n",
    "plt.xticks(rotation=45)\n",
    "plt.title('$\\hat{W}_{avg}$', fontsize=14)\n",
    "\n",
    "plt.savefig('figures/fig_2_W_avg.eps', bbox_inches='tight')"
   ]
  },
  {
   "cell_type": "code",
   "execution_count": null,
   "id": "b112f2ed",
   "metadata": {
    "ExecuteTime": {
     "end_time": "2022-10-03T19:55:37.151817Z",
     "start_time": "2022-10-03T19:55:36.955600Z"
    },
    "hidden": true
   },
   "outputs": [],
   "source": [
    "int_slider = widgets.IntSlider(\n",
    "    value=0, \n",
    "    min=0, max=res['W_mu'].shape[0]-1, step=1,\n",
    "    description='epoch'\n",
    ")\n",
    "\n",
    "def update(var):\n",
    "    W = res['W_mu'][var]\n",
    "    heatmap_vmin = res['W_mu'].min()\n",
    "    heatmap_vmax = res['W_mu'].max()\n",
    "    W_avg_over_time = np.mean(W, axis=0)\n",
    "    plt.figure(figsize=(5, 4))\n",
    "    ax = sns.heatmap(W_avg_over_time, cmap=\"RdBu_r\", annot=True, \n",
    "                     vmin=-1, vmax=1)\n",
    "#                      vmin=heatmap_vmin, vmax=heatmap_vmax)\n",
    "    ax.set_yticklabels(cell_types, fontsize=12)\n",
    "    ax.set_xticklabels(cell_types, fontsize=12)\n",
    "    plt.yticks(rotation=0)\n",
    "    plt.xticks(rotation=45)\n",
    "    plt.title('$\\hat{W}_{avg}$' + f' at epoch {var}', fontsize=15)\n",
    "\n",
    "interact(update, var=int_slider)"
   ]
  },
  {
   "cell_type": "markdown",
   "id": "a57b4b05",
   "metadata": {
    "ExecuteTime": {
     "end_time": "2021-12-10T17:27:06.830276Z",
     "start_time": "2021-12-10T17:27:06.802286Z"
    },
    "hidden": true
   },
   "source": [
    "Interpretation: $W_{i, j}$ is the effect of the $j^{th}$ latent function on the $i^{th }$ cell type."
   ]
  },
  {
   "cell_type": "code",
   "execution_count": null,
   "id": "7229c5e8",
   "metadata": {
    "ExecuteTime": {
     "end_time": "2022-10-03T19:57:25.228814Z",
     "start_time": "2022-10-03T19:57:24.884789Z"
    },
    "hidden": true
   },
   "outputs": [],
   "source": [
    "epoch_index = res['W_mu'].shape[0]-1\n",
    "W = res['W_mu'][epoch_index]\n",
    "heatmap_vmin = W.min()\n",
    "heatmap_vmax = W.max()\n",
    "\n",
    "int_slider = widgets.IntSlider(\n",
    "    value=0, \n",
    "    min=0, max=99, step=1,\n",
    "    description='time'\n",
    ")\n",
    "\n",
    "def update(var):\n",
    "    W_at_time = W[var]\n",
    "    plt.figure(figsize=(12, 4))\n",
    "    plt.subplot(1, 2, 1)\n",
    "    ax = sns.heatmap(W_at_time, cmap=\"RdBu_r\", annot=True, \n",
    "                     vmin=-1, vmax=1)\n",
    "#                      vmin=heatmap_vmin, vmax=heatmap_vmax)\n",
    "    ax.set_yticklabels(cell_types, fontsize=12)\n",
    "    ax.set_xticklabels(cell_types, fontsize=12)\n",
    "    plt.yticks(rotation=0)\n",
    "    plt.xticks(rotation=45)\n",
    "    plt.title('$\\hat{W}$', fontsize=14)\n",
    "    plt.subplot(1, 2, 2)\n",
    "    y_preds = res['Y_pred'][epoch_index]\n",
    "    for i, cell_type in enumerate(cell_types):\n",
    "        plt.scatter(X.flatten(), df[cell_type] * cell_type_std_devs[i] + cell_type_means[i], \n",
    "                    label=cell_type, s=15)\n",
    "        plt.plot(X_test.flatten(), y_preds[:, i] * cell_type_std_devs[i] + cell_type_means[i])\n",
    "    plt.axvline(X_test.flatten()[var], c='tab:red', linestyle='--')\n",
    "    plt.legend(loc='upper left', fontsize=11)\n",
    "    plt.xticks(rotation=45)\n",
    "    plt.title('Proportion of cells over time by cell type', fontsize=13)\n",
    "\n",
    "interact(update, var=int_slider)"
   ]
  },
  {
   "cell_type": "code",
   "execution_count": null,
   "id": "fd416ef6",
   "metadata": {
    "ExecuteTime": {
     "end_time": "2022-10-03T19:58:59.123524Z",
     "start_time": "2022-10-03T19:58:58.265444Z"
    },
    "hidden": true
   },
   "outputs": [],
   "source": [
    "plt.figure(figsize=(10, 6))\n",
    "linestyles = ['-', '--', '-.', ':']\n",
    "for i, cell_type_i in enumerate(cell_types):\n",
    "    for j, cell_type_j in enumerate(cell_types):\n",
    "        plt.plot(X_test.flatten(), W[:, i, j],\n",
    "                 linestyle=linestyles[i],\n",
    "                 label='$W_{%s,%s}$ (%s - %s interaction)' % (i, j, cell_type_i, cell_type_j))\n",
    "plt.legend(bbox_to_anchor=(1, 1), loc='upper left', fontsize=14)\n",
    "plt.title('Cell type interactions over time', fontsize=14)\n",
    "plt.ylabel('$W_{i, j}$', fontsize=14)\n",
    "plt.xlabel('Hours post co-culture', fontsize=14)\n",
    "\n",
    "plt.savefig('figures/fig_2_W_over_time.eps', bbox_inches='tight')"
   ]
  },
  {
   "cell_type": "code",
   "execution_count": null,
   "id": "0570c766",
   "metadata": {
    "ExecuteTime": {
     "end_time": "2022-10-03T19:26:01.235984Z",
     "start_time": "2022-10-03T19:25:58.810080Z"
    },
    "hidden": true
   },
   "outputs": [],
   "source": [
    "plt.figure(figsize=(18, 15))\n",
    "for i, cell_type_i in enumerate(cell_types):\n",
    "    for j, cell_type_j in enumerate(cell_types):\n",
    "        plt.subplot(4, 4, i*4 + j + 1)\n",
    "        line = plt.plot(X_test.flatten(), W[:, i, j])\n",
    "        W_i_j_samples = W_samples[:, :, i, j]\n",
    "        W_samples_75_percentile = np.percentile(W_i_j_samples, 95, axis=0)\n",
    "        W_samples_25_percentile = np.percentile(W_i_j_samples, 5, axis=0)\n",
    "        color_with_alpha = list(colors.to_rgb('tab:blue')) + [0.2]\n",
    "        color_without_alpha = colorAlpha_to_rgb([color_with_alpha], 0.2)\n",
    "        plt.fill_between(X_test.flatten(), W_samples_25_percentile, W_samples_75_percentile, \n",
    "                         color=color_without_alpha)\n",
    "        plt.ylabel('$W_{i, j}$', fontsize=14)\n",
    "        plt.xlabel('Hours post co-culture', fontsize=14)\n",
    "        plt.ylim([-1, 1])\n",
    "        plt.title('$W_{%s,%s}$ (%s - %s)' % (i, j, cell_type_i, cell_type_j),\n",
    "                  fontsize=14)\n",
    "plt.tight_layout()\n",
    "\n",
    "plt.savefig('figures/fig_S1_W_conf_int.eps', bbox_inches='tight')"
   ]
  },
  {
   "cell_type": "markdown",
   "id": "b5b07548",
   "metadata": {
    "heading_collapsed": true
   },
   "source": [
    "## All experiments combined"
   ]
  },
  {
   "cell_type": "code",
   "execution_count": null,
   "id": "dd356aca",
   "metadata": {
    "ExecuteTime": {
     "end_time": "2022-04-15T12:38:24.342157Z",
     "start_time": "2022-04-15T12:38:24.286839Z"
    },
    "hidden": true
   },
   "outputs": [],
   "source": [
    "df_a = pd.read_csv('data/CAR-T ratios and umap/CARA_ratios_processed.pkl', index_col='Hours post co-culture')\n",
    "df_b_14 = pd.read_csv('data/CAR-T ratios and umap/CARB_14_ratios_processed.pkl', index_col='Hours post co-culture')\n",
    "df_b_41 = pd.read_csv('data/CAR-T ratios and umap/CARB_41_ratios_processed.pkl', index_col='Hours post co-culture')\n",
    "df_c = pd.read_csv('data/CAR-T ratios and umap/CARC_ratios_processed.pkl', index_col='Hours post co-culture')\n",
    "df_d = pd.read_csv('data/CAR-T ratios and umap/CARD_ratios_processed.pkl', index_col='Hours post co-culture')\n",
    "df = pd.concat([df_a, df_b_14, df_b_41, df_c, df_d])\n",
    "df = df.sort_index()\n",
    "df"
   ]
  },
  {
   "cell_type": "code",
   "execution_count": null,
   "id": "e98040ec",
   "metadata": {
    "ExecuteTime": {
     "end_time": "2022-04-15T12:38:29.393629Z",
     "start_time": "2022-04-15T12:38:29.246001Z"
    },
    "hidden": true
   },
   "outputs": [],
   "source": [
    "plt.figure(figsize=(8, 5))\n",
    "cell_types = ['CLL', 'CD8+ T cells', 'Activated T cells', 'Exhausted T cells']\n",
    "for cell_type in cell_types:\n",
    "    plt.plot(df[cell_type] * df['total_cells_per_sample'], marker='o', linestyle='', label=cell_type)\n",
    "plt.legend(loc='upper left', fontsize=12)\n",
    "plt.title('Number of cells over time by cell type \\n (cell type proportion * total_cells_per_sample)', \n",
    "          fontsize=12)"
   ]
  },
  {
   "cell_type": "code",
   "execution_count": null,
   "id": "a4f3a068",
   "metadata": {
    "ExecuteTime": {
     "end_time": "2022-04-15T12:38:34.420201Z",
     "start_time": "2022-04-15T12:38:34.294695Z"
    },
    "hidden": true,
    "scrolled": false
   },
   "outputs": [],
   "source": [
    "plt.figure(figsize=(8, 5))\n",
    "for cell_type in cell_types:\n",
    "    plt.plot(df[cell_type], marker='o', linestyle='', label=cell_type)\n",
    "plt.legend(loc='upper right', fontsize=12)\n",
    "# plt.ylim([-0.5, 0.5])\n",
    "plt.title('Proportion of cells over time by cell type', fontsize=14)"
   ]
  },
  {
   "cell_type": "code",
   "execution_count": null,
   "id": "6ab60ff9",
   "metadata": {
    "ExecuteTime": {
     "end_time": "2022-04-15T12:42:51.478043Z",
     "start_time": "2022-04-15T12:42:51.218157Z"
    },
    "hidden": true
   },
   "outputs": [],
   "source": [
    "cell_type_color = [('CLL', 'tab:blue'), \n",
    "                   ('CD8+ T cells', 'tab:orange'), \n",
    "                   ('Activated T cells', 'tab:green'),\n",
    "                   ('Exhausted T cells', 'tab:red')]\n",
    "\n",
    "plt.figure(figsize=(18, 4))\n",
    "for i in range(len(cell_types)):\n",
    "    plt.subplot(1, 4, i+1)\n",
    "    plt.scatter(df.index, df[cell_types[i]], c=cell_type_color[i][1], s=15)\n",
    "    plt.title(f'{cell_type_color[i][0]}', fontsize=14)\n",
    "    if i==0: plt.ylabel('Proportion', fontsize=12)\n",
    "    plt.ylim([0, 1])\n",
    "plt.suptitle('Proportion of cells over time by cell type', fontsize=15, y=1.05)"
   ]
  },
  {
   "cell_type": "markdown",
   "id": "5464c207",
   "metadata": {
    "hidden": true
   },
   "source": [
    "Center cell type proportions"
   ]
  },
  {
   "cell_type": "code",
   "execution_count": null,
   "id": "a6197e36",
   "metadata": {
    "ExecuteTime": {
     "end_time": "2022-04-15T12:46:21.167937Z",
     "start_time": "2022-04-15T12:46:21.135540Z"
    },
    "collapsed": true,
    "hidden": true
   },
   "outputs": [],
   "source": [
    "cell_type_means = df[cell_types].mean()\n",
    "df[cell_types] -= cell_type_means\n",
    "df"
   ]
  },
  {
   "cell_type": "code",
   "execution_count": null,
   "id": "cb57c648",
   "metadata": {
    "ExecuteTime": {
     "end_time": "2022-04-15T12:46:32.244955Z",
     "start_time": "2022-04-15T12:46:32.103461Z"
    },
    "hidden": true,
    "scrolled": false
   },
   "outputs": [],
   "source": [
    "plt.figure(figsize=(8, 5))\n",
    "for cell_type in cell_types:\n",
    "    plt.plot(df[cell_type], marker='o', linestyle='', label=cell_type)\n",
    "plt.legend(loc='upper left', fontsize=12)\n",
    "plt.title('Proportion (zero-centered) of cells over time by cell type', fontsize=14)"
   ]
  },
  {
   "cell_type": "code",
   "execution_count": null,
   "id": "8ba10200",
   "metadata": {
    "ExecuteTime": {
     "end_time": "2022-04-15T12:46:44.407702Z",
     "start_time": "2022-04-15T12:46:44.134448Z"
    },
    "hidden": true
   },
   "outputs": [],
   "source": [
    "cell_type_color = [('CLL', 'tab:blue'), \n",
    "                   ('CD8+ T cells', 'tab:orange'), \n",
    "                   ('Activated T cells', 'tab:green'),\n",
    "                   ('Exhausted T cells', 'tab:red')]\n",
    "\n",
    "plt.figure(figsize=(18, 4))\n",
    "for i in range(len(cell_types)):\n",
    "    plt.subplot(1, 4, i+1)\n",
    "    plt.scatter(df.index, df[cell_types[i]], c=cell_type_color[i][1], s=15)\n",
    "    plt.title(f'{cell_type_color[i][0]}', fontsize=14)\n",
    "    if i==0: plt.ylabel('Proportion', fontsize=12)\n",
    "plt.suptitle('Proportion of cells over time by cell type', fontsize=15, y=1.05)"
   ]
  },
  {
   "cell_type": "code",
   "execution_count": null,
   "id": "261d3d46",
   "metadata": {
    "ExecuteTime": {
     "end_time": "2022-04-15T12:46:49.167862Z",
     "start_time": "2022-04-15T12:46:49.151798Z"
    },
    "hidden": true
   },
   "outputs": [],
   "source": [
    "# X = np.linspace(0, df.shape[0]-1, df.shape[0]).reshape(-1, 1)\n",
    "X = df.index.values.reshape(-1, 1)\n",
    "X[:3]"
   ]
  },
  {
   "cell_type": "code",
   "execution_count": null,
   "id": "23034b3c",
   "metadata": {
    "ExecuteTime": {
     "end_time": "2022-04-15T12:46:49.956525Z",
     "start_time": "2022-04-15T12:46:49.941173Z"
    },
    "hidden": true
   },
   "outputs": [],
   "source": [
    "Y = df[cell_types].values\n",
    "Y"
   ]
  },
  {
   "cell_type": "code",
   "execution_count": null,
   "id": "fc0ad335",
   "metadata": {
    "ExecuteTime": {
     "end_time": "2022-04-15T12:46:51.887532Z",
     "start_time": "2022-04-15T12:46:51.874903Z"
    },
    "hidden": true
   },
   "outputs": [],
   "source": [
    "# Sweep out timepoints between 0 and 24 to predict on\n",
    "X_test = np.linspace(start=0, stop=df.index[-1], num=100).reshape(-1, 1)\n",
    "\n",
    "# Placeholder Y_test just for the SGPRN API\n",
    "Y_test = np.zeros((X_test.shape[0], Y.shape[1]))\n",
    "\n",
    "# For plotting uncentered points\n",
    "Y_uncentered = Y + cell_type_means.values"
   ]
  },
  {
   "cell_type": "markdown",
   "id": "686966e8",
   "metadata": {
    "hidden": true
   },
   "source": [
    "Add priors for $f_i$'s based on mean of independent GP fits"
   ]
  },
  {
   "cell_type": "code",
   "execution_count": null,
   "id": "e67aad23",
   "metadata": {
    "ExecuteTime": {
     "end_time": "2022-04-15T12:46:54.053762Z",
     "start_time": "2022-04-15T12:46:53.682524Z"
    },
    "hidden": true
   },
   "outputs": [],
   "source": [
    "f_priors = []\n",
    "cell_type_color = [('CLL', 'tab:blue'), \n",
    "                   ('CD8+ T cells', 'tab:orange'), \n",
    "                   ('Activated T cells', 'tab:green'),\n",
    "                   ('Exhausted T cells', 'tab:red')]\n",
    "plt.figure(figsize=(18, 4))\n",
    "for i, y_i in enumerate(Y.T):\n",
    "    rbf = RBF(1)\n",
    "    gpr = GaussianProcessRegressor(kernel=rbf, alpha=0.05, random_state=0)\n",
    "    gpr.fit(X, y_i)\n",
    "    y_pred = gpr.predict(X_test)\n",
    "    f_priors.append(gpr.predict(X))\n",
    "    plt.subplot(1, 4, i+1)\n",
    "    plt.plot(X_test, y_pred + cell_type_means.values[i], c=cell_type_color[i][1])\n",
    "    plt.scatter(X, Y_uncentered.T[i], c=cell_type_color[i][1])\n",
    "    plt.title('$f_%s$ prior (%s)' % (i+1, cell_type_color[i][0]), fontsize=14)\n",
    "    if i==0: plt.ylabel('Proportion', fontsize=12)\n",
    "plt.suptitle('Independent GP fits to set $f_i$ priors', fontsize=15, y=1.05)\n",
    "f_priors = np.array(f_priors)"
   ]
  },
  {
   "cell_type": "markdown",
   "id": "8cfca76a",
   "metadata": {
    "hidden": true
   },
   "source": [
    "Add regularization for $W$"
   ]
  },
  {
   "cell_type": "code",
   "execution_count": null,
   "id": "c01e456f",
   "metadata": {
    "ExecuteTime": {
     "end_time": "2022-04-15T12:46:56.727852Z",
     "start_time": "2022-04-15T12:46:56.555555Z"
    },
    "hidden": true
   },
   "outputs": [],
   "source": [
    "W_reg_lambdas = np.array([[ 10, 0.1, 0.1, 0.1], \n",
    "                          [0.1,  10, 0.1, 0.1], \n",
    "                          [0.1, 0.1,  10, 0.1], \n",
    "                          [0.1, 0.1, 0.1, 10]])\n",
    "\n",
    "plt.figure(figsize=(5, 4))\n",
    "ax = sns.heatmap(W_reg_lambdas, cmap=\"Reds\", annot=True)\n",
    "ax.set_yticklabels(cell_types, fontsize=12)\n",
    "ax.set_xticklabels(cell_types, fontsize=12)\n",
    "plt.yticks(rotation=0)\n",
    "plt.xticks(rotation=45)\n",
    "plt.title('$W$ regularization penalty', fontsize=14)"
   ]
  },
  {
   "cell_type": "code",
   "execution_count": null,
   "id": "d9bf31ee",
   "metadata": {
    "ExecuteTime": {
     "end_time": "2022-04-15T12:46:58.666471Z",
     "start_time": "2022-04-15T12:46:58.601734Z"
    },
    "hidden": true
   },
   "outputs": [],
   "source": [
    "priors = {\n",
    "    # f priors based on independent GP fits\n",
    "    'F': f_priors.T.reshape(40, 4, 1),\n",
    "#     'W': W_prior_mean,\n",
    "#     'W_prior_min': W_prior_min,\n",
    "#     'W_prior_max': W_prior_max,\n",
    "    # default GPRN W prior\n",
    "    'W': tf.Variable(0.001*tf.random.truncated_normal([40, 4, 4], mean=0, stddev=1.0), \n",
    "                     dtype=tf.float32),\n",
    "    'W_reg_lambdas': W_reg_lambdas\n",
    "}"
   ]
  },
  {
   "cell_type": "code",
   "execution_count": null,
   "id": "49c9a9fc",
   "metadata": {
    "ExecuteTime": {
     "end_time": "2022-04-15T12:47:00.474960Z",
     "start_time": "2022-04-15T12:47:00.458759Z"
    },
    "hidden": true
   },
   "outputs": [],
   "source": [
    "data = {\n",
    "    'N_all': X.shape[0],\n",
    "    'N_train': X.shape[0],\n",
    "    'N_test': X.shape[0],\n",
    "    'X_all': X,\n",
    "    'Y_all': Y,\n",
    "    'X_train': X,\n",
    "    'X_test': X_test,\n",
    "    'Y_train': Y,\n",
    "    'Y_test': Y_test,\n",
    "    'Y_mean': 0,\n",
    "    'Y_std': 1,\n",
    "    'Y_test_ground': Y,\n",
    "    'DList': [4, 1, 1],\n",
    "    'dname': 'None'\n",
    "}\n",
    "\n",
    "kernel = 'rbf'\n",
    "f_kernel_bandwidth = 50\n",
    "f_sigma = 0\n",
    "W_kernel_bandwidth = 50\n",
    "rank = 4\n",
    "maxIter = 2500\n",
    "interval = 100\n",
    "\n",
    "cfg = {\n",
    "    'data': data,\n",
    "    'jitter': 1e-3,\n",
    "    'init_std': 1e-3,\n",
    "    'epochs': maxIter,\n",
    "    'interval':interval,\n",
    "    'alpha':1e-2,\n",
    "    'ns': 100,\n",
    "    'Q': rank,\n",
    "    'kernel': kernel,\n",
    "    'f_kernel_bandwidth': f_kernel_bandwidth,\n",
    "    'f_sigma': f_sigma,\n",
    "    'W_kernel_bandwidth': W_kernel_bandwidth\n",
    "}"
   ]
  },
  {
   "cell_type": "code",
   "execution_count": null,
   "id": "e234311a",
   "metadata": {
    "ExecuteTime": {
     "end_time": "2022-04-15T12:47:21.530090Z",
     "start_time": "2022-04-15T12:47:01.941771Z"
    },
    "hidden": true,
    "scrolled": true
   },
   "outputs": [],
   "source": [
    "model = SGPRN(cfg, init_type=priors)\n",
    "res = model.fit()"
   ]
  },
  {
   "cell_type": "code",
   "execution_count": null,
   "id": "8e592f87",
   "metadata": {
    "ExecuteTime": {
     "end_time": "2022-04-15T12:47:21.679967Z",
     "start_time": "2022-04-15T12:47:21.531178Z"
    },
    "hidden": true
   },
   "outputs": [],
   "source": [
    "plt.figure(figsize=(18, 5))\n",
    "\n",
    "plt.subplot(1, 2, 1)\n",
    "plt.plot(res['nelbos'][1:])\n",
    "plt.xlabel('Epochs')\n",
    "plt.ylabel('nelbos loss', fontsize=14)\n",
    "\n",
    "plt.subplot(1, 2, 2)\n",
    "plt.plot(res['nrmse'][1:])\n",
    "plt.xlabel('Epochs')\n",
    "plt.ylabel('nrmse', fontsize=14)\n",
    "\n",
    "plt.suptitle('GPRN training loss', fontsize=14)"
   ]
  },
  {
   "cell_type": "markdown",
   "id": "b3ab2e0b",
   "metadata": {
    "hidden": true
   },
   "source": [
    "Compare GPRN latent functions $f_i$'s vs $f_i$ priors"
   ]
  },
  {
   "cell_type": "code",
   "execution_count": null,
   "id": "20568a29",
   "metadata": {
    "ExecuteTime": {
     "end_time": "2022-04-15T13:01:51.608416Z",
     "start_time": "2022-04-15T13:01:51.179935Z"
    },
    "hidden": true
   },
   "outputs": [],
   "source": [
    "int_slider = widgets.IntSlider(\n",
    "    value=0, \n",
    "    min=0, max=res['W_mu'].shape[0]-1, step=1,\n",
    "    description='epoch'\n",
    ")\n",
    "\n",
    "def update(var):\n",
    "    f_pred = res['f_mu'][var]\n",
    "    plt.figure(figsize=(18, 4))\n",
    "    plt.suptitle('GPRN latent functions $f_i$\\'s vs $f_i$ priors', fontsize=15, y=1.05)\n",
    "    for i, f_i in enumerate(f_priors):\n",
    "        plt.subplot(1, 4, i+1)\n",
    "        plt.plot(X.flatten(), f_i, c='tab:blue', label='Prior')\n",
    "        plt.plot(X_test.flatten(), f_pred[:, i].flatten(), c='tab:red', label='GPRN posterior')\n",
    "        plt.title(f'$f_{i+1}$ ({cell_types[i]})', fontsize=14)\n",
    "        plt.legend(loc='lower right', fontsize=12)\n",
    "\n",
    "interact(update, var=int_slider)"
   ]
  },
  {
   "cell_type": "markdown",
   "id": "19e59bb9",
   "metadata": {
    "hidden": true
   },
   "source": [
    "Compare GPRN predictions $y$ vs actual"
   ]
  },
  {
   "cell_type": "code",
   "execution_count": null,
   "id": "cf426c33",
   "metadata": {
    "ExecuteTime": {
     "end_time": "2022-04-15T13:01:54.326605Z",
     "start_time": "2022-04-15T13:01:54.021457Z"
    },
    "hidden": true
   },
   "outputs": [],
   "source": [
    "int_slider = widgets.IntSlider(\n",
    "    value=0, \n",
    "    min=0, max=res['W_mu'].shape[0]-1, step=1,\n",
    "    description='epoch'\n",
    ")\n",
    "\n",
    "def update(var):\n",
    "    y_preds = res['Y_pred'][var]\n",
    "    plt.figure(figsize=(18, 4))\n",
    "    for i, y_i in enumerate(Y.T):\n",
    "        plt.subplot(1, 4, i+1)\n",
    "        plt.scatter(X.flatten(), Y_uncentered.T[i], s=15)\n",
    "        y_i_preds = y_preds[:, i]\n",
    "        y_i_preds_uncentered = y_i_preds + cell_type_means[i]\n",
    "        plt.plot(X_test.flatten(), y_i_preds_uncentered, c='tab:red')\n",
    "        plt.title(f'{df.columns[i]}', fontsize=14)\n",
    "        if i==0: plt.ylabel('Proportion', fontsize=12)\n",
    "        plt.ylim([0, 1])\n",
    "    plt.suptitle('GPRN predictions vs actual', fontsize=15, y=1.05)\n",
    "\n",
    "interact(update, var=int_slider)"
   ]
  },
  {
   "cell_type": "code",
   "execution_count": null,
   "id": "865d2540",
   "metadata": {
    "ExecuteTime": {
     "end_time": "2022-04-15T13:02:05.244461Z",
     "start_time": "2022-04-15T13:02:02.901651Z"
    },
    "hidden": true
   },
   "outputs": [],
   "source": [
    "y_samples, W_samples = model.eval_test_post()\n",
    "\n",
    "plt.figure(figsize=(18, 4))\n",
    "for i in range(y_samples.shape[2]):\n",
    "    plt.subplot(1, 4, i+1)\n",
    "    for sample in y_samples[:100, :, i]:\n",
    "        plt.scatter(X_test.flatten(), sample, c='tab:red', s=0.5)\n",
    "    y_samples_95_percentile = np.percentile(y_samples[:, :, i], 90, axis=0)\n",
    "    y_samples_5_percentile = np.percentile(y_samples[:, :, i], 10, axis=0)\n",
    "    plt.plot(X_test.flatten(), y_samples_95_percentile, c='tab:blue', label='90th percentile')\n",
    "    plt.plot(X_test.flatten(), y_samples_5_percentile, c='tab:green', label='10th percentile')\n",
    "    plt.title(f'{df.columns[i]}', fontsize=14)\n",
    "    if i==0: plt.ylabel('Proportion', fontsize=12)\n",
    "    plt.legend(loc='upper left', fontsize=10)\n",
    "#     plt.ylim([-0.5, 0.5])\n",
    "plt.suptitle('GPRN posterior samples', fontsize=15, y=1.05)"
   ]
  },
  {
   "cell_type": "code",
   "execution_count": null,
   "id": "4547b6fa",
   "metadata": {
    "ExecuteTime": {
     "end_time": "2022-04-15T13:02:06.817121Z",
     "start_time": "2022-04-15T13:02:06.521903Z"
    },
    "hidden": true
   },
   "outputs": [],
   "source": [
    "epoch_index = 25\n",
    "y_preds = res['Y_pred'][epoch_index]\n",
    "\n",
    "cell_type_color = [('CLL', 'tab:blue'), \n",
    "                   ('CD8+ T cells', 'tab:orange'), \n",
    "                   ('Activated T cells', 'tab:green'),\n",
    "                   ('Exhausted T cells', 'tab:red')]\n",
    "\n",
    "plt.figure(figsize=(18, 4))\n",
    "for i, y_i in enumerate(Y.T):\n",
    "    plt.subplot(1, 4, i+1)\n",
    "    plt.scatter(X, Y_uncentered.T[i], c=cell_type_color[i][1], s=15)\n",
    "    y_i_preds = y_preds[:, i]\n",
    "    y_i_preds_uncentered = y_i_preds + cell_type_means[i]\n",
    "    plt.plot(X_test.flatten(), y_i_preds_uncentered, c=cell_type_color[i][1])\n",
    "    y_samples_75_percentile = np.percentile(y_samples[:, :, i], 75, axis=0)\n",
    "    y_samples_75_percentile_uncentered = y_samples_75_percentile + cell_type_means[i]\n",
    "    y_samples_25_percentile = np.percentile(y_samples[:, :, i], 25, axis=0)\n",
    "    y_samples_25_percentile_uncentered = y_samples_25_percentile + cell_type_means[i]\n",
    "    plt.fill_between(X_test.flatten(), y_samples_25_percentile_uncentered, \n",
    "                     y_samples_75_percentile_uncentered, \n",
    "                     color=cell_type_color[i][1], alpha=0.2)\n",
    "    plt.title(f'{cell_type_color[i][0]} proportion', fontsize=14)\n",
    "    if i==0: plt.ylabel('Proportion', fontsize=12)\n",
    "    plt.ylim([-0.5, 1.1])\n",
    "plt.suptitle('GPRN predictions vs actual', fontsize=15, y=1.05)"
   ]
  },
  {
   "cell_type": "code",
   "execution_count": null,
   "id": "8cd9f354",
   "metadata": {
    "ExecuteTime": {
     "end_time": "2022-04-15T13:02:17.527741Z",
     "start_time": "2022-04-15T13:02:17.357125Z"
    },
    "hidden": true
   },
   "outputs": [],
   "source": [
    "epoch_index = 25\n",
    "y_preds = res['Y_pred'][epoch_index]\n",
    "\n",
    "plt.figure(figsize=(9, 6))\n",
    "for i, cell_type in enumerate(cell_types):\n",
    "    plt.scatter(X.flatten(), Y_uncentered.T[i], label=cell_type, s=15)\n",
    "    y_i_preds = y_preds[:, i]\n",
    "    y_i_preds_uncentered = y_i_preds + cell_type_means[i]\n",
    "    plt.plot(X_test.flatten(), y_i_preds_uncentered)\n",
    "    y_samples_75_percentile = np.percentile(y_samples[:, :, i], 75, axis=0)\n",
    "    y_samples_75_percentile_uncentered = y_samples_75_percentile + cell_type_means[i]\n",
    "    y_samples_25_percentile = np.percentile(y_samples[:, :, i], 25, axis=0)\n",
    "    y_samples_25_percentile_uncentered = y_samples_25_percentile + cell_type_means[i]\n",
    "    plt.fill_between(X_test.flatten(), y_samples_25_percentile_uncentered, \n",
    "                     y_samples_75_percentile_uncentered, \n",
    "                     color=cell_type_color[i][1], alpha=0.2)\n",
    "plt.legend(loc='upper left', fontsize=12)\n",
    "plt.xticks(rotation=45)\n",
    "plt.ylim([-1, 1.5])\n",
    "plt.title('Proportion of cells over time by cell type', fontsize=14)"
   ]
  },
  {
   "cell_type": "code",
   "execution_count": null,
   "id": "1a412f52",
   "metadata": {
    "ExecuteTime": {
     "end_time": "2022-04-15T13:02:23.823093Z",
     "start_time": "2022-04-15T13:02:23.628679Z"
    },
    "hidden": true
   },
   "outputs": [],
   "source": [
    "epoch_index = 25\n",
    "W = res['W_mu'][epoch_index]\n",
    "W_avg_over_time = np.mean(W, axis=0)\n",
    "\n",
    "plt.figure(figsize=(5, 4))\n",
    "ax = sns.heatmap(W_avg_over_time, cmap=\"RdBu_r\", annot=True, \n",
    "                 vmin=-1, vmax=1)\n",
    "ax.set_yticklabels(cell_types, fontsize=12)\n",
    "ax.set_xticklabels(cell_types, fontsize=12)\n",
    "plt.yticks(rotation=0)\n",
    "plt.xticks(rotation=45)\n",
    "plt.title('$\\hat{W}_{avg}$', fontsize=14)"
   ]
  },
  {
   "cell_type": "code",
   "execution_count": null,
   "id": "bba33bef",
   "metadata": {
    "ExecuteTime": {
     "end_time": "2022-04-15T13:02:30.330438Z",
     "start_time": "2022-04-15T13:02:30.135248Z"
    },
    "hidden": true
   },
   "outputs": [],
   "source": [
    "int_slider = widgets.IntSlider(\n",
    "    value=0, \n",
    "    min=0, max=res['W_mu'].shape[0]-1, step=1,\n",
    "    description='epoch'\n",
    ")\n",
    "\n",
    "def update(var):\n",
    "    W = res['W_mu'][var]\n",
    "    heatmap_vmin = res['W_mu'].min()\n",
    "    heatmap_vmax = res['W_mu'].max()\n",
    "    W_avg_over_time = np.mean(W, axis=0)\n",
    "    plt.figure(figsize=(5, 4))\n",
    "    ax = sns.heatmap(W_avg_over_time, cmap=\"RdBu_r\", annot=True, \n",
    "                     vmin=-1, vmax=1)\n",
    "#                      vmin=heatmap_vmin, vmax=heatmap_vmax)\n",
    "    ax.set_yticklabels(cell_types, fontsize=12)\n",
    "    ax.set_xticklabels(cell_types, fontsize=12)\n",
    "    plt.yticks(rotation=0)\n",
    "    plt.xticks(rotation=45)\n",
    "    plt.title('$\\hat{W}_{avg}$' + f' at epoch {var}', fontsize=15)\n",
    "\n",
    "interact(update, var=int_slider)"
   ]
  },
  {
   "cell_type": "markdown",
   "id": "da64e182",
   "metadata": {
    "ExecuteTime": {
     "end_time": "2021-12-10T17:27:06.830276Z",
     "start_time": "2021-12-10T17:27:06.802286Z"
    },
    "hidden": true
   },
   "source": [
    "Interpretation: $W_{i, j}$ is the effect of the $j^{th}$ latent function on the $i^{th }$ cell type."
   ]
  },
  {
   "cell_type": "code",
   "execution_count": null,
   "id": "156d301c",
   "metadata": {
    "ExecuteTime": {
     "end_time": "2022-04-15T13:02:31.645131Z",
     "start_time": "2022-04-15T13:02:31.327673Z"
    },
    "hidden": true
   },
   "outputs": [],
   "source": [
    "epoch_index = 25\n",
    "W = res['W_mu'][epoch_index]\n",
    "heatmap_vmin = W.min()\n",
    "heatmap_vmax = W.max()\n",
    "\n",
    "int_slider = widgets.IntSlider(\n",
    "    value=0, \n",
    "    min=0, max=99, step=1,\n",
    "    description='time'\n",
    ")\n",
    "\n",
    "def update(var):\n",
    "    W_at_time = W[var]\n",
    "    plt.figure(figsize=(12, 4))\n",
    "    plt.subplot(1, 2, 1)\n",
    "    ax = sns.heatmap(W_at_time, cmap=\"RdBu_r\", annot=True, \n",
    "                     vmin=-1, vmax=1)\n",
    "#                      vmin=heatmap_vmin, vmax=heatmap_vmax)\n",
    "    ax.set_yticklabels(cell_types, fontsize=12)\n",
    "    ax.set_xticklabels(cell_types, fontsize=12)\n",
    "    plt.yticks(rotation=0)\n",
    "    plt.xticks(rotation=45)\n",
    "    plt.title('$\\hat{W}$', fontsize=14)\n",
    "    plt.subplot(1, 2, 2)\n",
    "    y_preds = res['Y_pred'][epoch_index]\n",
    "    for i, cell_type in enumerate(cell_types):\n",
    "        plt.scatter(X.flatten(), df[cell_type], label=cell_type, s=15)\n",
    "        plt.plot(X_test.flatten(), y_preds[:, i])\n",
    "    plt.axvline(X_test.flatten()[var], c='tab:red', linestyle='--')\n",
    "    plt.legend(loc='upper left', fontsize=11)\n",
    "    plt.xticks(rotation=45)\n",
    "    plt.ylim([-0.5, 0.5])\n",
    "    plt.title('Proportion of cells over time by cell type', fontsize=13)\n",
    "\n",
    "interact(update, var=int_slider)"
   ]
  },
  {
   "cell_type": "code",
   "execution_count": null,
   "id": "d6f51967",
   "metadata": {
    "ExecuteTime": {
     "end_time": "2022-04-15T13:02:37.317303Z",
     "start_time": "2022-04-15T13:02:36.774199Z"
    },
    "hidden": true
   },
   "outputs": [],
   "source": [
    "plt.figure(figsize=(10, 6))\n",
    "linestyles = ['-', '--', '-.', ':']\n",
    "for i, cell_type_i in enumerate(cell_types):\n",
    "    for j, cell_type_j in enumerate(cell_types):\n",
    "        plt.plot(X_test.flatten(), W[:, i, j],\n",
    "                 linestyle=linestyles[i],\n",
    "                 label='$W_{%s,%s}$ (%s - %s interaction)' % (i, j, cell_type_i, cell_type_j))\n",
    "plt.legend(bbox_to_anchor=(1, 1), loc='upper left', fontsize=14)\n",
    "plt.title('Cell type interactions over time', fontsize=14)\n",
    "plt.ylabel('$W_{i, j}$', fontsize=14)\n",
    "plt.xlabel('time', fontsize=14)"
   ]
  },
  {
   "cell_type": "code",
   "execution_count": null,
   "id": "3725d84b",
   "metadata": {
    "ExecuteTime": {
     "end_time": "2022-04-15T13:02:43.326605Z",
     "start_time": "2022-04-15T13:02:42.020378Z"
    },
    "hidden": true
   },
   "outputs": [],
   "source": [
    "plt.figure(figsize=(18, 15))\n",
    "for i, cell_type_i in enumerate(cell_types):\n",
    "    for j, cell_type_j in enumerate(cell_types):\n",
    "        plt.subplot(4, 4, i*4 + j + 1)\n",
    "        line = plt.plot(X_test.flatten(), W[:, i, j])\n",
    "        W_i_j_samples = W_samples[:, :, i, j]\n",
    "        W_samples_75_percentile = np.percentile(W_i_j_samples, 75, axis=0)\n",
    "        W_samples_25_percentile = np.percentile(W_i_j_samples, 25, axis=0)\n",
    "        plt.fill_between(X_test.flatten(), W_samples_25_percentile, W_samples_75_percentile, alpha=0.2)\n",
    "        plt.ylabel('$W_{i, j}$', fontsize=14)\n",
    "        plt.xlabel('time', fontsize=14)\n",
    "        plt.ylim([-1, 1])\n",
    "        plt.title('$W_{%s,%s}$ (%s - %s)' % (i, j, cell_type_i, cell_type_j),\n",
    "                  fontsize=16)\n",
    "plt.tight_layout()"
   ]
  },
  {
   "cell_type": "markdown",
   "id": "f1265213",
   "metadata": {
    "heading_collapsed": true
   },
   "source": [
    "## All experiments combined (except B)"
   ]
  },
  {
   "cell_type": "code",
   "execution_count": null,
   "id": "72a52efa",
   "metadata": {
    "ExecuteTime": {
     "end_time": "2022-04-14T21:37:27.890136Z",
     "start_time": "2022-04-14T21:37:27.855153Z"
    },
    "hidden": true
   },
   "outputs": [],
   "source": [
    "df_a = pd.read_csv('data/CAR-T ratios and umap/CARA_ratios_processed.pkl', index_col='Hours post co-culture')\n",
    "# df_b_14 = pd.read_csv('data/CAR-T ratios and umap/CARB_14_ratios_processed.pkl', index_col='Hours post co-culture')\n",
    "# df_b_41 = pd.read_csv('data/CAR-T ratios and umap/CARB_41_ratios_processed.pkl', index_col='Hours post co-culture')\n",
    "df_c = pd.read_csv('data/CAR-T ratios and umap/CARC_ratios_processed.pkl', index_col='Hours post co-culture')\n",
    "df_d = pd.read_csv('data/CAR-T ratios and umap/CARD_ratios_processed.pkl', index_col='Hours post co-culture')\n",
    "df = pd.concat([df_a, df_c, df_d])\n",
    "df = df.sort_index()\n",
    "df"
   ]
  },
  {
   "cell_type": "code",
   "execution_count": null,
   "id": "64ea7cb0",
   "metadata": {
    "ExecuteTime": {
     "end_time": "2022-04-14T21:37:42.942076Z",
     "start_time": "2022-04-14T21:37:42.803137Z"
    },
    "hidden": true
   },
   "outputs": [],
   "source": [
    "plt.figure(figsize=(8, 5))\n",
    "cell_types = ['CLL', 'CD8+ T cells', 'Activated T cells', 'Exhausted T cells']\n",
    "for cell_type in cell_types:\n",
    "    plt.plot(df[cell_type] * df['total_cells_per_sample'], marker='o', linestyle='', label=cell_type)\n",
    "plt.legend(loc='upper left', fontsize=12)\n",
    "plt.title('Number of cells over time by cell type \\n (cell type proportion * total_cells_per_sample)', \n",
    "          fontsize=12)"
   ]
  },
  {
   "cell_type": "code",
   "execution_count": null,
   "id": "4b24cfc2",
   "metadata": {
    "ExecuteTime": {
     "end_time": "2022-04-14T21:38:03.952885Z",
     "start_time": "2022-04-14T21:38:03.807310Z"
    },
    "hidden": true,
    "scrolled": false
   },
   "outputs": [],
   "source": [
    "plt.figure(figsize=(8, 5))\n",
    "for cell_type in cell_types:\n",
    "    plt.plot(df[cell_type], marker='o', linestyle='', label=cell_type)\n",
    "plt.legend(loc='upper right', fontsize=12)\n",
    "# plt.ylim([-0.5, 0.5])\n",
    "plt.title('Proportion of cells over time by cell type', fontsize=14)"
   ]
  },
  {
   "cell_type": "markdown",
   "id": "28fa84b1",
   "metadata": {
    "hidden": true
   },
   "source": [
    "Center cell type proportions"
   ]
  },
  {
   "cell_type": "code",
   "execution_count": null,
   "id": "be276fa0",
   "metadata": {
    "ExecuteTime": {
     "end_time": "2022-04-14T21:38:24.634021Z",
     "start_time": "2022-04-14T21:38:24.607895Z"
    },
    "collapsed": true,
    "hidden": true
   },
   "outputs": [],
   "source": [
    "cell_type_means = df[cell_types].mean()\n",
    "df[cell_types] -= cell_type_means\n",
    "df"
   ]
  },
  {
   "cell_type": "code",
   "execution_count": null,
   "id": "8485236c",
   "metadata": {
    "ExecuteTime": {
     "end_time": "2022-04-14T21:38:35.449171Z",
     "start_time": "2022-04-14T21:38:35.310460Z"
    },
    "hidden": true,
    "scrolled": false
   },
   "outputs": [],
   "source": [
    "plt.figure(figsize=(8, 5))\n",
    "for cell_type in cell_types:\n",
    "    plt.plot(df[cell_type], marker='o', linestyle='', label=cell_type)\n",
    "plt.legend(loc='upper left', fontsize=12)\n",
    "plt.title('Proportion (zero-centered) of cells over time by cell type', fontsize=14)"
   ]
  },
  {
   "cell_type": "code",
   "execution_count": null,
   "id": "3b534233",
   "metadata": {
    "ExecuteTime": {
     "end_time": "2022-04-14T21:38:42.077423Z",
     "start_time": "2022-04-14T21:38:42.064756Z"
    },
    "hidden": true
   },
   "outputs": [],
   "source": [
    "# X = np.linspace(0, df.shape[0]-1, df.shape[0]).reshape(-1, 1)\n",
    "X = df.index.values.reshape(-1, 1)\n",
    "X[:3]"
   ]
  },
  {
   "cell_type": "code",
   "execution_count": null,
   "id": "3ed1a1b2",
   "metadata": {
    "ExecuteTime": {
     "end_time": "2022-04-14T21:38:47.293989Z",
     "start_time": "2022-04-14T21:38:47.285222Z"
    },
    "hidden": true
   },
   "outputs": [],
   "source": [
    "Y = df[cell_types].values"
   ]
  },
  {
   "cell_type": "code",
   "execution_count": null,
   "id": "c6a9da96",
   "metadata": {
    "ExecuteTime": {
     "end_time": "2022-04-14T21:38:48.776908Z",
     "start_time": "2022-04-14T21:38:48.764598Z"
    },
    "hidden": true
   },
   "outputs": [],
   "source": [
    "# Sweep out timepoints between 0 and 24 to predict on\n",
    "X_test = np.linspace(start=0, stop=df.index[-1], num=100).reshape(-1, 1)\n",
    "\n",
    "# Placeholder Y_test just for the SGPRN API\n",
    "Y_test = np.zeros((X_test.shape[0], Y.shape[1]))\n",
    "\n",
    "# For plotting uncentered points\n",
    "Y_uncentered = Y + cell_type_means.values"
   ]
  },
  {
   "cell_type": "markdown",
   "id": "f37f5556",
   "metadata": {
    "hidden": true
   },
   "source": [
    "Add priors for $f_i$'s based on mean of independent GP fits"
   ]
  },
  {
   "cell_type": "code",
   "execution_count": null,
   "id": "44d7502a",
   "metadata": {
    "ExecuteTime": {
     "end_time": "2022-04-14T21:39:09.990951Z",
     "start_time": "2022-04-14T21:39:09.629650Z"
    },
    "hidden": true
   },
   "outputs": [],
   "source": [
    "f_priors = []\n",
    "cell_type_color = [('CLL', 'tab:blue'), \n",
    "                   ('CD8+ T cells', 'tab:orange'), \n",
    "                   ('Activated T cells', 'tab:green'),\n",
    "                   ('Exhausted T cells', 'tab:red')]\n",
    "plt.figure(figsize=(18, 4))\n",
    "for i, y_i in enumerate(Y.T):\n",
    "    rbf = RBF(1)\n",
    "    gpr = GaussianProcessRegressor(kernel=rbf, alpha=0.03, random_state=0)\n",
    "    gpr.fit(X, y_i)\n",
    "    y_pred = gpr.predict(X_test)\n",
    "    f_priors.append(gpr.predict(X))\n",
    "    plt.subplot(1, 4, i+1)\n",
    "    plt.plot(X_test, y_pred + cell_type_means.values[i], c=cell_type_color[i][1])\n",
    "    plt.scatter(X, Y_uncentered.T[i], c=cell_type_color[i][1])\n",
    "    plt.title('$f_%s$ prior (%s)' % (i+1, cell_type_color[i][0]), fontsize=14)\n",
    "    if i==0: plt.ylabel('Proportion', fontsize=12)\n",
    "plt.suptitle('Independent GP fits to set $f_i$ priors', fontsize=15, y=1.05)\n",
    "f_priors = np.array(f_priors)"
   ]
  },
  {
   "cell_type": "markdown",
   "id": "eff45e02",
   "metadata": {
    "hidden": true
   },
   "source": [
    "Add regularization for $W$"
   ]
  },
  {
   "cell_type": "code",
   "execution_count": null,
   "id": "572f0948",
   "metadata": {
    "ExecuteTime": {
     "end_time": "2022-04-14T21:44:47.172127Z",
     "start_time": "2022-04-14T21:44:47.000619Z"
    },
    "hidden": true
   },
   "outputs": [],
   "source": [
    "W_reg_lambdas = np.array([[ 10, 0.1, 0.1, 0.1], \n",
    "                          [0.1,  10, 0.1, 0.1], \n",
    "                          [0.1, 0.1,  10, 0.1], \n",
    "                          [0.1, 0.1, 0.1, 10]])\n",
    "\n",
    "plt.figure(figsize=(5, 4))\n",
    "ax = sns.heatmap(W_reg_lambdas, cmap=\"Reds\", annot=True)\n",
    "ax.set_yticklabels(cell_types, fontsize=12)\n",
    "ax.set_xticklabels(cell_types, fontsize=12)\n",
    "plt.yticks(rotation=0)\n",
    "plt.xticks(rotation=45)\n",
    "plt.title('$W$ regularization penalty', fontsize=14)"
   ]
  },
  {
   "cell_type": "code",
   "execution_count": null,
   "id": "3a83c596",
   "metadata": {
    "ExecuteTime": {
     "end_time": "2022-04-14T21:44:47.916537Z",
     "start_time": "2022-04-14T21:44:47.891765Z"
    },
    "hidden": true
   },
   "outputs": [],
   "source": [
    "priors = {\n",
    "    # f priors based on independent GP fits\n",
    "    'F': f_priors.T.reshape(30, 4, 1),\n",
    "#     'W': W_prior_mean,\n",
    "#     'W_prior_min': W_prior_min,\n",
    "#     'W_prior_max': W_prior_max,\n",
    "    # default GPRN W prior\n",
    "    'W': tf.Variable(0.001*tf.random.truncated_normal([30, 4, 4], mean=0, stddev=1.0), \n",
    "                     dtype=tf.float32),\n",
    "    'W_reg_lambdas': W_reg_lambdas\n",
    "}"
   ]
  },
  {
   "cell_type": "code",
   "execution_count": null,
   "id": "8e168623",
   "metadata": {
    "ExecuteTime": {
     "end_time": "2022-04-14T21:44:51.754818Z",
     "start_time": "2022-04-14T21:44:51.740374Z"
    },
    "hidden": true
   },
   "outputs": [],
   "source": [
    "data = {\n",
    "    'N_all': X.shape[0],\n",
    "    'N_train': X.shape[0],\n",
    "    'N_test': X.shape[0],\n",
    "    'X_all': X,\n",
    "    'Y_all': Y,\n",
    "    'X_train': X,\n",
    "    'X_test': X_test,\n",
    "    'Y_train': Y,\n",
    "    'Y_test': Y_test,\n",
    "    'Y_mean': 0,\n",
    "    'Y_std': 1,\n",
    "    'Y_test_ground': Y,\n",
    "    'DList': [4, 1, 1],\n",
    "    'dname': 'None'\n",
    "}\n",
    "\n",
    "kernel = 'rbf'\n",
    "f_kernel_bandwidth = 100\n",
    "f_sigma = 0\n",
    "W_kernel_bandwidth = 100\n",
    "rank = 4\n",
    "maxIter = 2500\n",
    "interval = 100\n",
    "\n",
    "cfg = {\n",
    "    'data': data,\n",
    "    'jitter': 1e-3,\n",
    "    'init_std': 1e-3,\n",
    "    'epochs': maxIter,\n",
    "    'interval':interval,\n",
    "    'alpha':1e-2,\n",
    "    'ns': 100,\n",
    "    'Q': rank,\n",
    "    'kernel': kernel,\n",
    "    'f_kernel_bandwidth': f_kernel_bandwidth,\n",
    "    'f_sigma': f_sigma,\n",
    "    'W_kernel_bandwidth': W_kernel_bandwidth\n",
    "}"
   ]
  },
  {
   "cell_type": "code",
   "execution_count": null,
   "id": "4844e309",
   "metadata": {
    "ExecuteTime": {
     "end_time": "2022-04-14T21:45:09.658411Z",
     "start_time": "2022-04-14T21:44:52.025319Z"
    },
    "hidden": true,
    "scrolled": true
   },
   "outputs": [],
   "source": [
    "model = SGPRN(cfg, init_type=priors)\n",
    "res = model.fit()"
   ]
  },
  {
   "cell_type": "code",
   "execution_count": null,
   "id": "ff7babd5",
   "metadata": {
    "ExecuteTime": {
     "end_time": "2022-04-14T21:45:37.047784Z",
     "start_time": "2022-04-14T21:45:36.860828Z"
    },
    "hidden": true
   },
   "outputs": [],
   "source": [
    "plt.figure(figsize=(18, 5))\n",
    "\n",
    "plt.subplot(1, 2, 1)\n",
    "plt.plot(res['nelbos'][1:])\n",
    "plt.xlabel('Epochs')\n",
    "plt.ylabel('nelbos loss', fontsize=14)\n",
    "\n",
    "plt.subplot(1, 2, 2)\n",
    "plt.plot(res['nrmse'][1:])\n",
    "plt.xlabel('Epochs')\n",
    "plt.ylabel('nrmse', fontsize=14)\n",
    "\n",
    "plt.suptitle('GPRN training loss', fontsize=14)"
   ]
  },
  {
   "cell_type": "markdown",
   "id": "1834dbf3",
   "metadata": {
    "hidden": true
   },
   "source": [
    "Compare GPRN latent functions $f_i$'s vs $f_i$ priors"
   ]
  },
  {
   "cell_type": "code",
   "execution_count": null,
   "id": "d989ad31",
   "metadata": {
    "ExecuteTime": {
     "end_time": "2022-04-14T21:45:41.988949Z",
     "start_time": "2022-04-14T21:45:41.605805Z"
    },
    "hidden": true
   },
   "outputs": [],
   "source": [
    "int_slider = widgets.IntSlider(\n",
    "    value=0, \n",
    "    min=0, max=res['W_mu'].shape[0]-1, step=1,\n",
    "    description='epoch'\n",
    ")\n",
    "\n",
    "def update(var):\n",
    "    f_pred = res['f_mu'][var]\n",
    "    plt.figure(figsize=(18, 4))\n",
    "    plt.suptitle('GPRN latent functions $f_i$\\'s vs $f_i$ priors', fontsize=15, y=1.05)\n",
    "    for i, f_i in enumerate(f_priors):\n",
    "        plt.subplot(1, 4, i+1)\n",
    "        plt.plot(X.flatten(), f_i, c='tab:blue', label='Prior')\n",
    "        plt.plot(X_test.flatten(), f_pred[:, i].flatten(), c='tab:red', label='GPRN posterior')\n",
    "        plt.title(f'$f_{i+1}$ ({cell_types[i]})', fontsize=14)\n",
    "        plt.legend(loc='lower right', fontsize=12)\n",
    "\n",
    "interact(update, var=int_slider)"
   ]
  },
  {
   "cell_type": "markdown",
   "id": "3e18819d",
   "metadata": {
    "hidden": true
   },
   "source": [
    "Compare GPRN predictions $y$ vs actual"
   ]
  },
  {
   "cell_type": "code",
   "execution_count": null,
   "id": "0acb4fc0",
   "metadata": {
    "ExecuteTime": {
     "end_time": "2022-04-14T21:45:44.079343Z",
     "start_time": "2022-04-14T21:45:43.803947Z"
    },
    "hidden": true
   },
   "outputs": [],
   "source": [
    "int_slider = widgets.IntSlider(\n",
    "    value=0, \n",
    "    min=0, max=res['W_mu'].shape[0]-1, step=1,\n",
    "    description='epoch'\n",
    ")\n",
    "\n",
    "def update(var):\n",
    "    y_preds = res['Y_pred'][var]\n",
    "    plt.figure(figsize=(18, 4))\n",
    "    for i, y_i in enumerate(Y.T):\n",
    "        plt.subplot(1, 4, i+1)\n",
    "        plt.scatter(X.flatten(), Y_uncentered.T[i], s=15)\n",
    "        y_i_preds = y_preds[:, i]\n",
    "        y_i_preds_uncentered = y_i_preds + cell_type_means[i]\n",
    "        plt.plot(X_test.flatten(), y_i_preds_uncentered, c='tab:red')\n",
    "        plt.title(f'{df.columns[i]}', fontsize=14)\n",
    "        if i==0: plt.ylabel('Proportion', fontsize=12)\n",
    "        plt.ylim([0, 1])\n",
    "    plt.suptitle('GPRN predictions vs actual', fontsize=15, y=1.05)\n",
    "\n",
    "interact(update, var=int_slider)"
   ]
  },
  {
   "cell_type": "code",
   "execution_count": null,
   "id": "c38fd6b3",
   "metadata": {
    "ExecuteTime": {
     "end_time": "2022-04-14T21:46:26.356647Z",
     "start_time": "2022-04-14T21:46:23.563223Z"
    },
    "hidden": true
   },
   "outputs": [],
   "source": [
    "y_samples, W_samples = model.eval_test_post()\n",
    "\n",
    "plt.figure(figsize=(18, 4))\n",
    "for i in range(y_samples.shape[2]):\n",
    "    plt.subplot(1, 4, i+1)\n",
    "    for sample in y_samples[:100, :, i]:\n",
    "        plt.scatter(X_test.flatten(), sample, c='tab:red', s=0.5)\n",
    "    y_samples_95_percentile = np.percentile(y_samples[:, :, i], 90, axis=0)\n",
    "    y_samples_5_percentile = np.percentile(y_samples[:, :, i], 10, axis=0)\n",
    "    plt.plot(X_test.flatten(), y_samples_95_percentile, c='tab:blue', label='90th percentile')\n",
    "    plt.plot(X_test.flatten(), y_samples_5_percentile, c='tab:green', label='10th percentile')\n",
    "    plt.title(f'{df.columns[i]}', fontsize=14)\n",
    "    if i==0: plt.ylabel('Proportion', fontsize=12)\n",
    "    plt.legend(loc='upper left', fontsize=10)\n",
    "#     plt.ylim([-0.5, 0.5])\n",
    "plt.suptitle('GPRN posterior samples', fontsize=15, y=1.05)"
   ]
  },
  {
   "cell_type": "code",
   "execution_count": null,
   "id": "c838e932",
   "metadata": {
    "ExecuteTime": {
     "end_time": "2022-04-14T21:46:57.664544Z",
     "start_time": "2022-04-14T21:46:57.383329Z"
    },
    "hidden": true
   },
   "outputs": [],
   "source": [
    "epoch_index = 25\n",
    "y_preds = res['Y_pred'][epoch_index]\n",
    "\n",
    "cell_type_color = [('CLL', 'tab:blue'), \n",
    "                   ('CD8+ T cells', 'tab:orange'), \n",
    "                   ('Activated T cells', 'tab:green'),\n",
    "                   ('Exhausted T cells', 'tab:red')]\n",
    "\n",
    "plt.figure(figsize=(18, 4))\n",
    "for i, y_i in enumerate(Y.T):\n",
    "    plt.subplot(1, 4, i+1)\n",
    "    plt.scatter(X, Y_uncentered.T[i], c=cell_type_color[i][1], s=15)\n",
    "    y_i_preds = y_preds[:, i]\n",
    "    y_i_preds_uncentered = y_i_preds + cell_type_means[i]\n",
    "    plt.plot(X_test.flatten(), y_i_preds_uncentered, c=cell_type_color[i][1])\n",
    "    y_samples_75_percentile = np.percentile(y_samples[:, :, i], 75, axis=0)\n",
    "    y_samples_75_percentile_uncentered = y_samples_75_percentile + cell_type_means[i]\n",
    "    y_samples_25_percentile = np.percentile(y_samples[:, :, i], 25, axis=0)\n",
    "    y_samples_25_percentile_uncentered = y_samples_25_percentile + cell_type_means[i]\n",
    "    plt.fill_between(X_test.flatten(), y_samples_25_percentile_uncentered, \n",
    "                     y_samples_75_percentile_uncentered, \n",
    "                     color=cell_type_color[i][1], alpha=0.2)\n",
    "    plt.title(f'{cell_type_color[i][0]} proportion', fontsize=14)\n",
    "    if i==0: plt.ylabel('Proportion', fontsize=12)\n",
    "    plt.ylim([-0.1, 1.1])\n",
    "plt.suptitle('GPRN predictions vs actual', fontsize=15, y=1.05)"
   ]
  },
  {
   "cell_type": "code",
   "execution_count": null,
   "id": "fc9517c2",
   "metadata": {
    "ExecuteTime": {
     "end_time": "2022-04-14T21:47:07.340867Z",
     "start_time": "2022-04-14T21:47:07.169777Z"
    },
    "hidden": true
   },
   "outputs": [],
   "source": [
    "epoch_index = 25\n",
    "y_preds = res['Y_pred'][epoch_index]\n",
    "\n",
    "plt.figure(figsize=(9, 6))\n",
    "for i, cell_type in enumerate(cell_types):\n",
    "    plt.scatter(X.flatten(), Y_uncentered.T[i], label=cell_type, s=15)\n",
    "    y_i_preds = y_preds[:, i]\n",
    "    y_i_preds_uncentered = y_i_preds + cell_type_means[i]\n",
    "    plt.plot(X_test.flatten(), y_i_preds_uncentered)\n",
    "    y_samples_75_percentile = np.percentile(y_samples[:, :, i], 75, axis=0)\n",
    "    y_samples_75_percentile_uncentered = y_samples_75_percentile + cell_type_means[i]\n",
    "    y_samples_25_percentile = np.percentile(y_samples[:, :, i], 25, axis=0)\n",
    "    y_samples_25_percentile_uncentered = y_samples_25_percentile + cell_type_means[i]\n",
    "    plt.fill_between(X_test.flatten(), y_samples_25_percentile_uncentered, \n",
    "                     y_samples_75_percentile_uncentered, \n",
    "                     color=cell_type_color[i][1], alpha=0.2)\n",
    "plt.legend(loc='upper left', fontsize=12)\n",
    "plt.xticks(rotation=45)\n",
    "plt.ylim([-1, 1.5])\n",
    "plt.title('Proportion of cells over time by cell type', fontsize=14)"
   ]
  },
  {
   "cell_type": "code",
   "execution_count": null,
   "id": "594c709a",
   "metadata": {
    "ExecuteTime": {
     "end_time": "2022-04-14T21:47:09.399012Z",
     "start_time": "2022-04-14T21:47:09.205964Z"
    },
    "hidden": true
   },
   "outputs": [],
   "source": [
    "epoch_index = 25\n",
    "W = res['W_mu'][epoch_index]\n",
    "W_avg_over_time = np.mean(W, axis=0)\n",
    "\n",
    "plt.figure(figsize=(5, 4))\n",
    "ax = sns.heatmap(W_avg_over_time, cmap=\"RdBu_r\", annot=True, \n",
    "                 vmin=-1, vmax=1)\n",
    "ax.set_yticklabels(cell_types, fontsize=12)\n",
    "ax.set_xticklabels(cell_types, fontsize=12)\n",
    "plt.yticks(rotation=0)\n",
    "plt.xticks(rotation=45)\n",
    "plt.title('$\\hat{W}_{avg}$', fontsize=14)"
   ]
  },
  {
   "cell_type": "code",
   "execution_count": null,
   "id": "8f4a6cb9",
   "metadata": {
    "ExecuteTime": {
     "end_time": "2022-04-14T21:47:15.230372Z",
     "start_time": "2022-04-14T21:47:15.034957Z"
    },
    "hidden": true
   },
   "outputs": [],
   "source": [
    "int_slider = widgets.IntSlider(\n",
    "    value=0, \n",
    "    min=0, max=res['W_mu'].shape[0]-1, step=1,\n",
    "    description='epoch'\n",
    ")\n",
    "\n",
    "def update(var):\n",
    "    W = res['W_mu'][var]\n",
    "    heatmap_vmin = res['W_mu'].min()\n",
    "    heatmap_vmax = res['W_mu'].max()\n",
    "    W_avg_over_time = np.mean(W, axis=0)\n",
    "    plt.figure(figsize=(5, 4))\n",
    "    ax = sns.heatmap(W_avg_over_time, cmap=\"RdBu_r\", annot=True, \n",
    "                     vmin=-1, vmax=1)\n",
    "#                      vmin=heatmap_vmin, vmax=heatmap_vmax)\n",
    "    ax.set_yticklabels(cell_types, fontsize=12)\n",
    "    ax.set_xticklabels(cell_types, fontsize=12)\n",
    "    plt.yticks(rotation=0)\n",
    "    plt.xticks(rotation=45)\n",
    "    plt.title('$\\hat{W}_{avg}$' + f' at epoch {var}', fontsize=15)\n",
    "\n",
    "interact(update, var=int_slider)"
   ]
  },
  {
   "cell_type": "markdown",
   "id": "3e3d4a32",
   "metadata": {
    "ExecuteTime": {
     "end_time": "2021-12-10T17:27:06.830276Z",
     "start_time": "2021-12-10T17:27:06.802286Z"
    },
    "hidden": true
   },
   "source": [
    "Interpretation: $W_{i, j}$ is the effect of the $j^{th}$ latent function on the $i^{th }$ cell type."
   ]
  },
  {
   "cell_type": "code",
   "execution_count": null,
   "id": "f94e0e7e",
   "metadata": {
    "ExecuteTime": {
     "end_time": "2022-04-14T21:47:17.562338Z",
     "start_time": "2022-04-14T21:47:17.250769Z"
    },
    "hidden": true
   },
   "outputs": [],
   "source": [
    "epoch_index = 25\n",
    "W = res['W_mu'][epoch_index]\n",
    "heatmap_vmin = W.min()\n",
    "heatmap_vmax = W.max()\n",
    "\n",
    "int_slider = widgets.IntSlider(\n",
    "    value=0, \n",
    "    min=0, max=99, step=1,\n",
    "    description='time'\n",
    ")\n",
    "\n",
    "def update(var):\n",
    "    W_at_time = W[var]\n",
    "    plt.figure(figsize=(12, 4))\n",
    "    plt.subplot(1, 2, 1)\n",
    "    ax = sns.heatmap(W_at_time, cmap=\"RdBu_r\", annot=True, \n",
    "                     vmin=-1, vmax=1)\n",
    "#                      vmin=heatmap_vmin, vmax=heatmap_vmax)\n",
    "    ax.set_yticklabels(cell_types, fontsize=12)\n",
    "    ax.set_xticklabels(cell_types, fontsize=12)\n",
    "    plt.yticks(rotation=0)\n",
    "    plt.xticks(rotation=45)\n",
    "    plt.title('$\\hat{W}$', fontsize=14)\n",
    "    plt.subplot(1, 2, 2)\n",
    "    y_preds = res['Y_pred'][epoch_index]\n",
    "    for i, cell_type in enumerate(cell_types):\n",
    "        plt.scatter(X.flatten(), df[cell_type], label=cell_type, s=15)\n",
    "        plt.plot(X_test.flatten(), y_preds[:, i])\n",
    "    plt.axvline(X_test.flatten()[var], c='tab:red', linestyle='--')\n",
    "    plt.legend(loc='upper left', fontsize=11)\n",
    "    plt.xticks(rotation=45)\n",
    "    plt.ylim([-0.5, 0.5])\n",
    "    plt.title('Proportion of cells over time by cell type', fontsize=13)\n",
    "\n",
    "interact(update, var=int_slider)"
   ]
  },
  {
   "cell_type": "code",
   "execution_count": null,
   "id": "ee6d79b7",
   "metadata": {
    "ExecuteTime": {
     "end_time": "2022-04-14T21:47:26.864307Z",
     "start_time": "2022-04-14T21:47:26.383716Z"
    },
    "hidden": true
   },
   "outputs": [],
   "source": [
    "plt.figure(figsize=(10, 6))\n",
    "linestyles = ['-', '--', '-.', ':']\n",
    "for i, cell_type_i in enumerate(cell_types):\n",
    "    for j, cell_type_j in enumerate(cell_types):\n",
    "        plt.plot(X_test.flatten(), W[:, i, j],\n",
    "                 linestyle=linestyles[i],\n",
    "                 label='$W_{%s,%s}$ (%s - %s interaction)' % (i, j, cell_type_i, cell_type_j))\n",
    "plt.legend(bbox_to_anchor=(1, 1), loc='upper left', fontsize=14)\n",
    "plt.title('Cell type interactions over time', fontsize=14)\n",
    "plt.ylabel('$W_{i, j}$', fontsize=14)\n",
    "plt.xlabel('time', fontsize=14)"
   ]
  },
  {
   "cell_type": "code",
   "execution_count": null,
   "id": "a85ce74c",
   "metadata": {
    "ExecuteTime": {
     "end_time": "2022-04-14T21:47:31.310543Z",
     "start_time": "2022-04-14T21:47:30.053612Z"
    },
    "hidden": true
   },
   "outputs": [],
   "source": [
    "plt.figure(figsize=(18, 15))\n",
    "for i, cell_type_i in enumerate(cell_types):\n",
    "    for j, cell_type_j in enumerate(cell_types):\n",
    "        plt.subplot(4, 4, i*4 + j + 1)\n",
    "        line = plt.plot(X_test.flatten(), W[:, i, j])\n",
    "        W_i_j_samples = W_samples[:, :, i, j]\n",
    "        W_samples_75_percentile = np.percentile(W_i_j_samples, 75, axis=0)\n",
    "        W_samples_25_percentile = np.percentile(W_i_j_samples, 25, axis=0)\n",
    "        plt.fill_between(X_test.flatten(), W_samples_25_percentile, W_samples_75_percentile, alpha=0.2)\n",
    "        plt.ylabel('$W_{i, j}$', fontsize=14)\n",
    "        plt.xlabel('time', fontsize=14)\n",
    "        plt.ylim([-1, 1])\n",
    "        plt.title('$W_{%s,%s}$ (%s - %s)' % (i, j, cell_type_i, cell_type_j),\n",
    "                  fontsize=16)\n",
    "plt.tight_layout()"
   ]
  },
  {
   "cell_type": "code",
   "execution_count": null,
   "id": "9eed867f",
   "metadata": {
    "hidden": true
   },
   "outputs": [],
   "source": []
  }
 ],
 "metadata": {
  "kernelspec": {
   "display_name": "venv",
   "language": "python",
   "name": "python3"
  },
  "language_info": {
   "codemirror_mode": {
    "name": "ipython",
    "version": 3
   },
   "file_extension": ".py",
   "mimetype": "text/x-python",
   "name": "python",
   "nbconvert_exporter": "python",
   "pygments_lexer": "ipython3",
   "version": "3.9.16"
  },
  "toc": {
   "base_numbering": 1,
   "nav_menu": {},
   "number_sections": false,
   "sideBar": true,
   "skip_h1_title": false,
   "title_cell": "Table of Contents",
   "title_sidebar": "Contents",
   "toc_cell": false,
   "toc_position": {},
   "toc_section_display": true,
   "toc_window_display": false
  },
  "vscode": {
   "interpreter": {
    "hash": "085ad39e041ca671052cccda273d77b1485f1f568172f9b697b5fef7829a19af"
   }
  }
 },
 "nbformat": 4,
 "nbformat_minor": 5
}
