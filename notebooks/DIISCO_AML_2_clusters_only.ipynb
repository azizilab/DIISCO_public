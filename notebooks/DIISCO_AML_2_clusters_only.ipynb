{
 "cells": [
  {
   "cell_type": "markdown",
   "id": "b199b76b",
   "metadata": {},
   "source": [
    "# AML Cell-Cell Interaction Modeling with DIISCO"
   ]
  },
  {
   "cell_type": "code",
   "execution_count": null,
   "id": "77e3121b",
   "metadata": {
    "ExecuteTime": {
     "end_time": "2023-04-02T15:27:00.795158Z",
     "start_time": "2023-04-02T15:27:00.785301Z"
    }
   },
   "outputs": [],
   "source": [
    "cd .."
   ]
  },
  {
   "cell_type": "code",
   "execution_count": null,
   "id": "c182b18b",
   "metadata": {
    "ExecuteTime": {
     "end_time": "2023-04-02T15:27:03.740260Z",
     "start_time": "2023-04-02T15:27:02.235961Z"
    }
   },
   "outputs": [],
   "source": [
    "import pickle\n",
    "import numpy as np\n",
    "import pandas as pd\n",
    "import matplotlib.pyplot as plt\n",
    "import torch\n",
    "%matplotlib inline\n",
    "from matplotlib.colors import LogNorm\n",
    "import seaborn as sns\n",
    "#import tensorflow as tf\n",
    "#from Scalable_GPRN.model.SGPRN import SGPRN\n",
    "from sklearn.gaussian_process import GaussianProcessRegressor\n",
    "from sklearn.gaussian_process.kernels import RBF\n",
    "import ipywidgets as widgets\n",
    "from ipywidgets import interact\n",
    "import matplotlib.pyplot as plt\n",
    "# reload edited modules always\n",
    "%load_ext autoreload\n",
    "%autoreload 2\n",
    "from diisco import DIISCO\n",
    "import diisco.names as names\n"
   ]
  },
  {
   "cell_type": "code",
   "execution_count": null,
   "id": "b6f4cb4b",
   "metadata": {
    "ExecuteTime": {
     "end_time": "2023-04-02T15:27:04.284674Z",
     "start_time": "2023-04-02T15:27:04.259812Z"
    }
   },
   "outputs": [],
   "source": [
    "torch.set_default_dtype(torch.float64)"
   ]
  },
  {
   "cell_type": "code",
   "execution_count": null,
   "id": "058fc229",
   "metadata": {},
   "outputs": [],
   "source": [
    "ls ../../data/AML"
   ]
  },
  {
   "cell_type": "code",
   "execution_count": null,
   "id": "3399e93b",
   "metadata": {
    "ExecuteTime": {
     "end_time": "2023-04-02T15:27:04.566499Z",
     "start_time": "2023-04-02T15:27:04.536189Z"
    }
   },
   "outputs": [],
   "source": [
    "days_to_dli = pd.read_csv('../../data/AML/AML_days_to_DLI.csv')\n",
    "days_to_dli.head()"
   ]
  },
  {
   "cell_type": "code",
   "execution_count": null,
   "id": "89e424e5",
   "metadata": {
    "ExecuteTime": {
     "end_time": "2023-04-02T15:27:05.367347Z",
     "start_time": "2023-04-02T15:27:04.807712Z"
    }
   },
   "outputs": [],
   "source": [
    "cells_df = pd.read_csv('../../data/AML/umap_new_barcodes_revised.csv')\n",
    "cells_df = cells_df[cells_df['DATA'] == 'AML']\n",
    "cells_df = pd.merge(cells_df, days_to_dli, how='right', on='sample')\n",
    "cells_df"
   ]
  },
  {
   "cell_type": "code",
   "execution_count": null,
   "id": "b4064cc9",
   "metadata": {
    "ExecuteTime": {
     "end_time": "2023-04-02T15:27:05.390319Z",
     "start_time": "2023-04-02T15:27:05.368653Z"
    }
   },
   "outputs": [],
   "source": [
    "clusters_of_interest = {\n",
    "    0: 'T cell',\n",
    "     1: 'B cell',\n",
    "     7: 'T cell',\n",
    "     8: 'Myeloid',\n",
    "    14: 'AML',\n",
    "     16: 'HSC',\n",
    "     23: 'AML',\n",
    "     28: 'Myeloid',\n",
    "     30: 'NK cell',\n",
    "     36: 'B cell',\n",
    "     42: 'AML'\n",
    "}\n",
    "\n",
    "colors = {\n",
    "    'T cell': 'tab:blue',\n",
    "    'B cell': 'tab:pink',\n",
    "    'Myeloid': 'tab:red',\n",
    "    'AML': 'tab:gray',\n",
    "    'HSC': 'goldenrod',\n",
    "    'NK cell': 'tab:purple'\n",
    "}"
   ]
  },
  {
   "cell_type": "code",
   "execution_count": null,
   "id": "08cfc9f1",
   "metadata": {
    "ExecuteTime": {
     "end_time": "2023-04-02T15:27:05.863756Z",
     "start_time": "2023-04-02T15:27:05.828922Z"
    }
   },
   "outputs": [],
   "source": [
    "cells_df = cells_df[cells_df['days_to_DLI'] <= 1000]\n",
    "cells_df"
   ]
  },
  {
   "cell_type": "markdown",
   "id": "3ced7a95",
   "metadata": {},
   "source": [
    "## All Responders Model"
   ]
  },
  {
   "cell_type": "code",
   "execution_count": null,
   "id": "62a1507c",
   "metadata": {
    "ExecuteTime": {
     "end_time": "2023-04-02T15:27:06.930871Z",
     "start_time": "2023-04-02T15:27:06.901019Z"
    }
   },
   "outputs": [],
   "source": [
    "cells_df_responders = cells_df[cells_df['response'] == 'RESPONDER']\n",
    "cells_df_responders"
   ]
  },
  {
   "cell_type": "code",
   "execution_count": null,
   "id": "23e9edbb",
   "metadata": {
    "ExecuteTime": {
     "end_time": "2023-04-02T15:27:07.388707Z",
     "start_time": "2023-04-02T15:27:07.343629Z"
    }
   },
   "outputs": [],
   "source": [
    "sample_cluster_proportions = []\n",
    "\n",
    "all_clusters = sorted(cells_df_responders['cluster_number'].unique())\n",
    "for sample, sample_df in cells_df_responders.groupby('sample'):\n",
    "    cluster_proportions = sample_df['cluster_number'].value_counts(normalize=True)\n",
    "    cluster_proportions_dict = {cluster: (cluster_proportions[cluster] \n",
    "                                          if cluster in cluster_proportions\n",
    "                                          else 0)\n",
    "                                for cluster in all_clusters}\n",
    "    sample_cluster_proportions.append({\n",
    "        'sample': sample,\n",
    "        'days_to_DLI': sample_df.iloc[0]['days_to_DLI'],\n",
    "        **cluster_proportions_dict\n",
    "    })\n",
    "    \n",
    "sample_cluster_proportions_df = pd.DataFrame(sample_cluster_proportions)\n",
    "sample_cluster_proportions_df = sample_cluster_proportions_df.sort_values('days_to_DLI')\n",
    "sample_cluster_proportions_df"
   ]
  },
  {
   "cell_type": "code",
   "execution_count": null,
   "id": "ecf0742f",
   "metadata": {
    "ExecuteTime": {
     "end_time": "2023-04-02T15:27:07.827472Z",
     "start_time": "2023-04-02T15:27:07.803726Z"
    }
   },
   "outputs": [],
   "source": [
    "sample_cluster_proportions_df = sample_cluster_proportions_df[['sample', 'days_to_DLI'] \n",
    "                                                              + list(clusters_of_interest.keys())]\n",
    "sample_cluster_proportions_df"
   ]
  },
  {
   "cell_type": "code",
   "execution_count": null,
   "id": "9a6ba17f",
   "metadata": {
    "ExecuteTime": {
     "end_time": "2023-04-02T15:27:08.607032Z",
     "start_time": "2023-04-02T15:27:08.467310Z"
    }
   },
   "outputs": [],
   "source": [
    "cells_per_sample = cells_df_responders['sample'].value_counts(normalize=True)[sample_cluster_proportions_df['sample']]\n",
    "\n",
    "plt.figure(figsize=(18, 11))\n",
    "for i, cluster in enumerate(clusters_of_interest):\n",
    "    plt.subplot(3, 4, i+1)\n",
    "    plt.scatter(sample_cluster_proportions_df['days_to_DLI'], \n",
    "                sample_cluster_proportions_df[cluster], \n",
    "                s=cells_per_sample*500)\n",
    "    plt.title(f'Cluster {cluster} proportion', fontsize=15)\n",
    "    plt.xlabel('Days to/from DLI', fontsize=14)\n",
    "plt.suptitle(f'Responders cluster proportions', y=1.03, fontsize=18)\n",
    "plt.tight_layout()\n",
    "# plt.savefig('figures/AML_paper/cell_type_proportions_R.eps', bbox_inches='tight')"
   ]
  },
  {
   "cell_type": "code",
   "execution_count": null,
   "id": "57b82e7a",
   "metadata": {
    "ExecuteTime": {
     "end_time": "2023-04-02T15:27:09.425171Z",
     "start_time": "2023-04-02T15:27:09.396146Z"
    }
   },
   "outputs": [],
   "source": [
    "cluster_means = sample_cluster_proportions_df[clusters_of_interest].mean()\n",
    "cluster_std_devs = sample_cluster_proportions_df[clusters_of_interest].std()\n",
    "sample_cluster_proportions_df.loc[:, clusters_of_interest] -= cluster_means\n",
    "sample_cluster_proportions_df.loc[:, clusters_of_interest] /= cluster_std_devs\n",
    "sample_cluster_proportions_df"
   ]
  },
  {
   "cell_type": "code",
   "execution_count": null,
   "id": "fc8a6e7c",
   "metadata": {
    "ExecuteTime": {
     "end_time": "2023-04-02T15:27:10.188947Z",
     "start_time": "2023-04-02T15:27:10.163321Z"
    }
   },
   "outputs": [],
   "source": [
    "X = sample_cluster_proportions_df['days_to_DLI'].values.reshape(-1, 1)\n",
    "X"
   ]
  },
  {
   "cell_type": "code",
   "execution_count": null,
   "id": "940331f8",
   "metadata": {
    "ExecuteTime": {
     "end_time": "2023-04-02T15:27:10.890807Z",
     "start_time": "2023-04-02T15:27:10.867821Z"
    }
   },
   "outputs": [],
   "source": [
    "Y = sample_cluster_proportions_df[clusters_of_interest].values\n",
    "Y[:5]"
   ]
  },
  {
   "cell_type": "code",
   "execution_count": null,
   "id": "58c6ab62",
   "metadata": {},
   "outputs": [],
   "source": [
    "# plot y \n",
    "plt.figure(figsize=(40, 21))\n",
    "for i, cluster in enumerate(clusters_of_interest):\n",
    "    plt.subplot(3, 4, i+1)\n",
    "    plt.scatter(X, Y[:, i])\n",
    "    plt.title(f'Cluster {cluster} proportion', fontsize=15)\n",
    "    plt.xlabel('Days to/from DLI', fontsize=14)"
   ]
  },
  {
   "cell_type": "code",
   "execution_count": null,
   "id": "d88ee32b",
   "metadata": {
    "ExecuteTime": {
     "end_time": "2023-04-02T15:27:11.651366Z",
     "start_time": "2023-04-02T15:27:11.554598Z"
    }
   },
   "outputs": [],
   "source": [
    "# W_prior_variance = np.load('../../datra/AML/responder_interaction_scores.npy')\n",
    "#W_prior_variance = np.array([[0, 1], [1, 0]])\n",
    "\n",
    "# W_prior_variance = np.array([[W_prior_variance[0, 0], W_prior_variance[0, 4]], \n",
    "#                              [W_prior_variance[4,0], W_prior_variance[4,4]]])\n",
    "# W_prior_variance = np.ones_like(W_prior_variance)\n",
    "\n",
    "plt.figure(figsize=(8, 7))\n",
    "ax = sns.heatmap(W_prior_variance, cmap=\"Reds\", annot=True, fmt='.2f')\n",
    "ax.set_yticklabels(clusters_of_interest, fontsize=12)\n",
    "ax.set_xticklabels(clusters_of_interest, fontsize=12)\n",
    "plt.xlabel('Source cluster', fontsize=12)\n",
    "plt.ylabel('Target cluster', fontsize=12)\n",
    "plt.yticks(rotation=0)\n",
    "plt.xticks(rotation=45)\n",
    "plt.title('Interaction prior variances for responders \\n based on receptor-ligand expression', fontsize=14)\n",
    "# plt.savefig('figures/AML_paper/prior_construction_reg_penalties_R.eps')"
   ]
  },
  {
   "cell_type": "code",
   "execution_count": null,
   "id": "31f7d3ec",
   "metadata": {},
   "outputs": [],
   "source": [
    "# W_prior_variance should be a matrix of (n_clusters, n_clusters) with ones everywhere except for the diagonal \n",
    "# which should be zeros.\n",
    "W_prior_variance = np.ones((len(clusters_of_interest), len(clusters_of_interest)))\n",
    "np.fill_diagonal(W_prior_variance, 0)\n"
   ]
  },
  {
   "cell_type": "code",
   "execution_count": null,
   "id": "22b35173",
   "metadata": {},
   "outputs": [],
   "source": [
    "W_prior_variance"
   ]
  },
  {
   "cell_type": "code",
   "execution_count": null,
   "id": "08bc3869",
   "metadata": {
    "ExecuteTime": {
     "end_time": "2023-04-02T15:27:13.561957Z",
     "start_time": "2023-04-02T15:27:13.539965Z"
    }
   },
   "outputs": [],
   "source": [
    "timepoints = torch.tensor(X)\n",
    "proportions = torch.tensor(Y)\n",
    "prior_matrix = torch.tensor(W_prior_variance)\n",
    "n_timepoints, n_cell_types = proportions.shape\n",
    "\n",
    "# z score the proportions\n",
    "# proportions_mean = proportions.mean(dim=0)\n",
    "# proportions_std = proportions.std(dim=0)\n",
    "# proportions = (proportions - proportions_mean)/ (proportions_std)\n",
    "#proportions = proportions / proportions_std\n",
    "\n",
    "\n",
    "print('timepoints.shape:', timepoints.shape)\n",
    "print('cell_types.shape:', proportions.shape)"
   ]
  },
  {
   "cell_type": "code",
   "execution_count": null,
   "id": "efe80a50",
   "metadata": {
    "ExecuteTime": {
     "end_time": "2023-04-02T15:55:47.131678Z",
     "start_time": "2023-04-02T15:55:47.106379Z"
    }
   },
   "outputs": [],
   "source": [
    "# mean of all intervals\n",
    "lengthscale = np.mean(np.abs(X - X.T))\n",
    "lengthscale"
   ]
  },
  {
   "cell_type": "code",
   "execution_count": null,
   "id": "eab944db",
   "metadata": {
    "ExecuteTime": {
     "end_time": "2023-04-02T17:47:48.925367Z",
     "start_time": "2023-04-02T17:47:48.882036Z"
    }
   },
   "outputs": [],
   "source": [
    "hyper_init_vals = {\n",
    "    names.LENGTHSCALE_F: lengthscale,\n",
    "    names.LENGTHSCALE_W: lengthscale,\n",
    "    names.SIGMA_F: 0.3,\n",
    "    names.VARIANCE_F: 2,\n",
    "    names.SIGMA_W: 0.1,\n",
    "    names.VARIANCE_W: 2,\n",
    "    names.SIGMA_Y: 0.5,\n",
    "}\n",
    "print(hyper_init_vals)"
   ]
  },
  {
   "cell_type": "code",
   "execution_count": null,
   "id": "4648aed6",
   "metadata": {
    "ExecuteTime": {
     "end_time": "2023-04-02T17:47:49.121017Z",
     "start_time": "2023-04-02T17:47:49.080372Z"
    }
   },
   "outputs": [],
   "source": [
    "model = DIISCO(lambda_matrix=prior_matrix, hypers_init_vals=hyper_init_vals, verbose=True, verbose_freq=100)"
   ]
  },
  {
   "cell_type": "code",
   "execution_count": null,
   "id": "46c061f3",
   "metadata": {
    "ExecuteTime": {
     "end_time": "2023-04-02T17:47:49.403716Z",
     "start_time": "2023-04-02T17:47:49.235891Z"
    }
   },
   "outputs": [],
   "source": [
    "model.fit_and_set_f_prior_params(timepoints=timepoints, proportions=proportions, hypers=model.hypers_init_vals)\n",
    "eval_timepoints = torch.linspace(-200, 750, 100).view(-1, 1)\n",
    "\n",
    "n_samples = 1000\n",
    "n_eval_timepoints = eval_timepoints.shape[0]\n",
    "f_prior_np = model.sample_f_prior(eval_timepoints, n_samples=n_samples)\n",
    "\n",
    "plt.figure(figsize=(18, 11))\n",
    "for i in range(len(clusters_of_interest)):\n",
    "    eval_timepoints_np = eval_timepoints.detach().numpy()\n",
    "    f_prior_cell_type_np = f_prior_np[:, i, :].detach().numpy()\n",
    "    unscale = (lambda proportions: \n",
    "               np.clip(proportions * cluster_std_devs.values[i] + cluster_means.values[i], \n",
    "                       0, None))\n",
    "    mean = unscale(f_prior_cell_type_np.mean(axis=0))\n",
    "    upper = unscale(np.percentile(f_prior_cell_type_np, 97.5, axis=0))\n",
    "    lower = unscale(np.percentile(f_prior_cell_type_np, 2.5, axis=0))\n",
    "    plt.subplot(3, 4, i+1)\n",
    "    color = colors[list(clusters_of_interest.values())[i]]\n",
    "    plt.plot(eval_timepoints_np, mean, c=color)\n",
    "    plt.scatter(timepoints, unscale(proportions[:, i].flatten().detach().numpy()), \n",
    "                c=color, s=cells_per_sample*300)\n",
    "    plt.fill_between(eval_timepoints_np.flatten(), lower, upper, color=color, alpha=0.2)\n",
    "    plt.title('$f_{%s}$ latent (Cluster %s)' % (i+1, list(clusters_of_interest.keys())[i]), fontsize=14)\n",
    "    plt.xlabel('Days to/from DLI', fontsize=12)\n",
    "    if i%4==0: plt.ylabel('Proportion', fontsize=12)\n",
    "plt.subplots_adjust(hspace=0.4)\n",
    "plt.suptitle('Independent GP fits to set $f_i$ latent functions', fontsize=15, y=0.98)\n",
    "# plt.savefig('figures/AML_paper/indep_gp_fits_R.eps')"
   ]
  },
  {
   "cell_type": "code",
   "execution_count": null,
   "id": "8cb8db23",
   "metadata": {
    "ExecuteTime": {
     "end_time": "2023-04-02T17:53:44.189503Z",
     "start_time": "2023-04-02T17:47:49.407221Z"
    },
    "scrolled": true
   },
   "outputs": [],
   "source": [
    "model.fit(timepoints, proportions, n_iter=100000, lr=0.00003, hypers_to_optim=[], guide=\"MultivariateNormalFactorized\")"
   ]
  },
  {
   "cell_type": "code",
   "execution_count": null,
   "id": "587f2d10",
   "metadata": {
    "ExecuteTime": {
     "end_time": "2023-04-02T17:53:44.328608Z",
     "start_time": "2023-04-02T17:53:44.193324Z"
    }
   },
   "outputs": [],
   "source": [
    "start = 50\n",
    "loss_moving_avg = np.convolve(model.losses[start:], np.ones(100)/100, 'valid')\n",
    "plt.plot(loss_moving_avg)"
   ]
  },
  {
   "cell_type": "code",
   "execution_count": null,
   "id": "4def22d9",
   "metadata": {
    "ExecuteTime": {
     "end_time": "2023-04-02T17:53:52.231850Z",
     "start_time": "2023-04-02T17:53:50.310391Z"
    }
   },
   "outputs": [],
   "source": [
    "y = model.sample_observed_proportions(n_samples=1000).detach()"
   ]
  },
  {
   "cell_type": "code",
   "execution_count": null,
   "id": "4e86325a",
   "metadata": {
    "ExecuteTime": {
     "end_time": "2023-04-02T17:53:52.350065Z",
     "start_time": "2023-04-02T17:53:52.233391Z"
    }
   },
   "outputs": [],
   "source": [
    "from mimic_alpha.mimic_alpha import colorAlpha_to_rgb\n",
    "import matplotlib.colors as colors2\n",
    "\n",
    "plt.figure(figsize=(18, 11))\n",
    "for i in range(len(clusters_of_interest)):\n",
    "    cell_type_samples = y[:, :, i]\n",
    "#     unscale = lambda x: x\n",
    "    unscale = (lambda proportions: \n",
    "               np.clip(proportions * cluster_std_devs.values[i] + cluster_means.values[i], \n",
    "                       0, None))\n",
    "    mean = unscale(cell_type_samples.mean(axis=0))\n",
    "    percentile_75 = unscale(np.percentile(cell_type_samples, 95, axis=0))\n",
    "    percentile_25 = unscale(np.percentile(cell_type_samples, 5, axis=0))\n",
    "    plt.subplot(3, 4, i+1)\n",
    "    color = colors[list(clusters_of_interest.values())[i]]\n",
    "    plt.plot(timepoints, mean, c=color)\n",
    "    color_with_alpha = list(colors2.to_rgb(color)) + [0.2]\n",
    "    color_without_alpha = colorAlpha_to_rgb([color_with_alpha], 0.2)\n",
    "    plt.fill_between(timepoints.squeeze(), percentile_25, percentile_75, color=color_without_alpha)\n",
    "    plt.scatter(timepoints, unscale(proportions[:, i]), c=color, s=cells_per_sample*300)\n",
    "    plt.title(f'Cluster {list(clusters_of_interest.keys())[i]} proportion', fontsize=14)\n",
    "    plt.xlabel('Days to/from DLI', fontsize=12)\n",
    "    if i%4==0: plt.ylabel('Proportion', fontsize=12)\n",
    "    \n",
    "plt.suptitle('DIISCO predictions', fontsize=15, y=0.98)\n",
    "plt.subplots_adjust(hspace=0.4)\n",
    "# plt.savefig('figures/AML_paper/gprn_predictions_R.eps')"
   ]
  },
  {
   "cell_type": "code",
   "execution_count": null,
   "id": "9055f90e",
   "metadata": {
    "ExecuteTime": {
     "end_time": "2023-04-02T16:49:25.884354Z",
     "start_time": "2023-04-02T16:49:03.755936Z"
    }
   },
   "outputs": [],
   "source": [
    "predict_timepoints = torch.linspace(timepoints.min(), timepoints.max(), 1000).reshape(-1, 1)\n",
    "y_samples_predict = model.sample(predict_timepoints, n_samples=100, \n",
    "                                                    include_emission_variance=False)\n",
    "print(y_samples_predict.shape)\n",
    "#print(W_samples_predict.shape)"
   ]
  },
  {
   "cell_type": "code",
   "execution_count": null,
   "id": "4dda701e",
   "metadata": {
    "ExecuteTime": {
     "end_time": "2023-04-02T16:49:26.055635Z",
     "start_time": "2023-04-02T16:49:25.887878Z"
    }
   },
   "outputs": [],
   "source": [
    "from mimic_alpha.mimic_alpha import colorAlpha_to_rgb\n",
    "import matplotlib.colors as colors2\n",
    "\n",
    "plt.figure(figsize=(18, 11))\n",
    "for i in range(len(clusters_of_interest)):\n",
    "    cell_type_samples = y_samples_predict[:, :, i]\n",
    "    unscale = (lambda proportions: proportions * cluster_std_devs.values[i] + cluster_means.values[i])\n",
    "    mean = unscale(cell_type_samples.mean(axis=0))\n",
    "    x = predict_timepoints.squeeze().numpy()\n",
    "    percentile_75 = unscale(np.percentile(cell_type_samples, 75, axis=0))\n",
    "    percentile_25 = unscale(np.percentile(cell_type_samples, 25, axis=0))\n",
    "    plt.subplot(3, 4, i+1)\n",
    "    color = colors[list(clusters_of_interest.values())[i]]\n",
    "    plt.plot(x, mean, c=color)\n",
    "    color_with_alpha = list(colors2.to_rgb(color)) + [0.2]\n",
    "    color_without_alpha = colorAlpha_to_rgb([color_with_alpha], 0.2)\n",
    "    plt.fill_between(x, percentile_25, percentile_75, color=color_without_alpha)\n",
    "    plt.scatter(timepoints, unscale(proportions[:, i]), c=color, s=cells_per_sample*300)\n",
    "    plt.title(f'Cluster {list(clusters_of_interest.keys())[i]} proportion', fontsize=14)\n",
    "    plt.xlabel('Days to/from DLI', fontsize=12)\n",
    "    if i%4==0: plt.ylabel('Proportion', fontsize=12)\n",
    "    \n",
    "plt.suptitle('DIISCO predictions', fontsize=15, y=0.98)\n",
    "plt.subplots_adjust(hspace=0.4)\n",
    "# plt.savefig('figures/AML_paper/gprn_predictions_R.eps')"
   ]
  },
  {
   "cell_type": "code",
   "execution_count": null,
   "id": "d8c71a45",
   "metadata": {
    "ExecuteTime": {
     "end_time": "2023-04-02T16:50:58.941895Z",
     "start_time": "2023-04-02T16:50:58.756789Z"
    }
   },
   "outputs": [],
   "source": [
    "X_200_days_pre_dli_index = np.where(predict_timepoints > -200)[0][0]\n",
    "X_post_dli_index = np.where(predict_timepoints > 0)[0][0]\n",
    "X_200_days_post_dli_index = np.where(predict_timepoints > 200)[0][0]\n",
    "X_post_dli_index\n",
    "\n",
    "W = W_samples_predict.mean(axis=0)\n",
    "W_pre_dli = W[X_200_days_pre_dli_index:X_post_dli_index]\n",
    "W_post_dli = W[X_post_dli_index:X_200_days_post_dli_index]\n",
    "W_pre_dli_avg_over_time = W_pre_dli.mean(axis=0)\n",
    "W_post_dli_avg_over_time = W_post_dli.mean(axis=0)\n",
    "\n",
    "plt.figure(figsize=(18, 7))\n",
    "plt.subplot(1, 2, 1)\n",
    "ax = sns.heatmap(W_pre_dli_avg_over_time, cmap=\"RdBu_r\", annot=True, \n",
    "                 fmt='.2f', vmin=-5, vmax=5)\n",
    "ax.set_yticklabels(clusters_of_interest, fontsize=12)\n",
    "ax.set_xticklabels(clusters_of_interest, fontsize=12)\n",
    "plt.xlabel('Source cluster', fontsize=12)\n",
    "plt.ylabel('Target cluster', fontsize=12)\n",
    "plt.yticks(rotation=0)\n",
    "plt.xticks(rotation=45)\n",
    "plt.title('$\\hat{W}_{avg}$ (200 days pre-DLI)', fontsize=14)\n",
    "\n",
    "plt.subplot(1, 2, 2)\n",
    "ax = sns.heatmap(W_post_dli_avg_over_time, cmap=\"RdBu_r\", annot=True, \n",
    "                 fmt='.2f', vmin=-5, vmax=5)\n",
    "ax.set_yticklabels(clusters_of_interest, fontsize=12)\n",
    "ax.set_xticklabels(clusters_of_interest, fontsize=12)\n",
    "plt.xlabel('Source cluster', fontsize=12)\n",
    "plt.ylabel('Target cluster', fontsize=12)\n",
    "plt.yticks(rotation=0)\n",
    "plt.xticks(rotation=45)\n",
    "plt.title('$\\hat{W}_{avg}$ (200 days post-DLI)', fontsize=14)\n",
    "# plt.savefig('figures/AML_paper/W_avg_pre_post_DLI_R.eps')"
   ]
  },
  {
   "cell_type": "code",
   "execution_count": null,
   "id": "311c4755",
   "metadata": {
    "ExecuteTime": {
     "end_time": "2023-04-02T16:51:04.951283Z",
     "start_time": "2023-04-02T16:51:04.850999Z"
    }
   },
   "outputs": [],
   "source": [
    "W_mean_over_time = W_samples_predict.mean(axis=0)\n",
    "show_line_threshold = 0\n",
    "\n",
    "plt.figure(figsize=(10, 6))\n",
    "linestyles = ['-', '--', '-.', ':', '-', '--', '-.', ':']\n",
    "for i, cluster_i in enumerate(clusters_of_interest):\n",
    "    for j, cluster_j in enumerate(clusters_of_interest):\n",
    "        show_line = (np.abs(W_mean_over_time[:, i, j]) > show_line_threshold).any()\n",
    "        if show_line and i!= j:\n",
    "            plt.plot(predict_timepoints.squeeze().numpy(),\n",
    "                     W_mean_over_time[:, i, j],\n",
    "                     linestyle=linestyles[i%8],\n",
    "                     label='%s --> %s interaction' % (cluster_j, cluster_i))\n",
    "plt.legend(bbox_to_anchor=(1, 1.02), loc='upper left', fontsize=14)\n",
    "plt.title('Strongest cluster interactions over time', fontsize=14)\n",
    "plt.ylabel('$W_{i, j}$', fontsize=14)\n",
    "plt.xlabel('Days to/from DLI', fontsize=14)\n",
    "# plt.savefig('figures/AML_paper/W_over_time_R.eps', bbox_inches='tight')"
   ]
  },
  {
   "cell_type": "code",
   "execution_count": null,
   "id": "e7979ac0",
   "metadata": {
    "ExecuteTime": {
     "end_time": "2023-04-02T16:51:11.596340Z",
     "start_time": "2023-04-02T16:51:11.572100Z"
    }
   },
   "outputs": [],
   "source": [
    "W_mean_over_time.shape"
   ]
  },
  {
   "cell_type": "code",
   "execution_count": null,
   "id": "9a6ed083",
   "metadata": {
    "ExecuteTime": {
     "end_time": "2023-04-02T16:51:11.804526Z",
     "start_time": "2023-04-02T16:51:11.752101Z"
    }
   },
   "outputs": [],
   "source": [
    "f_prior_np = model.sample_f_prior(predict_timepoints, n_samples=1000)\n",
    "f_mean_over_time = f_prior_np.mean(axis=0)\n",
    "f_mean_over_time.shape"
   ]
  },
  {
   "cell_type": "code",
   "execution_count": null,
   "id": "5db66a5d",
   "metadata": {
    "ExecuteTime": {
     "end_time": "2023-04-02T16:51:12.083243Z",
     "start_time": "2023-04-02T16:51:12.058888Z"
    }
   },
   "outputs": [],
   "source": [
    "y_pred = torch.stack([W_mean_over_time[i] @ f_mean_over_time[:, i] \n",
    "                      for i in range(len(predict_timepoints))])\n",
    "y_pred.shape"
   ]
  },
  {
   "cell_type": "code",
   "execution_count": null,
   "id": "6e57055f",
   "metadata": {
    "ExecuteTime": {
     "end_time": "2023-04-02T16:51:12.646268Z",
     "start_time": "2023-04-02T16:51:12.532901Z"
    }
   },
   "outputs": [],
   "source": [
    "from mimic_alpha.mimic_alpha import colorAlpha_to_rgb\n",
    "import matplotlib.colors as colors2\n",
    "\n",
    "plt.figure(figsize=(18, 11))\n",
    "for i in range(len(clusters_of_interest)):\n",
    "    unscale = (lambda proportions: proportions * cluster_std_devs.values[i] + cluster_means.values[i])\n",
    "    x = predict_timepoints.squeeze().numpy()\n",
    "    y_i_pred = unscale(y_pred[:, i])\n",
    "    plt.subplot(3, 4, i+1)\n",
    "    color = colors[list(clusters_of_interest.values())[i]]\n",
    "    plt.plot(x, y_i_pred, c=color)\n",
    "    plt.scatter(timepoints, unscale(proportions[:, i]), c=color, s=cells_per_sample*300)\n",
    "    plt.title(f'Cluster {list(clusters_of_interest.keys())[i]} proportion', fontsize=14)\n",
    "    plt.xlabel('Days to/from DLI', fontsize=12)\n",
    "    if i%4==0: plt.ylabel('Proportion', fontsize=12)\n",
    "    \n",
    "plt.suptitle('DIISCO predictions', fontsize=15, y=0.98)\n",
    "plt.subplots_adjust(hspace=0.4)\n",
    "# plt.savefig('figures/AML_paper/gprn_predictions_R.eps')"
   ]
  },
  {
   "cell_type": "code",
   "execution_count": null,
   "id": "a8288386",
   "metadata": {},
   "outputs": [],
   "source": []
  }
 ],
 "metadata": {
  "kernelspec": {
   "display_name": "venv",
   "language": "python",
   "name": "python3"
  },
  "language_info": {
   "codemirror_mode": {
    "name": "ipython",
    "version": 3
   },
   "file_extension": ".py",
   "mimetype": "text/x-python",
   "name": "python",
   "nbconvert_exporter": "python",
   "pygments_lexer": "ipython3",
   "version": "3.11.2"
  },
  "toc": {
   "base_numbering": 1,
   "nav_menu": {},
   "number_sections": false,
   "sideBar": true,
   "skip_h1_title": false,
   "title_cell": "Table of Contents",
   "title_sidebar": "Contents",
   "toc_cell": false,
   "toc_position": {},
   "toc_section_display": true,
   "toc_window_display": false
  },
  "vscode": {
   "interpreter": {
    "hash": "f77d1be879e523d4b76b323f87ef3d242533e841838f28380630370ba453f925"
   }
  }
 },
 "nbformat": 4,
 "nbformat_minor": 5
}
